{
 "cells": [
  {
   "cell_type": "code",
   "execution_count": 1,
   "metadata": {},
   "outputs": [],
   "source": [
    "# Dependencies\n",
    "import csv"
   ]
  },
  {
   "cell_type": "code",
   "execution_count": 2,
   "metadata": {},
   "outputs": [],
   "source": [
    "# Files to load and output (Remember to change these)\n",
    "file_to_load = \"raw_data/budget_data_1.csv\"\n",
    "file_to_output = \"analysis/budget_analysis_1.txt\""
   ]
  },
  {
   "cell_type": "code",
   "execution_count": 3,
   "metadata": {},
   "outputs": [],
   "source": [
    "# Track various revenue parameters\n",
    "total_months = 0\n",
    "prev_revenue = 0\n",
    "month_of_change = []\n",
    "revenue_change_list = []\n",
    "greatest_increase = [\"\", 0]\n",
    "greatest_decrease = [\"\", 9999999999999999999]\n",
    "total_revenue = 0"
   ]
  },
  {
   "cell_type": "code",
   "execution_count": 4,
   "metadata": {},
   "outputs": [],
   "source": [
    "# Read the csv and convert it into a list of dictionaries\n",
    "with open(file_to_load) as revenue_data:\n",
    "    reader = csv.DictReader(revenue_data)\n",
    "\n",
    "    for row in reader:\n",
    "\n",
    "        # Track the total\n",
    "        total_months = total_months + 1\n",
    "        total_revenue = total_revenue + int(row[\"Revenue\"])\n",
    "\n",
    "        # Track the revenue change\n",
    "        revenue_change = int(row[\"Revenue\"]) - prev_revenue\n",
    "        prev_revenue = int(row[\"Revenue\"])\n",
    "        revenue_change_list = revenue_change_list + [revenue_change]\n",
    "        month_of_change = month_of_change + [row[\"Date\"]]\n",
    "\n",
    "        # Calculate the greatest increase\n",
    "        if (revenue_change > greatest_increase[1]):\n",
    "            greatest_increase[0] = row[\"Date\"]\n",
    "            greatest_increase[1] = revenue_change\n",
    "\n",
    "        # Calculate the greatest decrease\n",
    "        if (revenue_change < greatest_decrease[1]):\n",
    "            greatest_decrease[0] = row[\"Date\"]\n",
    "            greatest_decrease[1] = revenue_change\n"
   ]
  },
  {
   "cell_type": "code",
   "execution_count": 5,
   "metadata": {},
   "outputs": [
    {
     "data": {
      "text/plain": [
       "21559.365853658535"
      ]
     },
     "execution_count": 5,
     "metadata": {},
     "output_type": "execute_result"
    }
   ],
   "source": [
    "# Calculate the Average Revenue Change\n",
    "revenue_avg = sum(revenue_change_list) / len(revenue_change_list)\n",
    "revenue_avg"
   ]
  },
  {
   "cell_type": "code",
   "execution_count": 7,
   "metadata": {},
   "outputs": [],
   "source": [
    "# Generate Output Summary\n",
    "output = (\n",
    "    f\"\\nFinancial Analysis\\n\"\n",
    "    f\"----------------------------\\n\"\n",
    "    f\"Total Months: {total_months}\\n\"\n",
    "    f\"Total Revenue: ${total_revenue}\\n\"\n",
    "    f\"Average Revenue Change: ${revenue_avg}\\n\"\n",
    "    f\"Greatest Increase in Revenue: {greatest_increase[0]} (${greatest_increase[1]})\\n\"\n",
    "    f\"Greatest Decrease in Revenue: {greatest_decrease[0]} (${greatest_decrease[1]})\\n\")"
   ]
  },
  {
   "cell_type": "code",
   "execution_count": 8,
   "metadata": {},
   "outputs": [
    {
     "name": "stdout",
     "output_type": "stream",
     "text": [
      "\n",
      "Financial Analysis\n",
      "----------------------------\n",
      "Total Months: 41\n",
      "Total Revenue: $18971412\n",
      "Average Revenue Change: $21559.365853658535\n",
      "Greatest Increase in Revenue: Feb-16 ($1837235)\n",
      "Greatest Decrease in Revenue: Aug-14 ($-1779747)\n",
      "\n"
     ]
    }
   ],
   "source": [
    "# Print the output (to terminal)\n",
    "print(output)"
   ]
  },
  {
   "cell_type": "code",
   "execution_count": 9,
   "metadata": {},
   "outputs": [],
   "source": [
    "# Export the results to text file\n",
    "with open(file_to_output, \"w\") as txt_file:\n",
    "    txt_file.write(output)"
   ]
  },
  {
   "cell_type": "code",
   "execution_count": null,
   "metadata": {},
   "outputs": [],
   "source": []
  }
 ],
 "metadata": {
  "kernelspec": {
   "display_name": "Python 3",
   "language": "python",
   "name": "python3"
  },
  "language_info": {
   "codemirror_mode": {
    "name": "ipython",
    "version": 3
   },
   "file_extension": ".py",
   "mimetype": "text/x-python",
   "name": "python",
   "nbconvert_exporter": "python",
   "pygments_lexer": "ipython3",
   "version": "3.6.5"
  }
 },
 "nbformat": 4,
 "nbformat_minor": 2
}
