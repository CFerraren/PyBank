{
 "cells": [
  {
   "cell_type": "markdown",
   "metadata": {},
   "source": [
    "# Analyze 2012-2016 Revenue Performance\n",
    "\n",
    "In this challenge, I created a Python script for analyzing the financial records of PyBank.\n",
    "\n",
    "This notebook will bring all the data sources together and format them for further analysis.\n",
    "\n",
    "\n",
    "## Data Sources:\n",
    "* revenue_2009_2016.csv : Processed data from the data-prep\n",
    "\n",
    "\n",
    "Each dataset is composed of two columns: Date and Revenue.\n",
    "\n",
    "\n",
    "\n",
    "### Task is to create a Python script that analyzes the records to calculate each of the following:\n",
    "\n",
    "- The total number of months included in the dataset.\n",
    "\n",
    "- The total amount of revenue gained over the entire period.\n",
    "\n",
    "- The average change in revenue between months over the entire period.\n",
    "\n",
    "- The greatest increase in revenue (date and amount) over the entire period.\n",
    "\n",
    "- The greatest decrease in revenue (date and amount) over the entire period.\n",
    "\n",
    "\n",
    "### Changes:\n",
    "\n",
    "- 02-12-2018: Started the project\n",
    "\n",
    "- 12-11-2018: Updated the project using Python Pandas and added visualization using matplotlib, Tableau, and Univariate Linear Regression Machine learning to predict future bank revenue.\n",
    "\n",
    "\n",
    "---"
   ]
  },
  {
   "cell_type": "code",
   "execution_count": 1,
   "metadata": {},
   "outputs": [],
   "source": [
    "# Import Libraries\n",
    "\n",
    "import pandas as pd\n",
    "import numpy as np\n",
    "import os\n",
    "\n",
    "%matplotlib inline\n",
    "import matplotlib.pyplot as plt\n",
    "import seaborn as sns\n",
    "sns.set_style('whitegrid')\n"
   ]
  },
  {
   "cell_type": "code",
   "execution_count": 2,
   "metadata": {},
   "outputs": [],
   "source": [
    "def color_negative_red(val):\n",
    "    \"\"\"\n",
    "    Takes a scalar and returns a string with\n",
    "    the css property `'color: red'` for negative\n",
    "    strings, black otherwise.\n",
    "    \"\"\"\n",
    "    color = 'red' if val < 0 else 'black'\n",
    "    return 'color: %s' % color"
   ]
  },
  {
   "cell_type": "code",
   "execution_count": 3,
   "metadata": {},
   "outputs": [],
   "source": [
    "def highlight_max(s):\n",
    "    '''\n",
    "    highlight the maximum in a Series yellow.\n",
    "    '''\n",
    "    is_max = s == s.max()\n",
    "    return ['background-color: yellow' if v else '' for v in is_max]"
   ]
  },
  {
   "cell_type": "code",
   "execution_count": 4,
   "metadata": {},
   "outputs": [],
   "source": [
    "# Directory Location and Filenames\n",
    "\n",
    "dir = 'data/processed/'\n",
    "file = 'revenue_2009_2016.csv'"
   ]
  },
  {
   "cell_type": "code",
   "execution_count": 5,
   "metadata": {},
   "outputs": [
    {
     "data": {
      "text/html": [
       "<div>\n",
       "<style scoped>\n",
       "    .dataframe tbody tr th:only-of-type {\n",
       "        vertical-align: middle;\n",
       "    }\n",
       "\n",
       "    .dataframe tbody tr th {\n",
       "        vertical-align: top;\n",
       "    }\n",
       "\n",
       "    .dataframe thead th {\n",
       "        text-align: right;\n",
       "    }\n",
       "</style>\n",
       "<table border=\"1\" class=\"dataframe\">\n",
       "  <thead>\n",
       "    <tr style=\"text-align: right;\">\n",
       "      <th></th>\n",
       "      <th>Revenue</th>\n",
       "    </tr>\n",
       "    <tr>\n",
       "      <th>Date</th>\n",
       "      <th></th>\n",
       "    </tr>\n",
       "  </thead>\n",
       "  <tbody>\n",
       "    <tr>\n",
       "      <th>2009-01-01</th>\n",
       "      <td>943690.0</td>\n",
       "    </tr>\n",
       "    <tr>\n",
       "      <th>2009-02-01</th>\n",
       "      <td>1062565.0</td>\n",
       "    </tr>\n",
       "    <tr>\n",
       "      <th>2009-03-01</th>\n",
       "      <td>210079.0</td>\n",
       "    </tr>\n",
       "    <tr>\n",
       "      <th>2009-04-01</th>\n",
       "      <td>-735286.0</td>\n",
       "    </tr>\n",
       "    <tr>\n",
       "      <th>2009-05-01</th>\n",
       "      <td>842933.0</td>\n",
       "    </tr>\n",
       "  </tbody>\n",
       "</table>\n",
       "</div>"
      ],
      "text/plain": [
       "              Revenue\n",
       "Date                 \n",
       "2009-01-01   943690.0\n",
       "2009-02-01  1062565.0\n",
       "2009-03-01   210079.0\n",
       "2009-04-01  -735286.0\n",
       "2009-05-01   842933.0"
      ]
     },
     "execution_count": 5,
     "metadata": {},
     "output_type": "execute_result"
    }
   ],
   "source": [
    "# Load Data into csv\n",
    "\n",
    "df = pd.read_csv(os.path.join(dir, file), parse_dates=['Date'], index_col='Date')\n",
    "df[:5]"
   ]
  },
  {
   "cell_type": "code",
   "execution_count": 6,
   "metadata": {},
   "outputs": [],
   "source": [
    "## Display - typeformat\n",
    "\n",
    "pd.set_option('display.float_format', '{:,.0f}'.format)"
   ]
  },
  {
   "cell_type": "code",
   "execution_count": 7,
   "metadata": {},
   "outputs": [
    {
     "data": {
      "text/plain": [
       "Revenue    float64\n",
       "dtype: object"
      ]
     },
     "execution_count": 7,
     "metadata": {},
     "output_type": "execute_result"
    }
   ],
   "source": [
    "df.dtypes"
   ]
  },
  {
   "cell_type": "code",
   "execution_count": 8,
   "metadata": {},
   "outputs": [
    {
     "data": {
      "text/plain": [
       "Index      688\n",
       "Revenue    688\n",
       "dtype: int64"
      ]
     },
     "execution_count": 8,
     "metadata": {},
     "output_type": "execute_result"
    }
   ],
   "source": [
    "df.memory_usage(deep=True)"
   ]
  },
  {
   "cell_type": "markdown",
   "metadata": {},
   "source": [
    "## Exploratory Data Analysis (EDA)"
   ]
  },
  {
   "cell_type": "code",
   "execution_count": 9,
   "metadata": {},
   "outputs": [
    {
     "data": {
      "image/png": "[encoded data removed]",
      "text/plain": [
       "<Figure size 432x360 with 1 Axes>"
      ]
     },
     "metadata": {
      "needs_background": "light"
     },
     "output_type": "display_data"
    }
   ],
   "source": [
    "plt.figure(figsize=(6, 5))\n",
    "ax = sns.boxenplot(data=df['Revenue'], orient='h')"
   ]
  },
  {
   "cell_type": "code",
   "execution_count": 10,
   "metadata": {},
   "outputs": [
    {
     "data": {
      "text/html": [
       "<div>\n",
       "<style scoped>\n",
       "    .dataframe tbody tr th:only-of-type {\n",
       "        vertical-align: middle;\n",
       "    }\n",
       "\n",
       "    .dataframe tbody tr th {\n",
       "        vertical-align: top;\n",
       "    }\n",
       "\n",
       "    .dataframe thead th {\n",
       "        text-align: right;\n",
       "    }\n",
       "</style>\n",
       "<table border=\"1\" class=\"dataframe\">\n",
       "  <thead>\n",
       "    <tr style=\"text-align: right;\">\n",
       "      <th></th>\n",
       "      <th>count</th>\n",
       "      <th>mean</th>\n",
       "      <th>std</th>\n",
       "      <th>min</th>\n",
       "      <th>25%</th>\n",
       "      <th>50%</th>\n",
       "      <th>75%</th>\n",
       "      <th>max</th>\n",
       "    </tr>\n",
       "  </thead>\n",
       "  <tbody>\n",
       "    <tr>\n",
       "      <th>Revenue</th>\n",
       "      <td>86</td>\n",
       "      <td>650,527</td>\n",
       "      <td>680,460</td>\n",
       "      <td>-1,063,151</td>\n",
       "      <td>279,551</td>\n",
       "      <td>686,900</td>\n",
       "      <td>1,118,162</td>\n",
       "      <td>2,211,086</td>\n",
       "    </tr>\n",
       "  </tbody>\n",
       "</table>\n",
       "</div>"
      ],
      "text/plain": [
       "         count    mean     std        min     25%     50%       75%       max\n",
       "Revenue     86 650,527 680,460 -1,063,151 279,551 686,900 1,118,162 2,211,086"
      ]
     },
     "execution_count": 10,
     "metadata": {},
     "output_type": "execute_result"
    }
   ],
   "source": [
    "df.describe().T"
   ]
  },
  {
   "cell_type": "code",
   "execution_count": 11,
   "metadata": {},
   "outputs": [
    {
     "data": {
      "text/plain": [
       "<matplotlib.axes._subplots.AxesSubplot at 0x7ff28219f240>"
      ]
     },
     "execution_count": 11,
     "metadata": {},
     "output_type": "execute_result"
    },
    {
     "data": {
      "image/png": "[encoded data removed]",
      "text/plain": [
       "<Figure size 576x360 with 1 Axes>"
      ]
     },
     "metadata": {
      "needs_background": "light"
     },
     "output_type": "display_data"
    }
   ],
   "source": [
    "# Plot the Distribution for Revenue\n",
    "plt.figure(figsize=(8, 5))\n",
    "sns.distplot(df['Revenue'])"
   ]
  },
  {
   "cell_type": "markdown",
   "metadata": {},
   "source": [
    "### Monthly Revenue Across the Years\n",
    "\n",
    "- Find out what months are profitable and months that have revenue losses."
   ]
  },
  {
   "cell_type": "code",
   "execution_count": 12,
   "metadata": {},
   "outputs": [
    {
     "data": {
      "text/html": [
       "<style  type=\"text/css\" >\n",
       "    #T_be15938c_feaf_11e8_aed6_0242ac110002row0_col0 {\n",
       "            color:  black;\n",
       "            : ;\n",
       "        }    #T_be15938c_feaf_11e8_aed6_0242ac110002row1_col0 {\n",
       "            color:  black;\n",
       "            : ;\n",
       "        }    #T_be15938c_feaf_11e8_aed6_0242ac110002row2_col0 {\n",
       "            color:  red;\n",
       "            : ;\n",
       "        }    #T_be15938c_feaf_11e8_aed6_0242ac110002row3_col0 {\n",
       "            color:  black;\n",
       "            : ;\n",
       "        }    #T_be15938c_feaf_11e8_aed6_0242ac110002row4_col0 {\n",
       "            color:  black;\n",
       "            : ;\n",
       "        }    #T_be15938c_feaf_11e8_aed6_0242ac110002row5_col0 {\n",
       "            color:  black;\n",
       "            : ;\n",
       "        }    #T_be15938c_feaf_11e8_aed6_0242ac110002row6_col0 {\n",
       "            color:  black;\n",
       "            : ;\n",
       "        }    #T_be15938c_feaf_11e8_aed6_0242ac110002row7_col0 {\n",
       "            color:  red;\n",
       "            : ;\n",
       "        }    #T_be15938c_feaf_11e8_aed6_0242ac110002row8_col0 {\n",
       "            color:  black;\n",
       "            : ;\n",
       "        }    #T_be15938c_feaf_11e8_aed6_0242ac110002row9_col0 {\n",
       "            color:  black;\n",
       "            : ;\n",
       "        }    #T_be15938c_feaf_11e8_aed6_0242ac110002row10_col0 {\n",
       "            color:  black;\n",
       "            : ;\n",
       "        }    #T_be15938c_feaf_11e8_aed6_0242ac110002row11_col0 {\n",
       "            color:  red;\n",
       "            : ;\n",
       "        }    #T_be15938c_feaf_11e8_aed6_0242ac110002row12_col0 {\n",
       "            color:  black;\n",
       "            : ;\n",
       "        }    #T_be15938c_feaf_11e8_aed6_0242ac110002row13_col0 {\n",
       "            color:  black;\n",
       "            : ;\n",
       "        }    #T_be15938c_feaf_11e8_aed6_0242ac110002row14_col0 {\n",
       "            color:  black;\n",
       "            : ;\n",
       "        }    #T_be15938c_feaf_11e8_aed6_0242ac110002row15_col0 {\n",
       "            color:  black;\n",
       "            : ;\n",
       "        }    #T_be15938c_feaf_11e8_aed6_0242ac110002row16_col0 {\n",
       "            color:  black;\n",
       "            : ;\n",
       "        }    #T_be15938c_feaf_11e8_aed6_0242ac110002row17_col0 {\n",
       "            color:  black;\n",
       "            : ;\n",
       "        }    #T_be15938c_feaf_11e8_aed6_0242ac110002row18_col0 {\n",
       "            color:  black;\n",
       "            : ;\n",
       "        }    #T_be15938c_feaf_11e8_aed6_0242ac110002row19_col0 {\n",
       "            color:  black;\n",
       "            : ;\n",
       "        }    #T_be15938c_feaf_11e8_aed6_0242ac110002row20_col0 {\n",
       "            color:  black;\n",
       "            : ;\n",
       "        }    #T_be15938c_feaf_11e8_aed6_0242ac110002row21_col0 {\n",
       "            color:  red;\n",
       "            : ;\n",
       "        }    #T_be15938c_feaf_11e8_aed6_0242ac110002row22_col0 {\n",
       "            color:  black;\n",
       "            : ;\n",
       "        }    #T_be15938c_feaf_11e8_aed6_0242ac110002row23_col0 {\n",
       "            color:  red;\n",
       "            : ;\n",
       "        }    #T_be15938c_feaf_11e8_aed6_0242ac110002row24_col0 {\n",
       "            color:  black;\n",
       "            : ;\n",
       "        }    #T_be15938c_feaf_11e8_aed6_0242ac110002row25_col0 {\n",
       "            color:  black;\n",
       "            : ;\n",
       "        }    #T_be15938c_feaf_11e8_aed6_0242ac110002row26_col0 {\n",
       "            color:  black;\n",
       "            : ;\n",
       "        }    #T_be15938c_feaf_11e8_aed6_0242ac110002row27_col0 {\n",
       "            color:  black;\n",
       "            : ;\n",
       "        }    #T_be15938c_feaf_11e8_aed6_0242ac110002row28_col0 {\n",
       "            color:  black;\n",
       "            : ;\n",
       "        }    #T_be15938c_feaf_11e8_aed6_0242ac110002row29_col0 {\n",
       "            color:  black;\n",
       "            : ;\n",
       "        }    #T_be15938c_feaf_11e8_aed6_0242ac110002row30_col0 {\n",
       "            color:  black;\n",
       "            : ;\n",
       "        }    #T_be15938c_feaf_11e8_aed6_0242ac110002row31_col0 {\n",
       "            color:  black;\n",
       "            : ;\n",
       "        }    #T_be15938c_feaf_11e8_aed6_0242ac110002row32_col0 {\n",
       "            color:  black;\n",
       "            : ;\n",
       "        }    #T_be15938c_feaf_11e8_aed6_0242ac110002row33_col0 {\n",
       "            color:  black;\n",
       "            : ;\n",
       "        }    #T_be15938c_feaf_11e8_aed6_0242ac110002row34_col0 {\n",
       "            color:  black;\n",
       "            : ;\n",
       "        }    #T_be15938c_feaf_11e8_aed6_0242ac110002row35_col0 {\n",
       "            color:  black;\n",
       "            : ;\n",
       "        }    #T_be15938c_feaf_11e8_aed6_0242ac110002row36_col0 {\n",
       "            color:  black;\n",
       "            : ;\n",
       "        }    #T_be15938c_feaf_11e8_aed6_0242ac110002row37_col0 {\n",
       "            color:  black;\n",
       "            : ;\n",
       "        }    #T_be15938c_feaf_11e8_aed6_0242ac110002row38_col0 {\n",
       "            color:  black;\n",
       "            : ;\n",
       "        }    #T_be15938c_feaf_11e8_aed6_0242ac110002row39_col0 {\n",
       "            color:  black;\n",
       "            : ;\n",
       "        }    #T_be15938c_feaf_11e8_aed6_0242ac110002row40_col0 {\n",
       "            color:  black;\n",
       "            : ;\n",
       "        }    #T_be15938c_feaf_11e8_aed6_0242ac110002row41_col0 {\n",
       "            color:  black;\n",
       "            : ;\n",
       "        }    #T_be15938c_feaf_11e8_aed6_0242ac110002row42_col0 {\n",
       "            color:  black;\n",
       "            : ;\n",
       "        }    #T_be15938c_feaf_11e8_aed6_0242ac110002row43_col0 {\n",
       "            color:  black;\n",
       "            : ;\n",
       "        }    #T_be15938c_feaf_11e8_aed6_0242ac110002row44_col0 {\n",
       "            color:  black;\n",
       "            : ;\n",
       "        }    #T_be15938c_feaf_11e8_aed6_0242ac110002row45_col0 {\n",
       "            color:  black;\n",
       "            : ;\n",
       "        }    #T_be15938c_feaf_11e8_aed6_0242ac110002row46_col0 {\n",
       "            color:  black;\n",
       "            : ;\n",
       "        }    #T_be15938c_feaf_11e8_aed6_0242ac110002row47_col0 {\n",
       "            color:  black;\n",
       "            : ;\n",
       "        }    #T_be15938c_feaf_11e8_aed6_0242ac110002row48_col0 {\n",
       "            color:  black;\n",
       "            : ;\n",
       "        }    #T_be15938c_feaf_11e8_aed6_0242ac110002row49_col0 {\n",
       "            color:  black;\n",
       "            : ;\n",
       "        }    #T_be15938c_feaf_11e8_aed6_0242ac110002row50_col0 {\n",
       "            color:  black;\n",
       "            : ;\n",
       "        }    #T_be15938c_feaf_11e8_aed6_0242ac110002row51_col0 {\n",
       "            color:  black;\n",
       "            : ;\n",
       "        }    #T_be15938c_feaf_11e8_aed6_0242ac110002row52_col0 {\n",
       "            color:  red;\n",
       "            : ;\n",
       "        }    #T_be15938c_feaf_11e8_aed6_0242ac110002row53_col0 {\n",
       "            color:  black;\n",
       "            : ;\n",
       "        }    #T_be15938c_feaf_11e8_aed6_0242ac110002row54_col0 {\n",
       "            color:  black;\n",
       "            : ;\n",
       "        }    #T_be15938c_feaf_11e8_aed6_0242ac110002row55_col0 {\n",
       "            color:  black;\n",
       "            : ;\n",
       "        }    #T_be15938c_feaf_11e8_aed6_0242ac110002row56_col0 {\n",
       "            color:  red;\n",
       "            : ;\n",
       "        }    #T_be15938c_feaf_11e8_aed6_0242ac110002row57_col0 {\n",
       "            color:  black;\n",
       "            : ;\n",
       "        }    #T_be15938c_feaf_11e8_aed6_0242ac110002row58_col0 {\n",
       "            color:  red;\n",
       "            : ;\n",
       "        }    #T_be15938c_feaf_11e8_aed6_0242ac110002row59_col0 {\n",
       "            color:  red;\n",
       "            : ;\n",
       "        }    #T_be15938c_feaf_11e8_aed6_0242ac110002row60_col0 {\n",
       "            color:  black;\n",
       "            : ;\n",
       "        }    #T_be15938c_feaf_11e8_aed6_0242ac110002row61_col0 {\n",
       "            color:  black;\n",
       "            : ;\n",
       "        }    #T_be15938c_feaf_11e8_aed6_0242ac110002row62_col0 {\n",
       "            color:  black;\n",
       "            : ;\n",
       "        }    #T_be15938c_feaf_11e8_aed6_0242ac110002row63_col0 {\n",
       "            color:  black;\n",
       "            : ;\n",
       "        }    #T_be15938c_feaf_11e8_aed6_0242ac110002row64_col0 {\n",
       "            color:  black;\n",
       "            : ;\n",
       "        }    #T_be15938c_feaf_11e8_aed6_0242ac110002row65_col0 {\n",
       "            color:  red;\n",
       "            : ;\n",
       "        }    #T_be15938c_feaf_11e8_aed6_0242ac110002row66_col0 {\n",
       "            color:  black;\n",
       "            : ;\n",
       "        }    #T_be15938c_feaf_11e8_aed6_0242ac110002row67_col0 {\n",
       "            color:  black;\n",
       "            : ;\n",
       "        }    #T_be15938c_feaf_11e8_aed6_0242ac110002row68_col0 {\n",
       "            color:  black;\n",
       "            background-color:  yellow;\n",
       "        }    #T_be15938c_feaf_11e8_aed6_0242ac110002row69_col0 {\n",
       "            color:  black;\n",
       "            : ;\n",
       "        }    #T_be15938c_feaf_11e8_aed6_0242ac110002row70_col0 {\n",
       "            color:  black;\n",
       "            : ;\n",
       "        }    #T_be15938c_feaf_11e8_aed6_0242ac110002row71_col0 {\n",
       "            color:  black;\n",
       "            : ;\n",
       "        }    #T_be15938c_feaf_11e8_aed6_0242ac110002row72_col0 {\n",
       "            color:  black;\n",
       "            : ;\n",
       "        }    #T_be15938c_feaf_11e8_aed6_0242ac110002row73_col0 {\n",
       "            color:  black;\n",
       "            : ;\n",
       "        }    #T_be15938c_feaf_11e8_aed6_0242ac110002row74_col0 {\n",
       "            color:  black;\n",
       "            : ;\n",
       "        }    #T_be15938c_feaf_11e8_aed6_0242ac110002row75_col0 {\n",
       "            color:  black;\n",
       "            : ;\n",
       "        }    #T_be15938c_feaf_11e8_aed6_0242ac110002row76_col0 {\n",
       "            color:  black;\n",
       "            : ;\n",
       "        }    #T_be15938c_feaf_11e8_aed6_0242ac110002row77_col0 {\n",
       "            color:  red;\n",
       "            : ;\n",
       "        }    #T_be15938c_feaf_11e8_aed6_0242ac110002row78_col0 {\n",
       "            color:  black;\n",
       "            : ;\n",
       "        }    #T_be15938c_feaf_11e8_aed6_0242ac110002row79_col0 {\n",
       "            color:  black;\n",
       "            : ;\n",
       "        }    #T_be15938c_feaf_11e8_aed6_0242ac110002row80_col0 {\n",
       "            color:  black;\n",
       "            : ;\n",
       "        }    #T_be15938c_feaf_11e8_aed6_0242ac110002row81_col0 {\n",
       "            color:  black;\n",
       "            : ;\n",
       "        }    #T_be15938c_feaf_11e8_aed6_0242ac110002row82_col0 {\n",
       "            color:  red;\n",
       "            : ;\n",
       "        }    #T_be15938c_feaf_11e8_aed6_0242ac110002row83_col0 {\n",
       "            color:  black;\n",
       "            : ;\n",
       "        }    #T_be15938c_feaf_11e8_aed6_0242ac110002row84_col0 {\n",
       "            color:  black;\n",
       "            : ;\n",
       "        }    #T_be15938c_feaf_11e8_aed6_0242ac110002row85_col0 {\n",
       "            color:  black;\n",
       "            : ;\n",
       "        }</style>  \n",
       "<table id=\"T_be15938c_feaf_11e8_aed6_0242ac110002\" > \n",
       "<thead>    <tr> \n",
       "        <th class=\"blank\" ></th> \n",
       "        <th class=\"blank level0\" ></th> \n",
       "        <th class=\"col_heading level0 col0\" >Revenue</th> \n",
       "    </tr>    <tr> \n",
       "        <th class=\"index_name level0\" >month</th> \n",
       "        <th class=\"index_name level1\" >year</th> \n",
       "        <th class=\"blank\" ></th> \n",
       "    </tr></thead> \n",
       "<tbody>    <tr> \n",
       "        <th id=\"T_be15938c_feaf_11e8_aed6_0242ac110002level0_row0\" class=\"row_heading level0 row0\" rowspan=8>1</th> \n",
       "        <th id=\"T_be15938c_feaf_11e8_aed6_0242ac110002level1_row0\" class=\"row_heading level1 row0\" >2009</th> \n",
       "        <td id=\"T_be15938c_feaf_11e8_aed6_0242ac110002row0_col0\" class=\"data row0 col0\" >943690</td> \n",
       "    </tr>    <tr> \n",
       "        <th id=\"T_be15938c_feaf_11e8_aed6_0242ac110002level1_row1\" class=\"row_heading level1 row1\" >2010</th> \n",
       "        <td id=\"T_be15938c_feaf_11e8_aed6_0242ac110002row1_col0\" class=\"data row1 col0\" >800038</td> \n",
       "    </tr>    <tr> \n",
       "        <th id=\"T_be15938c_feaf_11e8_aed6_0242ac110002level1_row2\" class=\"row_heading level1 row2\" >2011</th> \n",
       "        <td id=\"T_be15938c_feaf_11e8_aed6_0242ac110002row2_col0\" class=\"data row2 col0\" >-705201</td> \n",
       "    </tr>    <tr> \n",
       "        <th id=\"T_be15938c_feaf_11e8_aed6_0242ac110002level1_row3\" class=\"row_heading level1 row3\" >2012</th> \n",
       "        <td id=\"T_be15938c_feaf_11e8_aed6_0242ac110002row3_col0\" class=\"data row3 col0\" >1.13436e+06</td> \n",
       "    </tr>    <tr> \n",
       "        <th id=\"T_be15938c_feaf_11e8_aed6_0242ac110002level1_row4\" class=\"row_heading level1 row4\" >2013</th> \n",
       "        <td id=\"T_be15938c_feaf_11e8_aed6_0242ac110002row4_col0\" class=\"data row4 col0\" >994779</td> \n",
       "    </tr>    <tr> \n",
       "        <th id=\"T_be15938c_feaf_11e8_aed6_0242ac110002level1_row5\" class=\"row_heading level1 row5\" >2014</th> \n",
       "        <td id=\"T_be15938c_feaf_11e8_aed6_0242ac110002row5_col0\" class=\"data row5 col0\" >633816</td> \n",
       "    </tr>    <tr> \n",
       "        <th id=\"T_be15938c_feaf_11e8_aed6_0242ac110002level1_row6\" class=\"row_heading level1 row6\" >2015</th> \n",
       "        <td id=\"T_be15938c_feaf_11e8_aed6_0242ac110002row6_col0\" class=\"data row6 col0\" >1.68337e+06</td> \n",
       "    </tr>    <tr> \n",
       "        <th id=\"T_be15938c_feaf_11e8_aed6_0242ac110002level1_row7\" class=\"row_heading level1 row7\" >2016</th> \n",
       "        <td id=\"T_be15938c_feaf_11e8_aed6_0242ac110002row7_col0\" class=\"data row7 col0\" >-597463</td> \n",
       "    </tr>    <tr> \n",
       "        <th id=\"T_be15938c_feaf_11e8_aed6_0242ac110002level0_row8\" class=\"row_heading level0 row8\" rowspan=8>2</th> \n",
       "        <th id=\"T_be15938c_feaf_11e8_aed6_0242ac110002level1_row8\" class=\"row_heading level1 row8\" >2009</th> \n",
       "        <td id=\"T_be15938c_feaf_11e8_aed6_0242ac110002row8_col0\" class=\"data row8 col0\" >1.06256e+06</td> \n",
       "    </tr>    <tr> \n",
       "        <th id=\"T_be15938c_feaf_11e8_aed6_0242ac110002level1_row9\" class=\"row_heading level1 row9\" >2010</th> \n",
       "        <td id=\"T_be15938c_feaf_11e8_aed6_0242ac110002row9_col0\" class=\"data row9 col0\" >1.1171e+06</td> \n",
       "    </tr>    <tr> \n",
       "        <th id=\"T_be15938c_feaf_11e8_aed6_0242ac110002level1_row10\" class=\"row_heading level1 row10\" >2011</th> \n",
       "        <td id=\"T_be15938c_feaf_11e8_aed6_0242ac110002row10_col0\" class=\"data row10 col0\" >457393</td> \n",
       "    </tr>    <tr> \n",
       "        <th id=\"T_be15938c_feaf_11e8_aed6_0242ac110002level1_row11\" class=\"row_heading level1 row11\" >2012</th> \n",
       "        <td id=\"T_be15938c_feaf_11e8_aed6_0242ac110002row11_col0\" class=\"data row11 col0\" >-401260</td> \n",
       "    </tr>    <tr> \n",
       "        <th id=\"T_be15938c_feaf_11e8_aed6_0242ac110002level1_row12\" class=\"row_heading level1 row12\" >2013</th> \n",
       "        <td id=\"T_be15938c_feaf_11e8_aed6_0242ac110002row12_col0\" class=\"data row12 col0\" >1.35736e+06</td> \n",
       "    </tr>    <tr> \n",
       "        <th id=\"T_be15938c_feaf_11e8_aed6_0242ac110002level1_row13\" class=\"row_heading level1 row13\" >2014</th> \n",
       "        <td id=\"T_be15938c_feaf_11e8_aed6_0242ac110002row13_col0\" class=\"data row13 col0\" >1.08045e+06</td> \n",
       "    </tr>    <tr> \n",
       "        <th id=\"T_be15938c_feaf_11e8_aed6_0242ac110002level1_row14\" class=\"row_heading level1 row14\" >2015</th> \n",
       "        <td id=\"T_be15938c_feaf_11e8_aed6_0242ac110002row14_col0\" class=\"data row14 col0\" >605485</td> \n",
       "    </tr>    <tr> \n",
       "        <th id=\"T_be15938c_feaf_11e8_aed6_0242ac110002level1_row15\" class=\"row_heading level1 row15\" >2016</th> \n",
       "        <td id=\"T_be15938c_feaf_11e8_aed6_0242ac110002row15_col0\" class=\"data row15 col0\" >1.32142e+06</td> \n",
       "    </tr>    <tr> \n",
       "        <th id=\"T_be15938c_feaf_11e8_aed6_0242ac110002level0_row16\" class=\"row_heading level0 row16\" rowspan=7>3</th> \n",
       "        <th id=\"T_be15938c_feaf_11e8_aed6_0242ac110002level1_row16\" class=\"row_heading level1 row16\" >2009</th> \n",
       "        <td id=\"T_be15938c_feaf_11e8_aed6_0242ac110002row16_col0\" class=\"data row16 col0\" >210079</td> \n",
       "    </tr>    <tr> \n",
       "        <th id=\"T_be15938c_feaf_11e8_aed6_0242ac110002level1_row17\" class=\"row_heading level1 row17\" >2010</th> \n",
       "        <td id=\"T_be15938c_feaf_11e8_aed6_0242ac110002row17_col0\" class=\"data row17 col0\" >181220</td> \n",
       "    </tr>    <tr> \n",
       "        <th id=\"T_be15938c_feaf_11e8_aed6_0242ac110002level1_row18\" class=\"row_heading level1 row18\" >2011</th> \n",
       "        <td id=\"T_be15938c_feaf_11e8_aed6_0242ac110002row18_col0\" class=\"data row18 col0\" >358440</td> \n",
       "    </tr>    <tr> \n",
       "        <th id=\"T_be15938c_feaf_11e8_aed6_0242ac110002level1_row19\" class=\"row_heading level1 row19\" >2012</th> \n",
       "        <td id=\"T_be15938c_feaf_11e8_aed6_0242ac110002row19_col0\" class=\"data row19 col0\" >1.14161e+06</td> \n",
       "    </tr>    <tr> \n",
       "        <th id=\"T_be15938c_feaf_11e8_aed6_0242ac110002level1_row20\" class=\"row_heading level1 row20\" >2013</th> \n",
       "        <td id=\"T_be15938c_feaf_11e8_aed6_0242ac110002row20_col0\" class=\"data row20 col0\" >682089</td> \n",
       "    </tr>    <tr> \n",
       "        <th id=\"T_be15938c_feaf_11e8_aed6_0242ac110002level1_row21\" class=\"row_heading level1 row21\" >2014</th> \n",
       "        <td id=\"T_be15938c_feaf_11e8_aed6_0242ac110002row21_col0\" class=\"data row21 col0\" >-143444</td> \n",
       "    </tr>    <tr> \n",
       "        <th id=\"T_be15938c_feaf_11e8_aed6_0242ac110002level1_row22\" class=\"row_heading level1 row22\" >2015</th> \n",
       "        <td id=\"T_be15938c_feaf_11e8_aed6_0242ac110002row22_col0\" class=\"data row22 col0\" >485584</td> \n",
       "    </tr>    <tr> \n",
       "        <th id=\"T_be15938c_feaf_11e8_aed6_0242ac110002level0_row23\" class=\"row_heading level0 row23\" rowspan=7>4</th> \n",
       "        <th id=\"T_be15938c_feaf_11e8_aed6_0242ac110002level1_row23\" class=\"row_heading level1 row23\" >2009</th> \n",
       "        <td id=\"T_be15938c_feaf_11e8_aed6_0242ac110002row23_col0\" class=\"data row23 col0\" >-735286</td> \n",
       "    </tr>    <tr> \n",
       "        <th id=\"T_be15938c_feaf_11e8_aed6_0242ac110002level1_row24\" class=\"row_heading level1 row24\" >2010</th> \n",
       "        <td id=\"T_be15938c_feaf_11e8_aed6_0242ac110002row24_col0\" class=\"data row24 col0\" >120968</td> \n",
       "    </tr>    <tr> \n",
       "        <th id=\"T_be15938c_feaf_11e8_aed6_0242ac110002level1_row25\" class=\"row_heading level1 row25\" >2011</th> \n",
       "        <td id=\"T_be15938c_feaf_11e8_aed6_0242ac110002row25_col0\" class=\"data row25 col0\" >110092</td> \n",
       "    </tr>    <tr> \n",
       "        <th id=\"T_be15938c_feaf_11e8_aed6_0242ac110002level1_row26\" class=\"row_heading level1 row26\" >2012</th> \n",
       "        <td id=\"T_be15938c_feaf_11e8_aed6_0242ac110002row26_col0\" class=\"data row26 col0\" >594289</td> \n",
       "    </tr>    <tr> \n",
       "        <th id=\"T_be15938c_feaf_11e8_aed6_0242ac110002level1_row27\" class=\"row_heading level1 row27\" >2013</th> \n",
       "        <td id=\"T_be15938c_feaf_11e8_aed6_0242ac110002row27_col0\" class=\"data row27 col0\" >1.48264e+06</td> \n",
       "    </tr>    <tr> \n",
       "        <th id=\"T_be15938c_feaf_11e8_aed6_0242ac110002level1_row28\" class=\"row_heading level1 row28\" >2014</th> \n",
       "        <td id=\"T_be15938c_feaf_11e8_aed6_0242ac110002row28_col0\" class=\"data row28 col0\" >305451</td> \n",
       "    </tr>    <tr> \n",
       "        <th id=\"T_be15938c_feaf_11e8_aed6_0242ac110002level1_row29\" class=\"row_heading level1 row29\" >2015</th> \n",
       "        <td id=\"T_be15938c_feaf_11e8_aed6_0242ac110002row29_col0\" class=\"data row29 col0\" >592122</td> \n",
       "    </tr>    <tr> \n",
       "        <th id=\"T_be15938c_feaf_11e8_aed6_0242ac110002level0_row30\" class=\"row_heading level0 row30\" rowspan=7>5</th> \n",
       "        <th id=\"T_be15938c_feaf_11e8_aed6_0242ac110002level1_row30\" class=\"row_heading level1 row30\" >2009</th> \n",
       "        <td id=\"T_be15938c_feaf_11e8_aed6_0242ac110002row30_col0\" class=\"data row30 col0\" >842933</td> \n",
       "    </tr>    <tr> \n",
       "        <th id=\"T_be15938c_feaf_11e8_aed6_0242ac110002level1_row31\" class=\"row_heading level1 row31\" >2010</th> \n",
       "        <td id=\"T_be15938c_feaf_11e8_aed6_0242ac110002row31_col0\" class=\"data row31 col0\" >844012</td> \n",
       "    </tr>    <tr> \n",
       "        <th id=\"T_be15938c_feaf_11e8_aed6_0242ac110002level1_row32\" class=\"row_heading level1 row32\" >2011</th> \n",
       "        <td id=\"T_be15938c_feaf_11e8_aed6_0242ac110002row32_col0\" class=\"data row32 col0\" >1.11134e+06</td> \n",
       "    </tr>    <tr> \n",
       "        <th id=\"T_be15938c_feaf_11e8_aed6_0242ac110002level1_row33\" class=\"row_heading level1 row33\" >2012</th> \n",
       "        <td id=\"T_be15938c_feaf_11e8_aed6_0242ac110002row33_col0\" class=\"data row33 col0\" >51905</td> \n",
       "    </tr>    <tr> \n",
       "        <th id=\"T_be15938c_feaf_11e8_aed6_0242ac110002level1_row34\" class=\"row_heading level1 row34\" >2013</th> \n",
       "        <td id=\"T_be15938c_feaf_11e8_aed6_0242ac110002row34_col0\" class=\"data row34 col0\" >1.15918e+06</td> \n",
       "    </tr>    <tr> \n",
       "        <th id=\"T_be15938c_feaf_11e8_aed6_0242ac110002level1_row35\" class=\"row_heading level1 row35\" >2014</th> \n",
       "        <td id=\"T_be15938c_feaf_11e8_aed6_0242ac110002row35_col0\" class=\"data row35 col0\" >1.7596e+06</td> \n",
       "    </tr>    <tr> \n",
       "        <th id=\"T_be15938c_feaf_11e8_aed6_0242ac110002level1_row36\" class=\"row_heading level1 row36\" >2015</th> \n",
       "        <td id=\"T_be15938c_feaf_11e8_aed6_0242ac110002row36_col0\" class=\"data row36 col0\" >1.50356e+06</td> \n",
       "    </tr>    <tr> \n",
       "        <th id=\"T_be15938c_feaf_11e8_aed6_0242ac110002level0_row37\" class=\"row_heading level0 row37\" rowspan=7>6</th> \n",
       "        <th id=\"T_be15938c_feaf_11e8_aed6_0242ac110002level1_row37\" class=\"row_heading level1 row37\" >2009</th> \n",
       "        <td id=\"T_be15938c_feaf_11e8_aed6_0242ac110002row37_col0\" class=\"data row37 col0\" >358691</td> \n",
       "    </tr>    <tr> \n",
       "        <th id=\"T_be15938c_feaf_11e8_aed6_0242ac110002level1_row38\" class=\"row_heading level1 row38\" >2010</th> \n",
       "        <td id=\"T_be15938c_feaf_11e8_aed6_0242ac110002row38_col0\" class=\"data row38 col0\" >307468</td> \n",
       "    </tr>    <tr> \n",
       "        <th id=\"T_be15938c_feaf_11e8_aed6_0242ac110002level1_row39\" class=\"row_heading level1 row39\" >2011</th> \n",
       "        <td id=\"T_be15938c_feaf_11e8_aed6_0242ac110002row39_col0\" class=\"data row39 col0\" >691712</td> \n",
       "    </tr>    <tr> \n",
       "        <th id=\"T_be15938c_feaf_11e8_aed6_0242ac110002level1_row40\" class=\"row_heading level1 row40\" >2012</th> \n",
       "        <td id=\"T_be15938c_feaf_11e8_aed6_0242ac110002row40_col0\" class=\"data row40 col0\" >415204</td> \n",
       "    </tr>    <tr> \n",
       "        <th id=\"T_be15938c_feaf_11e8_aed6_0242ac110002level1_row41\" class=\"row_heading level1 row41\" >2013</th> \n",
       "        <td id=\"T_be15938c_feaf_11e8_aed6_0242ac110002row41_col0\" class=\"data row41 col0\" >195690</td> \n",
       "    </tr>    <tr> \n",
       "        <th id=\"T_be15938c_feaf_11e8_aed6_0242ac110002level1_row42\" class=\"row_heading level1 row42\" >2014</th> \n",
       "        <td id=\"T_be15938c_feaf_11e8_aed6_0242ac110002row42_col0\" class=\"data row42 col0\" >259053</td> \n",
       "    </tr>    <tr> \n",
       "        <th id=\"T_be15938c_feaf_11e8_aed6_0242ac110002level1_row43\" class=\"row_heading level1 row43\" >2015</th> \n",
       "        <td id=\"T_be15938c_feaf_11e8_aed6_0242ac110002row43_col0\" class=\"data row43 col0\" >755996</td> \n",
       "    </tr>    <tr> \n",
       "        <th id=\"T_be15938c_feaf_11e8_aed6_0242ac110002level0_row44\" class=\"row_heading level0 row44\" rowspan=7>7</th> \n",
       "        <th id=\"T_be15938c_feaf_11e8_aed6_0242ac110002level1_row44\" class=\"row_heading level1 row44\" >2009</th> \n",
       "        <td id=\"T_be15938c_feaf_11e8_aed6_0242ac110002row44_col0\" class=\"data row44 col0\" >914953</td> \n",
       "    </tr>    <tr> \n",
       "        <th id=\"T_be15938c_feaf_11e8_aed6_0242ac110002level1_row45\" class=\"row_heading level1 row45\" >2010</th> \n",
       "        <td id=\"T_be15938c_feaf_11e8_aed6_0242ac110002row45_col0\" class=\"data row45 col0\" >502341</td> \n",
       "    </tr>    <tr> \n",
       "        <th id=\"T_be15938c_feaf_11e8_aed6_0242ac110002level1_row46\" class=\"row_heading level1 row46\" >2011</th> \n",
       "        <td id=\"T_be15938c_feaf_11e8_aed6_0242ac110002row46_col0\" class=\"data row46 col0\" >669603</td> \n",
       "    </tr>    <tr> \n",
       "        <th id=\"T_be15938c_feaf_11e8_aed6_0242ac110002level1_row47\" class=\"row_heading level1 row47\" >2012</th> \n",
       "        <td id=\"T_be15938c_feaf_11e8_aed6_0242ac110002row47_col0\" class=\"data row47 col0\" >467130</td> \n",
       "    </tr>    <tr> \n",
       "        <th id=\"T_be15938c_feaf_11e8_aed6_0242ac110002level1_row48\" class=\"row_heading level1 row48\" >2013</th> \n",
       "        <td id=\"T_be15938c_feaf_11e8_aed6_0242ac110002row48_col0\" class=\"data row48 col0\" >815663</td> \n",
       "    </tr>    <tr> \n",
       "        <th id=\"T_be15938c_feaf_11e8_aed6_0242ac110002level1_row49\" class=\"row_heading level1 row49\" >2014</th> \n",
       "        <td id=\"T_be15938c_feaf_11e8_aed6_0242ac110002row49_col0\" class=\"data row49 col0\" >1.32175e+06</td> \n",
       "    </tr>    <tr> \n",
       "        <th id=\"T_be15938c_feaf_11e8_aed6_0242ac110002level1_row50\" class=\"row_heading level1 row50\" >2015</th> \n",
       "        <td id=\"T_be15938c_feaf_11e8_aed6_0242ac110002row50_col0\" class=\"data row50 col0\" >1.19672e+06</td> \n",
       "    </tr>    <tr> \n",
       "        <th id=\"T_be15938c_feaf_11e8_aed6_0242ac110002level0_row51\" class=\"row_heading level0 row51\" rowspan=7>8</th> \n",
       "        <th id=\"T_be15938c_feaf_11e8_aed6_0242ac110002level1_row51\" class=\"row_heading level1 row51\" >2009</th> \n",
       "        <td id=\"T_be15938c_feaf_11e8_aed6_0242ac110002row51_col0\" class=\"data row51 col0\" >723427</td> \n",
       "    </tr>    <tr> \n",
       "        <th id=\"T_be15938c_feaf_11e8_aed6_0242ac110002level1_row52\" class=\"row_heading level1 row52\" >2010</th> \n",
       "        <td id=\"T_be15938c_feaf_11e8_aed6_0242ac110002row52_col0\" class=\"data row52 col0\" >-748679</td> \n",
       "    </tr>    <tr> \n",
       "        <th id=\"T_be15938c_feaf_11e8_aed6_0242ac110002level1_row53\" class=\"row_heading level1 row53\" >2011</th> \n",
       "        <td id=\"T_be15938c_feaf_11e8_aed6_0242ac110002row53_col0\" class=\"data row53 col0\" >527608</td> \n",
       "    </tr>    <tr> \n",
       "        <th id=\"T_be15938c_feaf_11e8_aed6_0242ac110002level1_row54\" class=\"row_heading level1 row54\" >2012</th> \n",
       "        <td id=\"T_be15938c_feaf_11e8_aed6_0242ac110002row54_col0\" class=\"data row54 col0\" >270918</td> \n",
       "    </tr>    <tr> \n",
       "        <th id=\"T_be15938c_feaf_11e8_aed6_0242ac110002level1_row55\" class=\"row_heading level1 row55\" >2013</th> \n",
       "        <td id=\"T_be15938c_feaf_11e8_aed6_0242ac110002row55_col0\" class=\"data row55 col0\" >1.11852e+06</td> \n",
       "    </tr>    <tr> \n",
       "        <th id=\"T_be15938c_feaf_11e8_aed6_0242ac110002level1_row56\" class=\"row_heading level1 row56\" >2014</th> \n",
       "        <td id=\"T_be15938c_feaf_11e8_aed6_0242ac110002row56_col0\" class=\"data row56 col0\" >-971379</td> \n",
       "    </tr>    <tr> \n",
       "        <th id=\"T_be15938c_feaf_11e8_aed6_0242ac110002level1_row57\" class=\"row_heading level1 row57\" >2015</th> \n",
       "        <td id=\"T_be15938c_feaf_11e8_aed6_0242ac110002row57_col0\" class=\"data row57 col0\" >1.63124e+06</td> \n",
       "    </tr>    <tr> \n",
       "        <th id=\"T_be15938c_feaf_11e8_aed6_0242ac110002level0_row58\" class=\"row_heading level0 row58\" rowspan=7>9</th> \n",
       "        <th id=\"T_be15938c_feaf_11e8_aed6_0242ac110002level1_row58\" class=\"row_heading level1 row58\" >2009</th> \n",
       "        <td id=\"T_be15938c_feaf_11e8_aed6_0242ac110002row58_col0\" class=\"data row58 col0\" >-837468</td> \n",
       "    </tr>    <tr> \n",
       "        <th id=\"T_be15938c_feaf_11e8_aed6_0242ac110002level1_row59\" class=\"row_heading level1 row59\" >2010</th> \n",
       "        <td id=\"T_be15938c_feaf_11e8_aed6_0242ac110002row59_col0\" class=\"data row59 col0\" >-1.06315e+06</td> \n",
       "    </tr>    <tr> \n",
       "        <th id=\"T_be15938c_feaf_11e8_aed6_0242ac110002level1_row60\" class=\"row_heading level1 row60\" >2011</th> \n",
       "        <td id=\"T_be15938c_feaf_11e8_aed6_0242ac110002row60_col0\" class=\"data row60 col0\" >1.05749e+06</td> \n",
       "    </tr>    <tr> \n",
       "        <th id=\"T_be15938c_feaf_11e8_aed6_0242ac110002level1_row61\" class=\"row_heading level1 row61\" >2012</th> \n",
       "        <td id=\"T_be15938c_feaf_11e8_aed6_0242ac110002row61_col0\" class=\"data row61 col0\" >589902</td> \n",
       "    </tr>    <tr> \n",
       "        <th id=\"T_be15938c_feaf_11e8_aed6_0242ac110002level1_row62\" class=\"row_heading level1 row62\" >2013</th> \n",
       "        <td id=\"T_be15938c_feaf_11e8_aed6_0242ac110002row62_col0\" class=\"data row62 col0\" >464696</td> \n",
       "    </tr>    <tr> \n",
       "        <th id=\"T_be15938c_feaf_11e8_aed6_0242ac110002level1_row63\" class=\"row_heading level1 row63\" >2014</th> \n",
       "        <td id=\"T_be15938c_feaf_11e8_aed6_0242ac110002row63_col0\" class=\"data row63 col0\" >1.24353e+06</td> \n",
       "    </tr>    <tr> \n",
       "        <th id=\"T_be15938c_feaf_11e8_aed6_0242ac110002level1_row64\" class=\"row_heading level1 row64\" >2015</th> \n",
       "        <td id=\"T_be15938c_feaf_11e8_aed6_0242ac110002row64_col0\" class=\"data row64 col0\" >1.48404e+06</td> \n",
       "    </tr>    <tr> \n",
       "        <th id=\"T_be15938c_feaf_11e8_aed6_0242ac110002level0_row65\" class=\"row_heading level0 row65\" rowspan=7>10</th> \n",
       "        <th id=\"T_be15938c_feaf_11e8_aed6_0242ac110002level1_row65\" class=\"row_heading level1 row65\" >2009</th> \n",
       "        <td id=\"T_be15938c_feaf_11e8_aed6_0242ac110002row65_col0\" class=\"data row65 col0\" >-146929</td> \n",
       "    </tr>    <tr> \n",
       "        <th id=\"T_be15938c_feaf_11e8_aed6_0242ac110002level1_row66\" class=\"row_heading level1 row66\" >2010</th> \n",
       "        <td id=\"T_be15938c_feaf_11e8_aed6_0242ac110002row66_col0\" class=\"data row66 col0\" >111367</td> \n",
       "    </tr>    <tr> \n",
       "        <th id=\"T_be15938c_feaf_11e8_aed6_0242ac110002level1_row67\" class=\"row_heading level1 row67\" >2011</th> \n",
       "        <td id=\"T_be15938c_feaf_11e8_aed6_0242ac110002row67_col0\" class=\"data row67 col0\" >109267</td> \n",
       "    </tr>    <tr> \n",
       "        <th id=\"T_be15938c_feaf_11e8_aed6_0242ac110002level1_row68\" class=\"row_heading level1 row68\" >2012</th> \n",
       "        <td id=\"T_be15938c_feaf_11e8_aed6_0242ac110002row68_col0\" class=\"data row68 col0\" >2.21109e+06</td> \n",
       "    </tr>    <tr> \n",
       "        <th id=\"T_be15938c_feaf_11e8_aed6_0242ac110002level1_row69\" class=\"row_heading level1 row69\" >2013</th> \n",
       "        <td id=\"T_be15938c_feaf_11e8_aed6_0242ac110002row69_col0\" class=\"data row69 col0\" >1.1485e+06</td> \n",
       "    </tr>    <tr> \n",
       "        <th id=\"T_be15938c_feaf_11e8_aed6_0242ac110002level1_row70\" class=\"row_heading level1 row70\" >2014</th> \n",
       "        <td id=\"T_be15938c_feaf_11e8_aed6_0242ac110002row70_col0\" class=\"data row70 col0\" >1.14031e+06</td> \n",
       "    </tr>    <tr> \n",
       "        <th id=\"T_be15938c_feaf_11e8_aed6_0242ac110002level1_row71\" class=\"row_heading level1 row71\" >2015</th> \n",
       "        <td id=\"T_be15938c_feaf_11e8_aed6_0242ac110002row71_col0\" class=\"data row71 col0\" >1.55158e+06</td> \n",
       "    </tr>    <tr> \n",
       "        <th id=\"T_be15938c_feaf_11e8_aed6_0242ac110002level0_row72\" class=\"row_heading level0 row72\" rowspan=7>11</th> \n",
       "        <th id=\"T_be15938c_feaf_11e8_aed6_0242ac110002level1_row72\" class=\"row_heading level1 row72\" >2009</th> \n",
       "        <td id=\"T_be15938c_feaf_11e8_aed6_0242ac110002row72_col0\" class=\"data row72 col0\" >831730</td> \n",
       "    </tr>    <tr> \n",
       "        <th id=\"T_be15938c_feaf_11e8_aed6_0242ac110002level1_row73\" class=\"row_heading level1 row73\" >2010</th> \n",
       "        <td id=\"T_be15938c_feaf_11e8_aed6_0242ac110002row73_col0\" class=\"data row73 col0\" >889322</td> \n",
       "    </tr>    <tr> \n",
       "        <th id=\"T_be15938c_feaf_11e8_aed6_0242ac110002level1_row74\" class=\"row_heading level1 row74\" >2011</th> \n",
       "        <td id=\"T_be15938c_feaf_11e8_aed6_0242ac110002row74_col0\" class=\"data row74 col0\" >1.10649e+06</td> \n",
       "    </tr>    <tr> \n",
       "        <th id=\"T_be15938c_feaf_11e8_aed6_0242ac110002level1_row75\" class=\"row_heading level1 row75\" >2012</th> \n",
       "        <td id=\"T_be15938c_feaf_11e8_aed6_0242ac110002row75_col0\" class=\"data row75 col0\" >1.13585e+06</td> \n",
       "    </tr>    <tr> \n",
       "        <th id=\"T_be15938c_feaf_11e8_aed6_0242ac110002level1_row76\" class=\"row_heading level1 row76\" >2013</th> \n",
       "        <td id=\"T_be15938c_feaf_11e8_aed6_0242ac110002row76_col0\" class=\"data row76 col0\" >1.00302e+06</td> \n",
       "    </tr>    <tr> \n",
       "        <th id=\"T_be15938c_feaf_11e8_aed6_0242ac110002level1_row77\" class=\"row_heading level1 row77\" >2014</th> \n",
       "        <td id=\"T_be15938c_feaf_11e8_aed6_0242ac110002row77_col0\" class=\"data row77 col0\" >-198654</td> \n",
       "    </tr>    <tr> \n",
       "        <th id=\"T_be15938c_feaf_11e8_aed6_0242ac110002level1_row78\" class=\"row_heading level1 row78\" >2015</th> \n",
       "        <td id=\"T_be15938c_feaf_11e8_aed6_0242ac110002row78_col0\" class=\"data row78 col0\" >478252</td> \n",
       "    </tr>    <tr> \n",
       "        <th id=\"T_be15938c_feaf_11e8_aed6_0242ac110002level0_row79\" class=\"row_heading level0 row79\" rowspan=7>12</th> \n",
       "        <th id=\"T_be15938c_feaf_11e8_aed6_0242ac110002level1_row79\" class=\"row_heading level1 row79\" >2009</th> \n",
       "        <td id=\"T_be15938c_feaf_11e8_aed6_0242ac110002row79_col0\" class=\"data row79 col0\" >917752</td> \n",
       "    </tr>    <tr> \n",
       "        <th id=\"T_be15938c_feaf_11e8_aed6_0242ac110002level1_row80\" class=\"row_heading level1 row80\" >2010</th> \n",
       "        <td id=\"T_be15938c_feaf_11e8_aed6_0242ac110002row80_col0\" class=\"data row80 col0\" >1.02879e+06</td> \n",
       "    </tr>    <tr> \n",
       "        <th id=\"T_be15938c_feaf_11e8_aed6_0242ac110002level1_row81\" class=\"row_heading level1 row81\" >2011</th> \n",
       "        <td id=\"T_be15938c_feaf_11e8_aed6_0242ac110002row81_col0\" class=\"data row81 col0\" >531744</td> \n",
       "    </tr>    <tr> \n",
       "        <th id=\"T_be15938c_feaf_11e8_aed6_0242ac110002level1_row82\" class=\"row_heading level1 row82\" >2012</th> \n",
       "        <td id=\"T_be15938c_feaf_11e8_aed6_0242ac110002row82_col0\" class=\"data row82 col0\" >-357360</td> \n",
       "    </tr>    <tr> \n",
       "        <th id=\"T_be15938c_feaf_11e8_aed6_0242ac110002level1_row83\" class=\"row_heading level1 row83\" >2013</th> \n",
       "        <td id=\"T_be15938c_feaf_11e8_aed6_0242ac110002row83_col0\" class=\"data row83 col0\" >1.97543e+06</td> \n",
       "    </tr>    <tr> \n",
       "        <th id=\"T_be15938c_feaf_11e8_aed6_0242ac110002level1_row84\" class=\"row_heading level1 row84\" >2014</th> \n",
       "        <td id=\"T_be15938c_feaf_11e8_aed6_0242ac110002row84_col0\" class=\"data row84 col0\" >375932</td> \n",
       "    </tr>    <tr> \n",
       "        <th id=\"T_be15938c_feaf_11e8_aed6_0242ac110002level1_row85\" class=\"row_heading level1 row85\" >2015</th> \n",
       "        <td id=\"T_be15938c_feaf_11e8_aed6_0242ac110002row85_col0\" class=\"data row85 col0\" >1.59288e+06</td> \n",
       "    </tr></tbody> \n",
       "</table> "
      ],
      "text/plain": [
       "<pandas.io.formats.style.Styler at 0x7ff28216bf28>"
      ]
     },
     "execution_count": 12,
     "metadata": {},
     "output_type": "execute_result"
    }
   ],
   "source": [
    "# Monthly Revenues Across multiyear\n",
    "\n",
    "dfmonth = pd.DataFrame(df.groupby([ df.index.month, df.index.year])['Revenue'].sum())\n",
    "dfmonth.rename_axis(['month','year'], inplace=True)\n",
    "dfmonth.style.\\\n",
    "    applymap(color_negative_red).\\\n",
    "    apply(highlight_max)"
   ]
  },
  {
   "cell_type": "code",
   "execution_count": 13,
   "metadata": {},
   "outputs": [
    {
     "name": "stdout",
     "output_type": "stream",
     "text": [
      "On 10/2012 was Highest monthly Revenue of $2211086.\n",
      "On 9/2010 was Biggest monthly Loss of $-1063151.\n"
     ]
    }
   ],
   "source": [
    "# Get the Min/Max Revenue and the Month when\n",
    "\n",
    "HRevenue = dfmonth.Revenue.max()\n",
    "HLoss = dfmonth.Revenue.min()\n",
    "dmax = max(dfmonth.idxmax())\n",
    "dmin = min(dfmonth.idxmin())\n",
    "\n",
    "print('On %s/%s was Highest monthly Revenue of $%.0f.' %(dmax[0], dmax[1], HRevenue ))\n",
    "print('On %s/%s was Biggest monthly Loss of $%.00f.' %(dmin[0], dmin[1], HLoss ))"
   ]
  },
  {
   "cell_type": "code",
   "execution_count": 14,
   "metadata": {},
   "outputs": [
    {
     "data": {
      "text/html": [
       "<style  type=\"text/css\" >\n",
       "    #T_be27f4be_feaf_11e8_aed6_0242ac110002row0_col0 {\n",
       "            color:  black;\n",
       "            : ;\n",
       "        }    #T_be27f4be_feaf_11e8_aed6_0242ac110002row1_col0 {\n",
       "            color:  black;\n",
       "            : ;\n",
       "        }    #T_be27f4be_feaf_11e8_aed6_0242ac110002row2_col0 {\n",
       "            color:  black;\n",
       "            : ;\n",
       "        }    #T_be27f4be_feaf_11e8_aed6_0242ac110002row3_col0 {\n",
       "            color:  black;\n",
       "            : ;\n",
       "        }    #T_be27f4be_feaf_11e8_aed6_0242ac110002row4_col0 {\n",
       "            color:  black;\n",
       "            background-color:  yellow;\n",
       "        }    #T_be27f4be_feaf_11e8_aed6_0242ac110002row5_col0 {\n",
       "            color:  black;\n",
       "            : ;\n",
       "        }    #T_be27f4be_feaf_11e8_aed6_0242ac110002row6_col0 {\n",
       "            color:  black;\n",
       "            : ;\n",
       "        }    #T_be27f4be_feaf_11e8_aed6_0242ac110002row7_col0 {\n",
       "            color:  black;\n",
       "            : ;\n",
       "        }    #T_be27f4be_feaf_11e8_aed6_0242ac110002row8_col0 {\n",
       "            color:  black;\n",
       "            : ;\n",
       "        }    #T_be27f4be_feaf_11e8_aed6_0242ac110002row9_col0 {\n",
       "            color:  black;\n",
       "            : ;\n",
       "        }    #T_be27f4be_feaf_11e8_aed6_0242ac110002row10_col0 {\n",
       "            color:  black;\n",
       "            : ;\n",
       "        }    #T_be27f4be_feaf_11e8_aed6_0242ac110002row11_col0 {\n",
       "            color:  black;\n",
       "            : ;\n",
       "        }</style>  \n",
       "<table id=\"T_be27f4be_feaf_11e8_aed6_0242ac110002\" > \n",
       "<thead>    <tr> \n",
       "        <th class=\"blank level0\" ></th> \n",
       "        <th class=\"col_heading level0 col0\" >Revenue</th> \n",
       "    </tr>    <tr> \n",
       "        <th class=\"index_name level0\" >month</th> \n",
       "        <th class=\"blank\" ></th> \n",
       "    </tr></thead> \n",
       "<tbody>    <tr> \n",
       "        <th id=\"T_be27f4be_feaf_11e8_aed6_0242ac110002level0_row0\" class=\"row_heading level0 row0\" >1</th> \n",
       "        <td id=\"T_be27f4be_feaf_11e8_aed6_0242ac110002row0_col0\" class=\"data row0 col0\" >610924</td> \n",
       "    </tr>    <tr> \n",
       "        <th id=\"T_be27f4be_feaf_11e8_aed6_0242ac110002level0_row1\" class=\"row_heading level0 row1\" >2</th> \n",
       "        <td id=\"T_be27f4be_feaf_11e8_aed6_0242ac110002row1_col0\" class=\"data row1 col0\" >825064</td> \n",
       "    </tr>    <tr> \n",
       "        <th id=\"T_be27f4be_feaf_11e8_aed6_0242ac110002level0_row2\" class=\"row_heading level0 row2\" >3</th> \n",
       "        <td id=\"T_be27f4be_feaf_11e8_aed6_0242ac110002row2_col0\" class=\"data row2 col0\" >416511</td> \n",
       "    </tr>    <tr> \n",
       "        <th id=\"T_be27f4be_feaf_11e8_aed6_0242ac110002level0_row3\" class=\"row_heading level0 row3\" >4</th> \n",
       "        <td id=\"T_be27f4be_feaf_11e8_aed6_0242ac110002row3_col0\" class=\"data row3 col0\" >352896</td> \n",
       "    </tr>    <tr> \n",
       "        <th id=\"T_be27f4be_feaf_11e8_aed6_0242ac110002level0_row4\" class=\"row_heading level0 row4\" >5</th> \n",
       "        <td id=\"T_be27f4be_feaf_11e8_aed6_0242ac110002row4_col0\" class=\"data row4 col0\" >1.03893e+06</td> \n",
       "    </tr>    <tr> \n",
       "        <th id=\"T_be27f4be_feaf_11e8_aed6_0242ac110002level0_row5\" class=\"row_heading level0 row5\" >6</th> \n",
       "        <td id=\"T_be27f4be_feaf_11e8_aed6_0242ac110002row5_col0\" class=\"data row5 col0\" >426259</td> \n",
       "    </tr>    <tr> \n",
       "        <th id=\"T_be27f4be_feaf_11e8_aed6_0242ac110002level0_row6\" class=\"row_heading level0 row6\" >7</th> \n",
       "        <td id=\"T_be27f4be_feaf_11e8_aed6_0242ac110002row6_col0\" class=\"data row6 col0\" >841166</td> \n",
       "    </tr>    <tr> \n",
       "        <th id=\"T_be27f4be_feaf_11e8_aed6_0242ac110002level0_row7\" class=\"row_heading level0 row7\" >8</th> \n",
       "        <td id=\"T_be27f4be_feaf_11e8_aed6_0242ac110002row7_col0\" class=\"data row7 col0\" >364522</td> \n",
       "    </tr>    <tr> \n",
       "        <th id=\"T_be27f4be_feaf_11e8_aed6_0242ac110002level0_row8\" class=\"row_heading level0 row8\" >9</th> \n",
       "        <td id=\"T_be27f4be_feaf_11e8_aed6_0242ac110002row8_col0\" class=\"data row8 col0\" >419863</td> \n",
       "    </tr>    <tr> \n",
       "        <th id=\"T_be27f4be_feaf_11e8_aed6_0242ac110002level0_row9\" class=\"row_heading level0 row9\" >10</th> \n",
       "        <td id=\"T_be27f4be_feaf_11e8_aed6_0242ac110002row9_col0\" class=\"data row9 col0\" >875026</td> \n",
       "    </tr>    <tr> \n",
       "        <th id=\"T_be27f4be_feaf_11e8_aed6_0242ac110002level0_row10\" class=\"row_heading level0 row10\" >11</th> \n",
       "        <td id=\"T_be27f4be_feaf_11e8_aed6_0242ac110002row10_col0\" class=\"data row10 col0\" >749430</td> \n",
       "    </tr>    <tr> \n",
       "        <th id=\"T_be27f4be_feaf_11e8_aed6_0242ac110002level0_row11\" class=\"row_heading level0 row11\" >12</th> \n",
       "        <td id=\"T_be27f4be_feaf_11e8_aed6_0242ac110002row11_col0\" class=\"data row11 col0\" >866453</td> \n",
       "    </tr></tbody> \n",
       "</table> "
      ],
      "text/plain": [
       "<pandas.io.formats.style.Styler at 0x7ff281b97a90>"
      ]
     },
     "execution_count": 14,
     "metadata": {},
     "output_type": "execute_result"
    }
   ],
   "source": [
    "# Monthly Revenue Averages across Y2009- 2016\n",
    "dfmonth.reset_index(['month', 'year'], inplace=True)\n",
    "Average_monthly = pd.DataFrame(dfmonth.groupby('month')['Revenue'].mean())\n",
    "Average_monthly.style.applymap(color_negative_red).apply(highlight_max)"
   ]
  },
  {
   "cell_type": "code",
   "execution_count": 15,
   "metadata": {},
   "outputs": [
    {
     "data": {
      "text/plain": [
       "<matplotlib.axes._subplots.AxesSubplot at 0x7ff281b97cf8>"
      ]
     },
     "execution_count": 15,
     "metadata": {},
     "output_type": "execute_result"
    },
    {
     "data": {
      "image/png": "[encoded data removed]",
      "text/plain": [
       "<Figure size 864x432 with 1 Axes>"
      ]
     },
     "metadata": {
      "needs_background": "light"
     },
     "output_type": "display_data"
    }
   ],
   "source": [
    "Average_monthly.plot(kind='bar', figsize=(12,6))"
   ]
  },
  {
   "cell_type": "markdown",
   "metadata": {},
   "source": [
    "Month of May is always profitable with a **Monthly Revenue Average Revenue = $1,038,000** since 2009 to 2016. No revenue losses where experienced on this month and the same is true for June and July months, but not as comparable to the magnitude of revenue performance of May.\n",
    "\n",
    "---\n",
    "\n",
    "\n",
    "\n"
   ]
  },
  {
   "cell_type": "markdown",
   "metadata": {},
   "source": [
    "### Monthly Revenues Year per Year\n",
    "\n",
    "- Find-out what Year has the best Monthly Revenue Average so far."
   ]
  },
  {
   "cell_type": "code",
   "execution_count": 16,
   "metadata": {},
   "outputs": [
    {
     "data": {
      "text/html": [
       "<style  type=\"text/css\" >\n",
       "    #T_be8f6c66_feaf_11e8_aed6_0242ac110002row0_col0 {\n",
       "            color:  black;\n",
       "            : ;\n",
       "        }    #T_be8f6c66_feaf_11e8_aed6_0242ac110002row1_col0 {\n",
       "            color:  black;\n",
       "            : ;\n",
       "        }    #T_be8f6c66_feaf_11e8_aed6_0242ac110002row2_col0 {\n",
       "            color:  black;\n",
       "            : ;\n",
       "        }    #T_be8f6c66_feaf_11e8_aed6_0242ac110002row3_col0 {\n",
       "            color:  red;\n",
       "            : ;\n",
       "        }    #T_be8f6c66_feaf_11e8_aed6_0242ac110002row4_col0 {\n",
       "            color:  black;\n",
       "            : ;\n",
       "        }    #T_be8f6c66_feaf_11e8_aed6_0242ac110002row5_col0 {\n",
       "            color:  black;\n",
       "            : ;\n",
       "        }    #T_be8f6c66_feaf_11e8_aed6_0242ac110002row6_col0 {\n",
       "            color:  black;\n",
       "            : ;\n",
       "        }    #T_be8f6c66_feaf_11e8_aed6_0242ac110002row7_col0 {\n",
       "            color:  black;\n",
       "            : ;\n",
       "        }    #T_be8f6c66_feaf_11e8_aed6_0242ac110002row8_col0 {\n",
       "            color:  red;\n",
       "            : ;\n",
       "        }    #T_be8f6c66_feaf_11e8_aed6_0242ac110002row9_col0 {\n",
       "            color:  red;\n",
       "            : ;\n",
       "        }    #T_be8f6c66_feaf_11e8_aed6_0242ac110002row10_col0 {\n",
       "            color:  black;\n",
       "            : ;\n",
       "        }    #T_be8f6c66_feaf_11e8_aed6_0242ac110002row11_col0 {\n",
       "            color:  black;\n",
       "            : ;\n",
       "        }    #T_be8f6c66_feaf_11e8_aed6_0242ac110002row12_col0 {\n",
       "            color:  black;\n",
       "            : ;\n",
       "        }    #T_be8f6c66_feaf_11e8_aed6_0242ac110002row13_col0 {\n",
       "            color:  black;\n",
       "            : ;\n",
       "        }    #T_be8f6c66_feaf_11e8_aed6_0242ac110002row14_col0 {\n",
       "            color:  black;\n",
       "            : ;\n",
       "        }    #T_be8f6c66_feaf_11e8_aed6_0242ac110002row15_col0 {\n",
       "            color:  black;\n",
       "            : ;\n",
       "        }    #T_be8f6c66_feaf_11e8_aed6_0242ac110002row16_col0 {\n",
       "            color:  black;\n",
       "            : ;\n",
       "        }    #T_be8f6c66_feaf_11e8_aed6_0242ac110002row17_col0 {\n",
       "            color:  black;\n",
       "            : ;\n",
       "        }    #T_be8f6c66_feaf_11e8_aed6_0242ac110002row18_col0 {\n",
       "            color:  black;\n",
       "            : ;\n",
       "        }    #T_be8f6c66_feaf_11e8_aed6_0242ac110002row19_col0 {\n",
       "            color:  red;\n",
       "            : ;\n",
       "        }    #T_be8f6c66_feaf_11e8_aed6_0242ac110002row20_col0 {\n",
       "            color:  red;\n",
       "            : ;\n",
       "        }    #T_be8f6c66_feaf_11e8_aed6_0242ac110002row21_col0 {\n",
       "            color:  black;\n",
       "            : ;\n",
       "        }    #T_be8f6c66_feaf_11e8_aed6_0242ac110002row22_col0 {\n",
       "            color:  black;\n",
       "            : ;\n",
       "        }    #T_be8f6c66_feaf_11e8_aed6_0242ac110002row23_col0 {\n",
       "            color:  black;\n",
       "            : ;\n",
       "        }    #T_be8f6c66_feaf_11e8_aed6_0242ac110002row24_col0 {\n",
       "            color:  red;\n",
       "            : ;\n",
       "        }    #T_be8f6c66_feaf_11e8_aed6_0242ac110002row25_col0 {\n",
       "            color:  black;\n",
       "            : ;\n",
       "        }    #T_be8f6c66_feaf_11e8_aed6_0242ac110002row26_col0 {\n",
       "            color:  black;\n",
       "            : ;\n",
       "        }    #T_be8f6c66_feaf_11e8_aed6_0242ac110002row27_col0 {\n",
       "            color:  black;\n",
       "            : ;\n",
       "        }    #T_be8f6c66_feaf_11e8_aed6_0242ac110002row28_col0 {\n",
       "            color:  black;\n",
       "            : ;\n",
       "        }    #T_be8f6c66_feaf_11e8_aed6_0242ac110002row29_col0 {\n",
       "            color:  black;\n",
       "            : ;\n",
       "        }    #T_be8f6c66_feaf_11e8_aed6_0242ac110002row30_col0 {\n",
       "            color:  black;\n",
       "            : ;\n",
       "        }    #T_be8f6c66_feaf_11e8_aed6_0242ac110002row31_col0 {\n",
       "            color:  black;\n",
       "            : ;\n",
       "        }    #T_be8f6c66_feaf_11e8_aed6_0242ac110002row32_col0 {\n",
       "            color:  black;\n",
       "            : ;\n",
       "        }    #T_be8f6c66_feaf_11e8_aed6_0242ac110002row33_col0 {\n",
       "            color:  black;\n",
       "            : ;\n",
       "        }    #T_be8f6c66_feaf_11e8_aed6_0242ac110002row34_col0 {\n",
       "            color:  black;\n",
       "            : ;\n",
       "        }    #T_be8f6c66_feaf_11e8_aed6_0242ac110002row35_col0 {\n",
       "            color:  black;\n",
       "            : ;\n",
       "        }    #T_be8f6c66_feaf_11e8_aed6_0242ac110002row36_col0 {\n",
       "            color:  black;\n",
       "            : ;\n",
       "        }    #T_be8f6c66_feaf_11e8_aed6_0242ac110002row37_col0 {\n",
       "            color:  red;\n",
       "            : ;\n",
       "        }    #T_be8f6c66_feaf_11e8_aed6_0242ac110002row38_col0 {\n",
       "            color:  black;\n",
       "            : ;\n",
       "        }    #T_be8f6c66_feaf_11e8_aed6_0242ac110002row39_col0 {\n",
       "            color:  black;\n",
       "            : ;\n",
       "        }    #T_be8f6c66_feaf_11e8_aed6_0242ac110002row40_col0 {\n",
       "            color:  black;\n",
       "            : ;\n",
       "        }    #T_be8f6c66_feaf_11e8_aed6_0242ac110002row41_col0 {\n",
       "            color:  black;\n",
       "            : ;\n",
       "        }    #T_be8f6c66_feaf_11e8_aed6_0242ac110002row42_col0 {\n",
       "            color:  black;\n",
       "            : ;\n",
       "        }    #T_be8f6c66_feaf_11e8_aed6_0242ac110002row43_col0 {\n",
       "            color:  black;\n",
       "            : ;\n",
       "        }    #T_be8f6c66_feaf_11e8_aed6_0242ac110002row44_col0 {\n",
       "            color:  black;\n",
       "            : ;\n",
       "        }    #T_be8f6c66_feaf_11e8_aed6_0242ac110002row45_col0 {\n",
       "            color:  black;\n",
       "            background-color:  yellow;\n",
       "        }    #T_be8f6c66_feaf_11e8_aed6_0242ac110002row46_col0 {\n",
       "            color:  black;\n",
       "            : ;\n",
       "        }    #T_be8f6c66_feaf_11e8_aed6_0242ac110002row47_col0 {\n",
       "            color:  red;\n",
       "            : ;\n",
       "        }    #T_be8f6c66_feaf_11e8_aed6_0242ac110002row48_col0 {\n",
       "            color:  black;\n",
       "            : ;\n",
       "        }    #T_be8f6c66_feaf_11e8_aed6_0242ac110002row49_col0 {\n",
       "            color:  black;\n",
       "            : ;\n",
       "        }    #T_be8f6c66_feaf_11e8_aed6_0242ac110002row50_col0 {\n",
       "            color:  black;\n",
       "            : ;\n",
       "        }    #T_be8f6c66_feaf_11e8_aed6_0242ac110002row51_col0 {\n",
       "            color:  black;\n",
       "            : ;\n",
       "        }    #T_be8f6c66_feaf_11e8_aed6_0242ac110002row52_col0 {\n",
       "            color:  black;\n",
       "            : ;\n",
       "        }    #T_be8f6c66_feaf_11e8_aed6_0242ac110002row53_col0 {\n",
       "            color:  black;\n",
       "            : ;\n",
       "        }    #T_be8f6c66_feaf_11e8_aed6_0242ac110002row54_col0 {\n",
       "            color:  black;\n",
       "            : ;\n",
       "        }    #T_be8f6c66_feaf_11e8_aed6_0242ac110002row55_col0 {\n",
       "            color:  black;\n",
       "            : ;\n",
       "        }    #T_be8f6c66_feaf_11e8_aed6_0242ac110002row56_col0 {\n",
       "            color:  black;\n",
       "            : ;\n",
       "        }    #T_be8f6c66_feaf_11e8_aed6_0242ac110002row57_col0 {\n",
       "            color:  black;\n",
       "            : ;\n",
       "        }    #T_be8f6c66_feaf_11e8_aed6_0242ac110002row58_col0 {\n",
       "            color:  black;\n",
       "            : ;\n",
       "        }    #T_be8f6c66_feaf_11e8_aed6_0242ac110002row59_col0 {\n",
       "            color:  black;\n",
       "            : ;\n",
       "        }    #T_be8f6c66_feaf_11e8_aed6_0242ac110002row60_col0 {\n",
       "            color:  black;\n",
       "            : ;\n",
       "        }    #T_be8f6c66_feaf_11e8_aed6_0242ac110002row61_col0 {\n",
       "            color:  black;\n",
       "            : ;\n",
       "        }    #T_be8f6c66_feaf_11e8_aed6_0242ac110002row62_col0 {\n",
       "            color:  red;\n",
       "            : ;\n",
       "        }    #T_be8f6c66_feaf_11e8_aed6_0242ac110002row63_col0 {\n",
       "            color:  black;\n",
       "            : ;\n",
       "        }    #T_be8f6c66_feaf_11e8_aed6_0242ac110002row64_col0 {\n",
       "            color:  black;\n",
       "            : ;\n",
       "        }    #T_be8f6c66_feaf_11e8_aed6_0242ac110002row65_col0 {\n",
       "            color:  black;\n",
       "            : ;\n",
       "        }    #T_be8f6c66_feaf_11e8_aed6_0242ac110002row66_col0 {\n",
       "            color:  black;\n",
       "            : ;\n",
       "        }    #T_be8f6c66_feaf_11e8_aed6_0242ac110002row67_col0 {\n",
       "            color:  red;\n",
       "            : ;\n",
       "        }    #T_be8f6c66_feaf_11e8_aed6_0242ac110002row68_col0 {\n",
       "            color:  black;\n",
       "            : ;\n",
       "        }    #T_be8f6c66_feaf_11e8_aed6_0242ac110002row69_col0 {\n",
       "            color:  black;\n",
       "            : ;\n",
       "        }    #T_be8f6c66_feaf_11e8_aed6_0242ac110002row70_col0 {\n",
       "            color:  red;\n",
       "            : ;\n",
       "        }    #T_be8f6c66_feaf_11e8_aed6_0242ac110002row71_col0 {\n",
       "            color:  black;\n",
       "            : ;\n",
       "        }    #T_be8f6c66_feaf_11e8_aed6_0242ac110002row72_col0 {\n",
       "            color:  black;\n",
       "            : ;\n",
       "        }    #T_be8f6c66_feaf_11e8_aed6_0242ac110002row73_col0 {\n",
       "            color:  black;\n",
       "            : ;\n",
       "        }    #T_be8f6c66_feaf_11e8_aed6_0242ac110002row74_col0 {\n",
       "            color:  black;\n",
       "            : ;\n",
       "        }    #T_be8f6c66_feaf_11e8_aed6_0242ac110002row75_col0 {\n",
       "            color:  black;\n",
       "            : ;\n",
       "        }    #T_be8f6c66_feaf_11e8_aed6_0242ac110002row76_col0 {\n",
       "            color:  black;\n",
       "            : ;\n",
       "        }    #T_be8f6c66_feaf_11e8_aed6_0242ac110002row77_col0 {\n",
       "            color:  black;\n",
       "            : ;\n",
       "        }    #T_be8f6c66_feaf_11e8_aed6_0242ac110002row78_col0 {\n",
       "            color:  black;\n",
       "            : ;\n",
       "        }    #T_be8f6c66_feaf_11e8_aed6_0242ac110002row79_col0 {\n",
       "            color:  black;\n",
       "            : ;\n",
       "        }    #T_be8f6c66_feaf_11e8_aed6_0242ac110002row80_col0 {\n",
       "            color:  black;\n",
       "            : ;\n",
       "        }    #T_be8f6c66_feaf_11e8_aed6_0242ac110002row81_col0 {\n",
       "            color:  black;\n",
       "            : ;\n",
       "        }    #T_be8f6c66_feaf_11e8_aed6_0242ac110002row82_col0 {\n",
       "            color:  black;\n",
       "            : ;\n",
       "        }    #T_be8f6c66_feaf_11e8_aed6_0242ac110002row83_col0 {\n",
       "            color:  black;\n",
       "            : ;\n",
       "        }    #T_be8f6c66_feaf_11e8_aed6_0242ac110002row84_col0 {\n",
       "            color:  red;\n",
       "            : ;\n",
       "        }    #T_be8f6c66_feaf_11e8_aed6_0242ac110002row85_col0 {\n",
       "            color:  black;\n",
       "            : ;\n",
       "        }</style>  \n",
       "<table id=\"T_be8f6c66_feaf_11e8_aed6_0242ac110002\" > \n",
       "<thead>    <tr> \n",
       "        <th class=\"blank\" ></th> \n",
       "        <th class=\"blank level0\" ></th> \n",
       "        <th class=\"col_heading level0 col0\" >Revenue</th> \n",
       "    </tr>    <tr> \n",
       "        <th class=\"index_name level0\" >year</th> \n",
       "        <th class=\"index_name level1\" >month</th> \n",
       "        <th class=\"blank\" ></th> \n",
       "    </tr></thead> \n",
       "<tbody>    <tr> \n",
       "        <th id=\"T_be8f6c66_feaf_11e8_aed6_0242ac110002level0_row0\" class=\"row_heading level0 row0\" rowspan=12>2009</th> \n",
       "        <th id=\"T_be8f6c66_feaf_11e8_aed6_0242ac110002level1_row0\" class=\"row_heading level1 row0\" >1</th> \n",
       "        <td id=\"T_be8f6c66_feaf_11e8_aed6_0242ac110002row0_col0\" class=\"data row0 col0\" >943690</td> \n",
       "    </tr>    <tr> \n",
       "        <th id=\"T_be8f6c66_feaf_11e8_aed6_0242ac110002level1_row1\" class=\"row_heading level1 row1\" >2</th> \n",
       "        <td id=\"T_be8f6c66_feaf_11e8_aed6_0242ac110002row1_col0\" class=\"data row1 col0\" >1.06256e+06</td> \n",
       "    </tr>    <tr> \n",
       "        <th id=\"T_be8f6c66_feaf_11e8_aed6_0242ac110002level1_row2\" class=\"row_heading level1 row2\" >3</th> \n",
       "        <td id=\"T_be8f6c66_feaf_11e8_aed6_0242ac110002row2_col0\" class=\"data row2 col0\" >210079</td> \n",
       "    </tr>    <tr> \n",
       "        <th id=\"T_be8f6c66_feaf_11e8_aed6_0242ac110002level1_row3\" class=\"row_heading level1 row3\" >4</th> \n",
       "        <td id=\"T_be8f6c66_feaf_11e8_aed6_0242ac110002row3_col0\" class=\"data row3 col0\" >-735286</td> \n",
       "    </tr>    <tr> \n",
       "        <th id=\"T_be8f6c66_feaf_11e8_aed6_0242ac110002level1_row4\" class=\"row_heading level1 row4\" >5</th> \n",
       "        <td id=\"T_be8f6c66_feaf_11e8_aed6_0242ac110002row4_col0\" class=\"data row4 col0\" >842933</td> \n",
       "    </tr>    <tr> \n",
       "        <th id=\"T_be8f6c66_feaf_11e8_aed6_0242ac110002level1_row5\" class=\"row_heading level1 row5\" >6</th> \n",
       "        <td id=\"T_be8f6c66_feaf_11e8_aed6_0242ac110002row5_col0\" class=\"data row5 col0\" >358691</td> \n",
       "    </tr>    <tr> \n",
       "        <th id=\"T_be8f6c66_feaf_11e8_aed6_0242ac110002level1_row6\" class=\"row_heading level1 row6\" >7</th> \n",
       "        <td id=\"T_be8f6c66_feaf_11e8_aed6_0242ac110002row6_col0\" class=\"data row6 col0\" >914953</td> \n",
       "    </tr>    <tr> \n",
       "        <th id=\"T_be8f6c66_feaf_11e8_aed6_0242ac110002level1_row7\" class=\"row_heading level1 row7\" >8</th> \n",
       "        <td id=\"T_be8f6c66_feaf_11e8_aed6_0242ac110002row7_col0\" class=\"data row7 col0\" >723427</td> \n",
       "    </tr>    <tr> \n",
       "        <th id=\"T_be8f6c66_feaf_11e8_aed6_0242ac110002level1_row8\" class=\"row_heading level1 row8\" >9</th> \n",
       "        <td id=\"T_be8f6c66_feaf_11e8_aed6_0242ac110002row8_col0\" class=\"data row8 col0\" >-837468</td> \n",
       "    </tr>    <tr> \n",
       "        <th id=\"T_be8f6c66_feaf_11e8_aed6_0242ac110002level1_row9\" class=\"row_heading level1 row9\" >10</th> \n",
       "        <td id=\"T_be8f6c66_feaf_11e8_aed6_0242ac110002row9_col0\" class=\"data row9 col0\" >-146929</td> \n",
       "    </tr>    <tr> \n",
       "        <th id=\"T_be8f6c66_feaf_11e8_aed6_0242ac110002level1_row10\" class=\"row_heading level1 row10\" >11</th> \n",
       "        <td id=\"T_be8f6c66_feaf_11e8_aed6_0242ac110002row10_col0\" class=\"data row10 col0\" >831730</td> \n",
       "    </tr>    <tr> \n",
       "        <th id=\"T_be8f6c66_feaf_11e8_aed6_0242ac110002level1_row11\" class=\"row_heading level1 row11\" >12</th> \n",
       "        <td id=\"T_be8f6c66_feaf_11e8_aed6_0242ac110002row11_col0\" class=\"data row11 col0\" >917752</td> \n",
       "    </tr>    <tr> \n",
       "        <th id=\"T_be8f6c66_feaf_11e8_aed6_0242ac110002level0_row12\" class=\"row_heading level0 row12\" rowspan=12>2010</th> \n",
       "        <th id=\"T_be8f6c66_feaf_11e8_aed6_0242ac110002level1_row12\" class=\"row_heading level1 row12\" >1</th> \n",
       "        <td id=\"T_be8f6c66_feaf_11e8_aed6_0242ac110002row12_col0\" class=\"data row12 col0\" >800038</td> \n",
       "    </tr>    <tr> \n",
       "        <th id=\"T_be8f6c66_feaf_11e8_aed6_0242ac110002level1_row13\" class=\"row_heading level1 row13\" >2</th> \n",
       "        <td id=\"T_be8f6c66_feaf_11e8_aed6_0242ac110002row13_col0\" class=\"data row13 col0\" >1.1171e+06</td> \n",
       "    </tr>    <tr> \n",
       "        <th id=\"T_be8f6c66_feaf_11e8_aed6_0242ac110002level1_row14\" class=\"row_heading level1 row14\" >3</th> \n",
       "        <td id=\"T_be8f6c66_feaf_11e8_aed6_0242ac110002row14_col0\" class=\"data row14 col0\" >181220</td> \n",
       "    </tr>    <tr> \n",
       "        <th id=\"T_be8f6c66_feaf_11e8_aed6_0242ac110002level1_row15\" class=\"row_heading level1 row15\" >4</th> \n",
       "        <td id=\"T_be8f6c66_feaf_11e8_aed6_0242ac110002row15_col0\" class=\"data row15 col0\" >120968</td> \n",
       "    </tr>    <tr> \n",
       "        <th id=\"T_be8f6c66_feaf_11e8_aed6_0242ac110002level1_row16\" class=\"row_heading level1 row16\" >5</th> \n",
       "        <td id=\"T_be8f6c66_feaf_11e8_aed6_0242ac110002row16_col0\" class=\"data row16 col0\" >844012</td> \n",
       "    </tr>    <tr> \n",
       "        <th id=\"T_be8f6c66_feaf_11e8_aed6_0242ac110002level1_row17\" class=\"row_heading level1 row17\" >6</th> \n",
       "        <td id=\"T_be8f6c66_feaf_11e8_aed6_0242ac110002row17_col0\" class=\"data row17 col0\" >307468</td> \n",
       "    </tr>    <tr> \n",
       "        <th id=\"T_be8f6c66_feaf_11e8_aed6_0242ac110002level1_row18\" class=\"row_heading level1 row18\" >7</th> \n",
       "        <td id=\"T_be8f6c66_feaf_11e8_aed6_0242ac110002row18_col0\" class=\"data row18 col0\" >502341</td> \n",
       "    </tr>    <tr> \n",
       "        <th id=\"T_be8f6c66_feaf_11e8_aed6_0242ac110002level1_row19\" class=\"row_heading level1 row19\" >8</th> \n",
       "        <td id=\"T_be8f6c66_feaf_11e8_aed6_0242ac110002row19_col0\" class=\"data row19 col0\" >-748679</td> \n",
       "    </tr>    <tr> \n",
       "        <th id=\"T_be8f6c66_feaf_11e8_aed6_0242ac110002level1_row20\" class=\"row_heading level1 row20\" >9</th> \n",
       "        <td id=\"T_be8f6c66_feaf_11e8_aed6_0242ac110002row20_col0\" class=\"data row20 col0\" >-1.06315e+06</td> \n",
       "    </tr>    <tr> \n",
       "        <th id=\"T_be8f6c66_feaf_11e8_aed6_0242ac110002level1_row21\" class=\"row_heading level1 row21\" >10</th> \n",
       "        <td id=\"T_be8f6c66_feaf_11e8_aed6_0242ac110002row21_col0\" class=\"data row21 col0\" >111367</td> \n",
       "    </tr>    <tr> \n",
       "        <th id=\"T_be8f6c66_feaf_11e8_aed6_0242ac110002level1_row22\" class=\"row_heading level1 row22\" >11</th> \n",
       "        <td id=\"T_be8f6c66_feaf_11e8_aed6_0242ac110002row22_col0\" class=\"data row22 col0\" >889322</td> \n",
       "    </tr>    <tr> \n",
       "        <th id=\"T_be8f6c66_feaf_11e8_aed6_0242ac110002level1_row23\" class=\"row_heading level1 row23\" >12</th> \n",
       "        <td id=\"T_be8f6c66_feaf_11e8_aed6_0242ac110002row23_col0\" class=\"data row23 col0\" >1.02879e+06</td> \n",
       "    </tr>    <tr> \n",
       "        <th id=\"T_be8f6c66_feaf_11e8_aed6_0242ac110002level0_row24\" class=\"row_heading level0 row24\" rowspan=12>2011</th> \n",
       "        <th id=\"T_be8f6c66_feaf_11e8_aed6_0242ac110002level1_row24\" class=\"row_heading level1 row24\" >1</th> \n",
       "        <td id=\"T_be8f6c66_feaf_11e8_aed6_0242ac110002row24_col0\" class=\"data row24 col0\" >-705201</td> \n",
       "    </tr>    <tr> \n",
       "        <th id=\"T_be8f6c66_feaf_11e8_aed6_0242ac110002level1_row25\" class=\"row_heading level1 row25\" >2</th> \n",
       "        <td id=\"T_be8f6c66_feaf_11e8_aed6_0242ac110002row25_col0\" class=\"data row25 col0\" >457393</td> \n",
       "    </tr>    <tr> \n",
       "        <th id=\"T_be8f6c66_feaf_11e8_aed6_0242ac110002level1_row26\" class=\"row_heading level1 row26\" >3</th> \n",
       "        <td id=\"T_be8f6c66_feaf_11e8_aed6_0242ac110002row26_col0\" class=\"data row26 col0\" >358440</td> \n",
       "    </tr>    <tr> \n",
       "        <th id=\"T_be8f6c66_feaf_11e8_aed6_0242ac110002level1_row27\" class=\"row_heading level1 row27\" >4</th> \n",
       "        <td id=\"T_be8f6c66_feaf_11e8_aed6_0242ac110002row27_col0\" class=\"data row27 col0\" >110092</td> \n",
       "    </tr>    <tr> \n",
       "        <th id=\"T_be8f6c66_feaf_11e8_aed6_0242ac110002level1_row28\" class=\"row_heading level1 row28\" >5</th> \n",
       "        <td id=\"T_be8f6c66_feaf_11e8_aed6_0242ac110002row28_col0\" class=\"data row28 col0\" >1.11134e+06</td> \n",
       "    </tr>    <tr> \n",
       "        <th id=\"T_be8f6c66_feaf_11e8_aed6_0242ac110002level1_row29\" class=\"row_heading level1 row29\" >6</th> \n",
       "        <td id=\"T_be8f6c66_feaf_11e8_aed6_0242ac110002row29_col0\" class=\"data row29 col0\" >691712</td> \n",
       "    </tr>    <tr> \n",
       "        <th id=\"T_be8f6c66_feaf_11e8_aed6_0242ac110002level1_row30\" class=\"row_heading level1 row30\" >7</th> \n",
       "        <td id=\"T_be8f6c66_feaf_11e8_aed6_0242ac110002row30_col0\" class=\"data row30 col0\" >669603</td> \n",
       "    </tr>    <tr> \n",
       "        <th id=\"T_be8f6c66_feaf_11e8_aed6_0242ac110002level1_row31\" class=\"row_heading level1 row31\" >8</th> \n",
       "        <td id=\"T_be8f6c66_feaf_11e8_aed6_0242ac110002row31_col0\" class=\"data row31 col0\" >527608</td> \n",
       "    </tr>    <tr> \n",
       "        <th id=\"T_be8f6c66_feaf_11e8_aed6_0242ac110002level1_row32\" class=\"row_heading level1 row32\" >9</th> \n",
       "        <td id=\"T_be8f6c66_feaf_11e8_aed6_0242ac110002row32_col0\" class=\"data row32 col0\" >1.05749e+06</td> \n",
       "    </tr>    <tr> \n",
       "        <th id=\"T_be8f6c66_feaf_11e8_aed6_0242ac110002level1_row33\" class=\"row_heading level1 row33\" >10</th> \n",
       "        <td id=\"T_be8f6c66_feaf_11e8_aed6_0242ac110002row33_col0\" class=\"data row33 col0\" >109267</td> \n",
       "    </tr>    <tr> \n",
       "        <th id=\"T_be8f6c66_feaf_11e8_aed6_0242ac110002level1_row34\" class=\"row_heading level1 row34\" >11</th> \n",
       "        <td id=\"T_be8f6c66_feaf_11e8_aed6_0242ac110002row34_col0\" class=\"data row34 col0\" >1.10649e+06</td> \n",
       "    </tr>    <tr> \n",
       "        <th id=\"T_be8f6c66_feaf_11e8_aed6_0242ac110002level1_row35\" class=\"row_heading level1 row35\" >12</th> \n",
       "        <td id=\"T_be8f6c66_feaf_11e8_aed6_0242ac110002row35_col0\" class=\"data row35 col0\" >531744</td> \n",
       "    </tr>    <tr> \n",
       "        <th id=\"T_be8f6c66_feaf_11e8_aed6_0242ac110002level0_row36\" class=\"row_heading level0 row36\" rowspan=12>2012</th> \n",
       "        <th id=\"T_be8f6c66_feaf_11e8_aed6_0242ac110002level1_row36\" class=\"row_heading level1 row36\" >1</th> \n",
       "        <td id=\"T_be8f6c66_feaf_11e8_aed6_0242ac110002row36_col0\" class=\"data row36 col0\" >1.13436e+06</td> \n",
       "    </tr>    <tr> \n",
       "        <th id=\"T_be8f6c66_feaf_11e8_aed6_0242ac110002level1_row37\" class=\"row_heading level1 row37\" >2</th> \n",
       "        <td id=\"T_be8f6c66_feaf_11e8_aed6_0242ac110002row37_col0\" class=\"data row37 col0\" >-401260</td> \n",
       "    </tr>    <tr> \n",
       "        <th id=\"T_be8f6c66_feaf_11e8_aed6_0242ac110002level1_row38\" class=\"row_heading level1 row38\" >3</th> \n",
       "        <td id=\"T_be8f6c66_feaf_11e8_aed6_0242ac110002row38_col0\" class=\"data row38 col0\" >1.14161e+06</td> \n",
       "    </tr>    <tr> \n",
       "        <th id=\"T_be8f6c66_feaf_11e8_aed6_0242ac110002level1_row39\" class=\"row_heading level1 row39\" >4</th> \n",
       "        <td id=\"T_be8f6c66_feaf_11e8_aed6_0242ac110002row39_col0\" class=\"data row39 col0\" >594289</td> \n",
       "    </tr>    <tr> \n",
       "        <th id=\"T_be8f6c66_feaf_11e8_aed6_0242ac110002level1_row40\" class=\"row_heading level1 row40\" >5</th> \n",
       "        <td id=\"T_be8f6c66_feaf_11e8_aed6_0242ac110002row40_col0\" class=\"data row40 col0\" >51905</td> \n",
       "    </tr>    <tr> \n",
       "        <th id=\"T_be8f6c66_feaf_11e8_aed6_0242ac110002level1_row41\" class=\"row_heading level1 row41\" >6</th> \n",
       "        <td id=\"T_be8f6c66_feaf_11e8_aed6_0242ac110002row41_col0\" class=\"data row41 col0\" >415204</td> \n",
       "    </tr>    <tr> \n",
       "        <th id=\"T_be8f6c66_feaf_11e8_aed6_0242ac110002level1_row42\" class=\"row_heading level1 row42\" >7</th> \n",
       "        <td id=\"T_be8f6c66_feaf_11e8_aed6_0242ac110002row42_col0\" class=\"data row42 col0\" >467130</td> \n",
       "    </tr>    <tr> \n",
       "        <th id=\"T_be8f6c66_feaf_11e8_aed6_0242ac110002level1_row43\" class=\"row_heading level1 row43\" >8</th> \n",
       "        <td id=\"T_be8f6c66_feaf_11e8_aed6_0242ac110002row43_col0\" class=\"data row43 col0\" >270918</td> \n",
       "    </tr>    <tr> \n",
       "        <th id=\"T_be8f6c66_feaf_11e8_aed6_0242ac110002level1_row44\" class=\"row_heading level1 row44\" >9</th> \n",
       "        <td id=\"T_be8f6c66_feaf_11e8_aed6_0242ac110002row44_col0\" class=\"data row44 col0\" >589902</td> \n",
       "    </tr>    <tr> \n",
       "        <th id=\"T_be8f6c66_feaf_11e8_aed6_0242ac110002level1_row45\" class=\"row_heading level1 row45\" >10</th> \n",
       "        <td id=\"T_be8f6c66_feaf_11e8_aed6_0242ac110002row45_col0\" class=\"data row45 col0\" >2.21109e+06</td> \n",
       "    </tr>    <tr> \n",
       "        <th id=\"T_be8f6c66_feaf_11e8_aed6_0242ac110002level1_row46\" class=\"row_heading level1 row46\" >11</th> \n",
       "        <td id=\"T_be8f6c66_feaf_11e8_aed6_0242ac110002row46_col0\" class=\"data row46 col0\" >1.13585e+06</td> \n",
       "    </tr>    <tr> \n",
       "        <th id=\"T_be8f6c66_feaf_11e8_aed6_0242ac110002level1_row47\" class=\"row_heading level1 row47\" >12</th> \n",
       "        <td id=\"T_be8f6c66_feaf_11e8_aed6_0242ac110002row47_col0\" class=\"data row47 col0\" >-357360</td> \n",
       "    </tr>    <tr> \n",
       "        <th id=\"T_be8f6c66_feaf_11e8_aed6_0242ac110002level0_row48\" class=\"row_heading level0 row48\" rowspan=12>2013</th> \n",
       "        <th id=\"T_be8f6c66_feaf_11e8_aed6_0242ac110002level1_row48\" class=\"row_heading level1 row48\" >1</th> \n",
       "        <td id=\"T_be8f6c66_feaf_11e8_aed6_0242ac110002row48_col0\" class=\"data row48 col0\" >994779</td> \n",
       "    </tr>    <tr> \n",
       "        <th id=\"T_be8f6c66_feaf_11e8_aed6_0242ac110002level1_row49\" class=\"row_heading level1 row49\" >2</th> \n",
       "        <td id=\"T_be8f6c66_feaf_11e8_aed6_0242ac110002row49_col0\" class=\"data row49 col0\" >1.35736e+06</td> \n",
       "    </tr>    <tr> \n",
       "        <th id=\"T_be8f6c66_feaf_11e8_aed6_0242ac110002level1_row50\" class=\"row_heading level1 row50\" >3</th> \n",
       "        <td id=\"T_be8f6c66_feaf_11e8_aed6_0242ac110002row50_col0\" class=\"data row50 col0\" >682089</td> \n",
       "    </tr>    <tr> \n",
       "        <th id=\"T_be8f6c66_feaf_11e8_aed6_0242ac110002level1_row51\" class=\"row_heading level1 row51\" >4</th> \n",
       "        <td id=\"T_be8f6c66_feaf_11e8_aed6_0242ac110002row51_col0\" class=\"data row51 col0\" >1.48264e+06</td> \n",
       "    </tr>    <tr> \n",
       "        <th id=\"T_be8f6c66_feaf_11e8_aed6_0242ac110002level1_row52\" class=\"row_heading level1 row52\" >5</th> \n",
       "        <td id=\"T_be8f6c66_feaf_11e8_aed6_0242ac110002row52_col0\" class=\"data row52 col0\" >1.15918e+06</td> \n",
       "    </tr>    <tr> \n",
       "        <th id=\"T_be8f6c66_feaf_11e8_aed6_0242ac110002level1_row53\" class=\"row_heading level1 row53\" >6</th> \n",
       "        <td id=\"T_be8f6c66_feaf_11e8_aed6_0242ac110002row53_col0\" class=\"data row53 col0\" >195690</td> \n",
       "    </tr>    <tr> \n",
       "        <th id=\"T_be8f6c66_feaf_11e8_aed6_0242ac110002level1_row54\" class=\"row_heading level1 row54\" >7</th> \n",
       "        <td id=\"T_be8f6c66_feaf_11e8_aed6_0242ac110002row54_col0\" class=\"data row54 col0\" >815663</td> \n",
       "    </tr>    <tr> \n",
       "        <th id=\"T_be8f6c66_feaf_11e8_aed6_0242ac110002level1_row55\" class=\"row_heading level1 row55\" >8</th> \n",
       "        <td id=\"T_be8f6c66_feaf_11e8_aed6_0242ac110002row55_col0\" class=\"data row55 col0\" >1.11852e+06</td> \n",
       "    </tr>    <tr> \n",
       "        <th id=\"T_be8f6c66_feaf_11e8_aed6_0242ac110002level1_row56\" class=\"row_heading level1 row56\" >9</th> \n",
       "        <td id=\"T_be8f6c66_feaf_11e8_aed6_0242ac110002row56_col0\" class=\"data row56 col0\" >464696</td> \n",
       "    </tr>    <tr> \n",
       "        <th id=\"T_be8f6c66_feaf_11e8_aed6_0242ac110002level1_row57\" class=\"row_heading level1 row57\" >10</th> \n",
       "        <td id=\"T_be8f6c66_feaf_11e8_aed6_0242ac110002row57_col0\" class=\"data row57 col0\" >1.1485e+06</td> \n",
       "    </tr>    <tr> \n",
       "        <th id=\"T_be8f6c66_feaf_11e8_aed6_0242ac110002level1_row58\" class=\"row_heading level1 row58\" >11</th> \n",
       "        <td id=\"T_be8f6c66_feaf_11e8_aed6_0242ac110002row58_col0\" class=\"data row58 col0\" >1.00302e+06</td> \n",
       "    </tr>    <tr> \n",
       "        <th id=\"T_be8f6c66_feaf_11e8_aed6_0242ac110002level1_row59\" class=\"row_heading level1 row59\" >12</th> \n",
       "        <td id=\"T_be8f6c66_feaf_11e8_aed6_0242ac110002row59_col0\" class=\"data row59 col0\" >1.97543e+06</td> \n",
       "    </tr>    <tr> \n",
       "        <th id=\"T_be8f6c66_feaf_11e8_aed6_0242ac110002level0_row60\" class=\"row_heading level0 row60\" rowspan=12>2014</th> \n",
       "        <th id=\"T_be8f6c66_feaf_11e8_aed6_0242ac110002level1_row60\" class=\"row_heading level1 row60\" >1</th> \n",
       "        <td id=\"T_be8f6c66_feaf_11e8_aed6_0242ac110002row60_col0\" class=\"data row60 col0\" >633816</td> \n",
       "    </tr>    <tr> \n",
       "        <th id=\"T_be8f6c66_feaf_11e8_aed6_0242ac110002level1_row61\" class=\"row_heading level1 row61\" >2</th> \n",
       "        <td id=\"T_be8f6c66_feaf_11e8_aed6_0242ac110002row61_col0\" class=\"data row61 col0\" >1.08045e+06</td> \n",
       "    </tr>    <tr> \n",
       "        <th id=\"T_be8f6c66_feaf_11e8_aed6_0242ac110002level1_row62\" class=\"row_heading level1 row62\" >3</th> \n",
       "        <td id=\"T_be8f6c66_feaf_11e8_aed6_0242ac110002row62_col0\" class=\"data row62 col0\" >-143444</td> \n",
       "    </tr>    <tr> \n",
       "        <th id=\"T_be8f6c66_feaf_11e8_aed6_0242ac110002level1_row63\" class=\"row_heading level1 row63\" >4</th> \n",
       "        <td id=\"T_be8f6c66_feaf_11e8_aed6_0242ac110002row63_col0\" class=\"data row63 col0\" >305451</td> \n",
       "    </tr>    <tr> \n",
       "        <th id=\"T_be8f6c66_feaf_11e8_aed6_0242ac110002level1_row64\" class=\"row_heading level1 row64\" >5</th> \n",
       "        <td id=\"T_be8f6c66_feaf_11e8_aed6_0242ac110002row64_col0\" class=\"data row64 col0\" >1.7596e+06</td> \n",
       "    </tr>    <tr> \n",
       "        <th id=\"T_be8f6c66_feaf_11e8_aed6_0242ac110002level1_row65\" class=\"row_heading level1 row65\" >6</th> \n",
       "        <td id=\"T_be8f6c66_feaf_11e8_aed6_0242ac110002row65_col0\" class=\"data row65 col0\" >259053</td> \n",
       "    </tr>    <tr> \n",
       "        <th id=\"T_be8f6c66_feaf_11e8_aed6_0242ac110002level1_row66\" class=\"row_heading level1 row66\" >7</th> \n",
       "        <td id=\"T_be8f6c66_feaf_11e8_aed6_0242ac110002row66_col0\" class=\"data row66 col0\" >1.32175e+06</td> \n",
       "    </tr>    <tr> \n",
       "        <th id=\"T_be8f6c66_feaf_11e8_aed6_0242ac110002level1_row67\" class=\"row_heading level1 row67\" >8</th> \n",
       "        <td id=\"T_be8f6c66_feaf_11e8_aed6_0242ac110002row67_col0\" class=\"data row67 col0\" >-971379</td> \n",
       "    </tr>    <tr> \n",
       "        <th id=\"T_be8f6c66_feaf_11e8_aed6_0242ac110002level1_row68\" class=\"row_heading level1 row68\" >9</th> \n",
       "        <td id=\"T_be8f6c66_feaf_11e8_aed6_0242ac110002row68_col0\" class=\"data row68 col0\" >1.24353e+06</td> \n",
       "    </tr>    <tr> \n",
       "        <th id=\"T_be8f6c66_feaf_11e8_aed6_0242ac110002level1_row69\" class=\"row_heading level1 row69\" >10</th> \n",
       "        <td id=\"T_be8f6c66_feaf_11e8_aed6_0242ac110002row69_col0\" class=\"data row69 col0\" >1.14031e+06</td> \n",
       "    </tr>    <tr> \n",
       "        <th id=\"T_be8f6c66_feaf_11e8_aed6_0242ac110002level1_row70\" class=\"row_heading level1 row70\" >11</th> \n",
       "        <td id=\"T_be8f6c66_feaf_11e8_aed6_0242ac110002row70_col0\" class=\"data row70 col0\" >-198654</td> \n",
       "    </tr>    <tr> \n",
       "        <th id=\"T_be8f6c66_feaf_11e8_aed6_0242ac110002level1_row71\" class=\"row_heading level1 row71\" >12</th> \n",
       "        <td id=\"T_be8f6c66_feaf_11e8_aed6_0242ac110002row71_col0\" class=\"data row71 col0\" >375932</td> \n",
       "    </tr>    <tr> \n",
       "        <th id=\"T_be8f6c66_feaf_11e8_aed6_0242ac110002level0_row72\" class=\"row_heading level0 row72\" rowspan=12>2015</th> \n",
       "        <th id=\"T_be8f6c66_feaf_11e8_aed6_0242ac110002level1_row72\" class=\"row_heading level1 row72\" >1</th> \n",
       "        <td id=\"T_be8f6c66_feaf_11e8_aed6_0242ac110002row72_col0\" class=\"data row72 col0\" >1.68337e+06</td> \n",
       "    </tr>    <tr> \n",
       "        <th id=\"T_be8f6c66_feaf_11e8_aed6_0242ac110002level1_row73\" class=\"row_heading level1 row73\" >2</th> \n",
       "        <td id=\"T_be8f6c66_feaf_11e8_aed6_0242ac110002row73_col0\" class=\"data row73 col0\" >605485</td> \n",
       "    </tr>    <tr> \n",
       "        <th id=\"T_be8f6c66_feaf_11e8_aed6_0242ac110002level1_row74\" class=\"row_heading level1 row74\" >3</th> \n",
       "        <td id=\"T_be8f6c66_feaf_11e8_aed6_0242ac110002row74_col0\" class=\"data row74 col0\" >485584</td> \n",
       "    </tr>    <tr> \n",
       "        <th id=\"T_be8f6c66_feaf_11e8_aed6_0242ac110002level1_row75\" class=\"row_heading level1 row75\" >4</th> \n",
       "        <td id=\"T_be8f6c66_feaf_11e8_aed6_0242ac110002row75_col0\" class=\"data row75 col0\" >592122</td> \n",
       "    </tr>    <tr> \n",
       "        <th id=\"T_be8f6c66_feaf_11e8_aed6_0242ac110002level1_row76\" class=\"row_heading level1 row76\" >5</th> \n",
       "        <td id=\"T_be8f6c66_feaf_11e8_aed6_0242ac110002row76_col0\" class=\"data row76 col0\" >1.50356e+06</td> \n",
       "    </tr>    <tr> \n",
       "        <th id=\"T_be8f6c66_feaf_11e8_aed6_0242ac110002level1_row77\" class=\"row_heading level1 row77\" >6</th> \n",
       "        <td id=\"T_be8f6c66_feaf_11e8_aed6_0242ac110002row77_col0\" class=\"data row77 col0\" >755996</td> \n",
       "    </tr>    <tr> \n",
       "        <th id=\"T_be8f6c66_feaf_11e8_aed6_0242ac110002level1_row78\" class=\"row_heading level1 row78\" >7</th> \n",
       "        <td id=\"T_be8f6c66_feaf_11e8_aed6_0242ac110002row78_col0\" class=\"data row78 col0\" >1.19672e+06</td> \n",
       "    </tr>    <tr> \n",
       "        <th id=\"T_be8f6c66_feaf_11e8_aed6_0242ac110002level1_row79\" class=\"row_heading level1 row79\" >8</th> \n",
       "        <td id=\"T_be8f6c66_feaf_11e8_aed6_0242ac110002row79_col0\" class=\"data row79 col0\" >1.63124e+06</td> \n",
       "    </tr>    <tr> \n",
       "        <th id=\"T_be8f6c66_feaf_11e8_aed6_0242ac110002level1_row80\" class=\"row_heading level1 row80\" >9</th> \n",
       "        <td id=\"T_be8f6c66_feaf_11e8_aed6_0242ac110002row80_col0\" class=\"data row80 col0\" >1.48404e+06</td> \n",
       "    </tr>    <tr> \n",
       "        <th id=\"T_be8f6c66_feaf_11e8_aed6_0242ac110002level1_row81\" class=\"row_heading level1 row81\" >10</th> \n",
       "        <td id=\"T_be8f6c66_feaf_11e8_aed6_0242ac110002row81_col0\" class=\"data row81 col0\" >1.55158e+06</td> \n",
       "    </tr>    <tr> \n",
       "        <th id=\"T_be8f6c66_feaf_11e8_aed6_0242ac110002level1_row82\" class=\"row_heading level1 row82\" >11</th> \n",
       "        <td id=\"T_be8f6c66_feaf_11e8_aed6_0242ac110002row82_col0\" class=\"data row82 col0\" >478252</td> \n",
       "    </tr>    <tr> \n",
       "        <th id=\"T_be8f6c66_feaf_11e8_aed6_0242ac110002level1_row83\" class=\"row_heading level1 row83\" >12</th> \n",
       "        <td id=\"T_be8f6c66_feaf_11e8_aed6_0242ac110002row83_col0\" class=\"data row83 col0\" >1.59288e+06</td> \n",
       "    </tr>    <tr> \n",
       "        <th id=\"T_be8f6c66_feaf_11e8_aed6_0242ac110002level0_row84\" class=\"row_heading level0 row84\" rowspan=2>2016</th> \n",
       "        <th id=\"T_be8f6c66_feaf_11e8_aed6_0242ac110002level1_row84\" class=\"row_heading level1 row84\" >1</th> \n",
       "        <td id=\"T_be8f6c66_feaf_11e8_aed6_0242ac110002row84_col0\" class=\"data row84 col0\" >-597463</td> \n",
       "    </tr>    <tr> \n",
       "        <th id=\"T_be8f6c66_feaf_11e8_aed6_0242ac110002level1_row85\" class=\"row_heading level1 row85\" >2</th> \n",
       "        <td id=\"T_be8f6c66_feaf_11e8_aed6_0242ac110002row85_col0\" class=\"data row85 col0\" >1.32142e+06</td> \n",
       "    </tr></tbody> \n",
       "</table> "
      ],
      "text/plain": [
       "<pandas.io.formats.style.Styler at 0x7ff282138c50>"
      ]
     },
     "execution_count": 16,
     "metadata": {},
     "output_type": "execute_result"
    }
   ],
   "source": [
    "# Monthly Revenues Per Year\n",
    "\n",
    "dfmonth1 = pd.DataFrame(df.groupby([df.index.year,df.index.month])['Revenue'].sum())\n",
    "dfmonth1.rename_axis(['year','month'], inplace=True)\n",
    "dfmonth1.style.applymap(color_negative_red).apply(highlight_max)"
   ]
  },
  {
   "cell_type": "code",
   "execution_count": 17,
   "metadata": {},
   "outputs": [
    {
     "data": {
      "text/plain": [
       "Text(0.5,0,'Year')"
      ]
     },
     "execution_count": 17,
     "metadata": {},
     "output_type": "execute_result"
    },
    {
     "data": {
      "image/png": "[encoded data removed]",
      "text/plain": [
       "<Figure size 864x432 with 1 Axes>"
      ]
     },
     "metadata": {
      "needs_background": "light"
     },
     "output_type": "display_data"
    }
   ],
   "source": [
    "dfmonth1['Revenue'].plot(figsize=(12,6), linewidth=0.9, fontsize=10)\n",
    "plt.xlabel('Year', fontsize=12)"
   ]
  },
  {
   "cell_type": "code",
   "execution_count": 18,
   "metadata": {},
   "outputs": [
    {
     "data": {
      "text/html": [
       "<style  type=\"text/css\" >\n",
       "    #T_beba84fa_feaf_11e8_aed6_0242ac110002row0_col0 {\n",
       "            color:  black;\n",
       "            : ;\n",
       "        }    #T_beba84fa_feaf_11e8_aed6_0242ac110002row1_col0 {\n",
       "            color:  black;\n",
       "            : ;\n",
       "        }    #T_beba84fa_feaf_11e8_aed6_0242ac110002row2_col0 {\n",
       "            color:  black;\n",
       "            : ;\n",
       "        }    #T_beba84fa_feaf_11e8_aed6_0242ac110002row3_col0 {\n",
       "            color:  black;\n",
       "            : ;\n",
       "        }    #T_beba84fa_feaf_11e8_aed6_0242ac110002row4_col0 {\n",
       "            color:  black;\n",
       "            : ;\n",
       "        }    #T_beba84fa_feaf_11e8_aed6_0242ac110002row5_col0 {\n",
       "            color:  black;\n",
       "            : ;\n",
       "        }    #T_beba84fa_feaf_11e8_aed6_0242ac110002row6_col0 {\n",
       "            color:  black;\n",
       "            background-color:  yellow;\n",
       "        }    #T_beba84fa_feaf_11e8_aed6_0242ac110002row7_col0 {\n",
       "            color:  black;\n",
       "            : ;\n",
       "        }</style>  \n",
       "<table id=\"T_beba84fa_feaf_11e8_aed6_0242ac110002\" > \n",
       "<thead>    <tr> \n",
       "        <th class=\"blank level0\" ></th> \n",
       "        <th class=\"col_heading level0 col0\" >Revenue</th> \n",
       "    </tr>    <tr> \n",
       "        <th class=\"index_name level0\" >year</th> \n",
       "        <th class=\"blank\" ></th> \n",
       "    </tr></thead> \n",
       "<tbody>    <tr> \n",
       "        <th id=\"T_beba84fa_feaf_11e8_aed6_0242ac110002level0_row0\" class=\"row_heading level0 row0\" >2009</th> \n",
       "        <td id=\"T_beba84fa_feaf_11e8_aed6_0242ac110002row0_col0\" class=\"data row0 col0\" >423845</td> \n",
       "    </tr>    <tr> \n",
       "        <th id=\"T_beba84fa_feaf_11e8_aed6_0242ac110002level0_row1\" class=\"row_heading level0 row1\" >2010</th> \n",
       "        <td id=\"T_beba84fa_feaf_11e8_aed6_0242ac110002row1_col0\" class=\"data row1 col0\" >340900</td> \n",
       "    </tr>    <tr> \n",
       "        <th id=\"T_beba84fa_feaf_11e8_aed6_0242ac110002level0_row2\" class=\"row_heading level0 row2\" >2011</th> \n",
       "        <td id=\"T_beba84fa_feaf_11e8_aed6_0242ac110002row2_col0\" class=\"data row2 col0\" >502165</td> \n",
       "    </tr>    <tr> \n",
       "        <th id=\"T_beba84fa_feaf_11e8_aed6_0242ac110002level0_row3\" class=\"row_heading level0 row3\" >2012</th> \n",
       "        <td id=\"T_beba84fa_feaf_11e8_aed6_0242ac110002row3_col0\" class=\"data row3 col0\" >604469</td> \n",
       "    </tr>    <tr> \n",
       "        <th id=\"T_beba84fa_feaf_11e8_aed6_0242ac110002level0_row4\" class=\"row_heading level0 row4\" >2013</th> \n",
       "        <td id=\"T_beba84fa_feaf_11e8_aed6_0242ac110002row4_col0\" class=\"data row4 col0\" >1.03313e+06</td> \n",
       "    </tr>    <tr> \n",
       "        <th id=\"T_beba84fa_feaf_11e8_aed6_0242ac110002level0_row5\" class=\"row_heading level0 row5\" >2014</th> \n",
       "        <td id=\"T_beba84fa_feaf_11e8_aed6_0242ac110002row5_col0\" class=\"data row5 col0\" >567201</td> \n",
       "    </tr>    <tr> \n",
       "        <th id=\"T_beba84fa_feaf_11e8_aed6_0242ac110002level0_row6\" class=\"row_heading level0 row6\" >2015</th> \n",
       "        <td id=\"T_beba84fa_feaf_11e8_aed6_0242ac110002row6_col0\" class=\"data row6 col0\" >1.13007e+06</td> \n",
       "    </tr>    <tr> \n",
       "        <th id=\"T_beba84fa_feaf_11e8_aed6_0242ac110002level0_row7\" class=\"row_heading level0 row7\" >2016</th> \n",
       "        <td id=\"T_beba84fa_feaf_11e8_aed6_0242ac110002row7_col0\" class=\"data row7 col0\" >361980</td> \n",
       "    </tr></tbody> \n",
       "</table> "
      ],
      "text/plain": [
       "<pandas.io.formats.style.Styler at 0x7ff281b97518>"
      ]
     },
     "execution_count": 18,
     "metadata": {},
     "output_type": "execute_result"
    }
   ],
   "source": [
    "# Monthly Revenues Per Year\n",
    "\n",
    "dfmonth2 = pd.DataFrame(df.groupby(df.index.year)['Revenue'].mean())\n",
    "dfmonth2.rename_axis('year', inplace=True)\n",
    "dfmonth2.style.\\\n",
    "    applymap(color_negative_red).\\\n",
    "    apply(highlight_max)"
   ]
  },
  {
   "cell_type": "code",
   "execution_count": 19,
   "metadata": {},
   "outputs": [
    {
     "data": {
      "text/plain": [
       "<matplotlib.axes._subplots.AxesSubplot at 0x7ff281af8518>"
      ]
     },
     "execution_count": 19,
     "metadata": {},
     "output_type": "execute_result"
    },
    {
     "data": {
      "image/png": "[encoded data removed]",
      "text/plain": [
       "<Figure size 864x432 with 1 Axes>"
      ]
     },
     "metadata": {
      "needs_background": "light"
     },
     "output_type": "display_data"
    }
   ],
   "source": [
    "dfmonth2.plot(kind='bar', figsize=(12,6))"
   ]
  },
  {
   "cell_type": "code",
   "execution_count": 20,
   "metadata": {},
   "outputs": [
    {
     "name": "stdout",
     "output_type": "stream",
     "text": [
      "Year 2015 has the Highest Grossing Monthly Revenue Averages of $1130070.\n"
     ]
    }
   ],
   "source": [
    "# Get the Min/Max Revenue and the Month when\n",
    "\n",
    "ymax = max(dfmonth2.idxmax())\n",
    "rmax = dfmonth2.Revenue.max()\n",
    "print(\"Year %s has the Highest Grossing Monthly Revenue Averages of $%0.0f.\" %(ymax,rmax))\n"
   ]
  },
  {
   "cell_type": "markdown",
   "metadata": {},
   "source": [
    "---"
   ]
  },
  {
   "cell_type": "markdown",
   "metadata": {},
   "source": [
    "### Quarterly Revenue Across the Years\n",
    "\n",
    "- Find-out what Quarter had the Highest Gross Revenue since 2009 to 2016.\n",
    "\n",
    "> Let us compare the revenue performance like what quarter is the most profitable.\n"
   ]
  },
  {
   "cell_type": "code",
   "execution_count": 21,
   "metadata": {},
   "outputs": [
    {
     "data": {
      "text/html": [
       "<style  type=\"text/css\" >\n",
       "    #T_bf04b0fc_feaf_11e8_aed6_0242ac110002row0_col0 {\n",
       "            color:  black;\n",
       "            : ;\n",
       "        }    #T_bf04b0fc_feaf_11e8_aed6_0242ac110002row1_col0 {\n",
       "            color:  black;\n",
       "            : ;\n",
       "        }    #T_bf04b0fc_feaf_11e8_aed6_0242ac110002row2_col0 {\n",
       "            color:  black;\n",
       "            : ;\n",
       "        }    #T_bf04b0fc_feaf_11e8_aed6_0242ac110002row3_col0 {\n",
       "            color:  black;\n",
       "            : ;\n",
       "        }    #T_bf04b0fc_feaf_11e8_aed6_0242ac110002row4_col0 {\n",
       "            color:  black;\n",
       "            : ;\n",
       "        }    #T_bf04b0fc_feaf_11e8_aed6_0242ac110002row5_col0 {\n",
       "            color:  black;\n",
       "            : ;\n",
       "        }    #T_bf04b0fc_feaf_11e8_aed6_0242ac110002row6_col0 {\n",
       "            color:  black;\n",
       "            : ;\n",
       "        }    #T_bf04b0fc_feaf_11e8_aed6_0242ac110002row7_col0 {\n",
       "            color:  black;\n",
       "            : ;\n",
       "        }    #T_bf04b0fc_feaf_11e8_aed6_0242ac110002row8_col0 {\n",
       "            color:  black;\n",
       "            : ;\n",
       "        }    #T_bf04b0fc_feaf_11e8_aed6_0242ac110002row9_col0 {\n",
       "            color:  black;\n",
       "            : ;\n",
       "        }    #T_bf04b0fc_feaf_11e8_aed6_0242ac110002row10_col0 {\n",
       "            color:  black;\n",
       "            : ;\n",
       "        }    #T_bf04b0fc_feaf_11e8_aed6_0242ac110002row11_col0 {\n",
       "            color:  black;\n",
       "            : ;\n",
       "        }    #T_bf04b0fc_feaf_11e8_aed6_0242ac110002row12_col0 {\n",
       "            color:  black;\n",
       "            : ;\n",
       "        }    #T_bf04b0fc_feaf_11e8_aed6_0242ac110002row13_col0 {\n",
       "            color:  black;\n",
       "            : ;\n",
       "        }    #T_bf04b0fc_feaf_11e8_aed6_0242ac110002row14_col0 {\n",
       "            color:  black;\n",
       "            : ;\n",
       "        }    #T_bf04b0fc_feaf_11e8_aed6_0242ac110002row15_col0 {\n",
       "            color:  black;\n",
       "            : ;\n",
       "        }    #T_bf04b0fc_feaf_11e8_aed6_0242ac110002row16_col0 {\n",
       "            color:  red;\n",
       "            : ;\n",
       "        }    #T_bf04b0fc_feaf_11e8_aed6_0242ac110002row17_col0 {\n",
       "            color:  black;\n",
       "            : ;\n",
       "        }    #T_bf04b0fc_feaf_11e8_aed6_0242ac110002row18_col0 {\n",
       "            color:  black;\n",
       "            : ;\n",
       "        }    #T_bf04b0fc_feaf_11e8_aed6_0242ac110002row19_col0 {\n",
       "            color:  black;\n",
       "            : ;\n",
       "        }    #T_bf04b0fc_feaf_11e8_aed6_0242ac110002row20_col0 {\n",
       "            color:  black;\n",
       "            : ;\n",
       "        }    #T_bf04b0fc_feaf_11e8_aed6_0242ac110002row21_col0 {\n",
       "            color:  black;\n",
       "            background-color:  yellow;\n",
       "        }    #T_bf04b0fc_feaf_11e8_aed6_0242ac110002row22_col0 {\n",
       "            color:  black;\n",
       "            : ;\n",
       "        }    #T_bf04b0fc_feaf_11e8_aed6_0242ac110002row23_col0 {\n",
       "            color:  black;\n",
       "            : ;\n",
       "        }    #T_bf04b0fc_feaf_11e8_aed6_0242ac110002row24_col0 {\n",
       "            color:  black;\n",
       "            : ;\n",
       "        }    #T_bf04b0fc_feaf_11e8_aed6_0242ac110002row25_col0 {\n",
       "            color:  black;\n",
       "            : ;\n",
       "        }    #T_bf04b0fc_feaf_11e8_aed6_0242ac110002row26_col0 {\n",
       "            color:  black;\n",
       "            : ;\n",
       "        }    #T_bf04b0fc_feaf_11e8_aed6_0242ac110002row27_col0 {\n",
       "            color:  black;\n",
       "            : ;\n",
       "        }    #T_bf04b0fc_feaf_11e8_aed6_0242ac110002row28_col0 {\n",
       "            color:  black;\n",
       "            : ;\n",
       "        }</style>  \n",
       "<table id=\"T_bf04b0fc_feaf_11e8_aed6_0242ac110002\" > \n",
       "<thead>    <tr> \n",
       "        <th class=\"blank\" ></th> \n",
       "        <th class=\"blank level0\" ></th> \n",
       "        <th class=\"col_heading level0 col0\" >Revenue</th> \n",
       "    </tr>    <tr> \n",
       "        <th class=\"index_name level0\" >Quarter</th> \n",
       "        <th class=\"index_name level1\" >Year</th> \n",
       "        <th class=\"blank\" ></th> \n",
       "    </tr></thead> \n",
       "<tbody>    <tr> \n",
       "        <th id=\"T_bf04b0fc_feaf_11e8_aed6_0242ac110002level0_row0\" class=\"row_heading level0 row0\" rowspan=8>1</th> \n",
       "        <th id=\"T_bf04b0fc_feaf_11e8_aed6_0242ac110002level1_row0\" class=\"row_heading level1 row0\" >2009</th> \n",
       "        <td id=\"T_bf04b0fc_feaf_11e8_aed6_0242ac110002row0_col0\" class=\"data row0 col0\" >2.21633e+06</td> \n",
       "    </tr>    <tr> \n",
       "        <th id=\"T_bf04b0fc_feaf_11e8_aed6_0242ac110002level1_row1\" class=\"row_heading level1 row1\" >2010</th> \n",
       "        <td id=\"T_bf04b0fc_feaf_11e8_aed6_0242ac110002row1_col0\" class=\"data row1 col0\" >2.09836e+06</td> \n",
       "    </tr>    <tr> \n",
       "        <th id=\"T_bf04b0fc_feaf_11e8_aed6_0242ac110002level1_row2\" class=\"row_heading level1 row2\" >2011</th> \n",
       "        <td id=\"T_bf04b0fc_feaf_11e8_aed6_0242ac110002row2_col0\" class=\"data row2 col0\" >110632</td> \n",
       "    </tr>    <tr> \n",
       "        <th id=\"T_bf04b0fc_feaf_11e8_aed6_0242ac110002level1_row3\" class=\"row_heading level1 row3\" >2012</th> \n",
       "        <td id=\"T_bf04b0fc_feaf_11e8_aed6_0242ac110002row3_col0\" class=\"data row3 col0\" >1.87471e+06</td> \n",
       "    </tr>    <tr> \n",
       "        <th id=\"T_bf04b0fc_feaf_11e8_aed6_0242ac110002level1_row4\" class=\"row_heading level1 row4\" >2013</th> \n",
       "        <td id=\"T_bf04b0fc_feaf_11e8_aed6_0242ac110002row4_col0\" class=\"data row4 col0\" >3.03423e+06</td> \n",
       "    </tr>    <tr> \n",
       "        <th id=\"T_bf04b0fc_feaf_11e8_aed6_0242ac110002level1_row5\" class=\"row_heading level1 row5\" >2014</th> \n",
       "        <td id=\"T_bf04b0fc_feaf_11e8_aed6_0242ac110002row5_col0\" class=\"data row5 col0\" >1.57082e+06</td> \n",
       "    </tr>    <tr> \n",
       "        <th id=\"T_bf04b0fc_feaf_11e8_aed6_0242ac110002level1_row6\" class=\"row_heading level1 row6\" >2015</th> \n",
       "        <td id=\"T_bf04b0fc_feaf_11e8_aed6_0242ac110002row6_col0\" class=\"data row6 col0\" >2.77444e+06</td> \n",
       "    </tr>    <tr> \n",
       "        <th id=\"T_bf04b0fc_feaf_11e8_aed6_0242ac110002level1_row7\" class=\"row_heading level1 row7\" >2016</th> \n",
       "        <td id=\"T_bf04b0fc_feaf_11e8_aed6_0242ac110002row7_col0\" class=\"data row7 col0\" >723960</td> \n",
       "    </tr>    <tr> \n",
       "        <th id=\"T_bf04b0fc_feaf_11e8_aed6_0242ac110002level0_row8\" class=\"row_heading level0 row8\" rowspan=7>2</th> \n",
       "        <th id=\"T_bf04b0fc_feaf_11e8_aed6_0242ac110002level1_row8\" class=\"row_heading level1 row8\" >2009</th> \n",
       "        <td id=\"T_bf04b0fc_feaf_11e8_aed6_0242ac110002row8_col0\" class=\"data row8 col0\" >466338</td> \n",
       "    </tr>    <tr> \n",
       "        <th id=\"T_bf04b0fc_feaf_11e8_aed6_0242ac110002level1_row9\" class=\"row_heading level1 row9\" >2010</th> \n",
       "        <td id=\"T_bf04b0fc_feaf_11e8_aed6_0242ac110002row9_col0\" class=\"data row9 col0\" >1.27245e+06</td> \n",
       "    </tr>    <tr> \n",
       "        <th id=\"T_bf04b0fc_feaf_11e8_aed6_0242ac110002level1_row10\" class=\"row_heading level1 row10\" >2011</th> \n",
       "        <td id=\"T_bf04b0fc_feaf_11e8_aed6_0242ac110002row10_col0\" class=\"data row10 col0\" >1.91314e+06</td> \n",
       "    </tr>    <tr> \n",
       "        <th id=\"T_bf04b0fc_feaf_11e8_aed6_0242ac110002level1_row11\" class=\"row_heading level1 row11\" >2012</th> \n",
       "        <td id=\"T_bf04b0fc_feaf_11e8_aed6_0242ac110002row11_col0\" class=\"data row11 col0\" >1.0614e+06</td> \n",
       "    </tr>    <tr> \n",
       "        <th id=\"T_bf04b0fc_feaf_11e8_aed6_0242ac110002level1_row12\" class=\"row_heading level1 row12\" >2013</th> \n",
       "        <td id=\"T_bf04b0fc_feaf_11e8_aed6_0242ac110002row12_col0\" class=\"data row12 col0\" >2.83751e+06</td> \n",
       "    </tr>    <tr> \n",
       "        <th id=\"T_bf04b0fc_feaf_11e8_aed6_0242ac110002level1_row13\" class=\"row_heading level1 row13\" >2014</th> \n",
       "        <td id=\"T_bf04b0fc_feaf_11e8_aed6_0242ac110002row13_col0\" class=\"data row13 col0\" >2.32411e+06</td> \n",
       "    </tr>    <tr> \n",
       "        <th id=\"T_bf04b0fc_feaf_11e8_aed6_0242ac110002level1_row14\" class=\"row_heading level1 row14\" >2015</th> \n",
       "        <td id=\"T_bf04b0fc_feaf_11e8_aed6_0242ac110002row14_col0\" class=\"data row14 col0\" >2.85168e+06</td> \n",
       "    </tr>    <tr> \n",
       "        <th id=\"T_bf04b0fc_feaf_11e8_aed6_0242ac110002level0_row15\" class=\"row_heading level0 row15\" rowspan=7>3</th> \n",
       "        <th id=\"T_bf04b0fc_feaf_11e8_aed6_0242ac110002level1_row15\" class=\"row_heading level1 row15\" >2009</th> \n",
       "        <td id=\"T_bf04b0fc_feaf_11e8_aed6_0242ac110002row15_col0\" class=\"data row15 col0\" >800912</td> \n",
       "    </tr>    <tr> \n",
       "        <th id=\"T_bf04b0fc_feaf_11e8_aed6_0242ac110002level1_row16\" class=\"row_heading level1 row16\" >2010</th> \n",
       "        <td id=\"T_bf04b0fc_feaf_11e8_aed6_0242ac110002row16_col0\" class=\"data row16 col0\" >-1.30949e+06</td> \n",
       "    </tr>    <tr> \n",
       "        <th id=\"T_bf04b0fc_feaf_11e8_aed6_0242ac110002level1_row17\" class=\"row_heading level1 row17\" >2011</th> \n",
       "        <td id=\"T_bf04b0fc_feaf_11e8_aed6_0242ac110002row17_col0\" class=\"data row17 col0\" >2.2547e+06</td> \n",
       "    </tr>    <tr> \n",
       "        <th id=\"T_bf04b0fc_feaf_11e8_aed6_0242ac110002level1_row18\" class=\"row_heading level1 row18\" >2012</th> \n",
       "        <td id=\"T_bf04b0fc_feaf_11e8_aed6_0242ac110002row18_col0\" class=\"data row18 col0\" >1.32795e+06</td> \n",
       "    </tr>    <tr> \n",
       "        <th id=\"T_bf04b0fc_feaf_11e8_aed6_0242ac110002level1_row19\" class=\"row_heading level1 row19\" >2013</th> \n",
       "        <td id=\"T_bf04b0fc_feaf_11e8_aed6_0242ac110002row19_col0\" class=\"data row19 col0\" >2.39887e+06</td> \n",
       "    </tr>    <tr> \n",
       "        <th id=\"T_bf04b0fc_feaf_11e8_aed6_0242ac110002level1_row20\" class=\"row_heading level1 row20\" >2014</th> \n",
       "        <td id=\"T_bf04b0fc_feaf_11e8_aed6_0242ac110002row20_col0\" class=\"data row20 col0\" >1.5939e+06</td> \n",
       "    </tr>    <tr> \n",
       "        <th id=\"T_bf04b0fc_feaf_11e8_aed6_0242ac110002level1_row21\" class=\"row_heading level1 row21\" >2015</th> \n",
       "        <td id=\"T_bf04b0fc_feaf_11e8_aed6_0242ac110002row21_col0\" class=\"data row21 col0\" >4.31201e+06</td> \n",
       "    </tr>    <tr> \n",
       "        <th id=\"T_bf04b0fc_feaf_11e8_aed6_0242ac110002level0_row22\" class=\"row_heading level0 row22\" rowspan=7>4</th> \n",
       "        <th id=\"T_bf04b0fc_feaf_11e8_aed6_0242ac110002level1_row22\" class=\"row_heading level1 row22\" >2009</th> \n",
       "        <td id=\"T_bf04b0fc_feaf_11e8_aed6_0242ac110002row22_col0\" class=\"data row22 col0\" >1.60255e+06</td> \n",
       "    </tr>    <tr> \n",
       "        <th id=\"T_bf04b0fc_feaf_11e8_aed6_0242ac110002level1_row23\" class=\"row_heading level1 row23\" >2010</th> \n",
       "        <td id=\"T_bf04b0fc_feaf_11e8_aed6_0242ac110002row23_col0\" class=\"data row23 col0\" >2.02948e+06</td> \n",
       "    </tr>    <tr> \n",
       "        <th id=\"T_bf04b0fc_feaf_11e8_aed6_0242ac110002level1_row24\" class=\"row_heading level1 row24\" >2011</th> \n",
       "        <td id=\"T_bf04b0fc_feaf_11e8_aed6_0242ac110002row24_col0\" class=\"data row24 col0\" >1.7475e+06</td> \n",
       "    </tr>    <tr> \n",
       "        <th id=\"T_bf04b0fc_feaf_11e8_aed6_0242ac110002level1_row25\" class=\"row_heading level1 row25\" >2012</th> \n",
       "        <td id=\"T_bf04b0fc_feaf_11e8_aed6_0242ac110002row25_col0\" class=\"data row25 col0\" >2.98958e+06</td> \n",
       "    </tr>    <tr> \n",
       "        <th id=\"T_bf04b0fc_feaf_11e8_aed6_0242ac110002level1_row26\" class=\"row_heading level1 row26\" >2013</th> \n",
       "        <td id=\"T_bf04b0fc_feaf_11e8_aed6_0242ac110002row26_col0\" class=\"data row26 col0\" >4.12695e+06</td> \n",
       "    </tr>    <tr> \n",
       "        <th id=\"T_bf04b0fc_feaf_11e8_aed6_0242ac110002level1_row27\" class=\"row_heading level1 row27\" >2014</th> \n",
       "        <td id=\"T_bf04b0fc_feaf_11e8_aed6_0242ac110002row27_col0\" class=\"data row27 col0\" >1.31758e+06</td> \n",
       "    </tr>    <tr> \n",
       "        <th id=\"T_bf04b0fc_feaf_11e8_aed6_0242ac110002level1_row28\" class=\"row_heading level1 row28\" >2015</th> \n",
       "        <td id=\"T_bf04b0fc_feaf_11e8_aed6_0242ac110002row28_col0\" class=\"data row28 col0\" >3.62271e+06</td> \n",
       "    </tr></tbody> \n",
       "</table> "
      ],
      "text/plain": [
       "<pandas.io.formats.style.Styler at 0x7ff281b305c0>"
      ]
     },
     "execution_count": 21,
     "metadata": {},
     "output_type": "execute_result"
    }
   ],
   "source": [
    "# Total Revenue per Quarter across multi-year\n",
    " \n",
    "dfquarter = pd.DataFrame(df.groupby([ df.index.quarter, df.index.year])['Revenue'].sum())\n",
    "dfquarter.rename_axis(['Quarter','Year'], inplace=True)\n",
    "dfquarter.style.\\\n",
    "    applymap(color_negative_red).\\\n",
    "    apply(highlight_max)"
   ]
  },
  {
   "cell_type": "code",
   "execution_count": 22,
   "metadata": {},
   "outputs": [
    {
     "name": "stdout",
     "output_type": "stream",
     "text": [
      "Highest Grossing Quarterly Revenue of $4312011 was observed on the 3 quarter of 2015.\n",
      "Biggest Quarterly Loss of $-1309489 was observed on the 3 quarter of 2010.\n"
     ]
    }
   ],
   "source": [
    "# Get the Min/Max Quarterly Revenue\n",
    "\n",
    "QHrev= dfquarter.Revenue.max()\n",
    "QHLoss = dfquarter.Revenue.min()\n",
    "Qmax = max(dfquarter.idxmax())\n",
    "Qmin = min(dfquarter.idxmin())\n",
    "\n",
    "print('Highest Grossing Quarterly Revenue of $%.0f was observed on the %s quarter of %s.' %(QHrev,Qmax[0], Qmax[1] ))\n",
    "print('Biggest Quarterly Loss of $%.00f was observed on the %s quarter of %s.' %(QHLoss,Qmin[0], Qmin[1] ))"
   ]
  },
  {
   "cell_type": "code",
   "execution_count": 23,
   "metadata": {},
   "outputs": [
    {
     "data": {
      "text/html": [
       "<style  type=\"text/css\" >\n",
       "    #T_bf0df5cc_feaf_11e8_aed6_0242ac110002row0_col0 {\n",
       "            color:  black;\n",
       "            : ;\n",
       "        }    #T_bf0df5cc_feaf_11e8_aed6_0242ac110002row1_col0 {\n",
       "            color:  black;\n",
       "            : ;\n",
       "        }    #T_bf0df5cc_feaf_11e8_aed6_0242ac110002row2_col0 {\n",
       "            color:  black;\n",
       "            : ;\n",
       "        }    #T_bf0df5cc_feaf_11e8_aed6_0242ac110002row3_col0 {\n",
       "            color:  black;\n",
       "            background-color:  yellow;\n",
       "        }</style>  \n",
       "<table id=\"T_bf0df5cc_feaf_11e8_aed6_0242ac110002\" > \n",
       "<thead>    <tr> \n",
       "        <th class=\"blank level0\" ></th> \n",
       "        <th class=\"col_heading level0 col0\" >Revenue</th> \n",
       "    </tr>    <tr> \n",
       "        <th class=\"index_name level0\" >Quarter</th> \n",
       "        <th class=\"blank\" ></th> \n",
       "    </tr></thead> \n",
       "<tbody>    <tr> \n",
       "        <th id=\"T_bf0df5cc_feaf_11e8_aed6_0242ac110002level0_row0\" class=\"row_heading level0 row0\" >1</th> \n",
       "        <td id=\"T_bf0df5cc_feaf_11e8_aed6_0242ac110002row0_col0\" class=\"data row0 col0\" >1.80043e+06</td> \n",
       "    </tr>    <tr> \n",
       "        <th id=\"T_bf0df5cc_feaf_11e8_aed6_0242ac110002level0_row1\" class=\"row_heading level0 row1\" >2</th> \n",
       "        <td id=\"T_bf0df5cc_feaf_11e8_aed6_0242ac110002row1_col0\" class=\"data row1 col0\" >1.81809e+06</td> \n",
       "    </tr>    <tr> \n",
       "        <th id=\"T_bf0df5cc_feaf_11e8_aed6_0242ac110002level0_row2\" class=\"row_heading level0 row2\" >3</th> \n",
       "        <td id=\"T_bf0df5cc_feaf_11e8_aed6_0242ac110002row2_col0\" class=\"data row2 col0\" >1.62555e+06</td> \n",
       "    </tr>    <tr> \n",
       "        <th id=\"T_bf0df5cc_feaf_11e8_aed6_0242ac110002level0_row3\" class=\"row_heading level0 row3\" >4</th> \n",
       "        <td id=\"T_bf0df5cc_feaf_11e8_aed6_0242ac110002row3_col0\" class=\"data row3 col0\" >2.49091e+06</td> \n",
       "    </tr></tbody> \n",
       "</table> "
      ],
      "text/plain": [
       "<pandas.io.formats.style.Styler at 0x7ff281a0ddd8>"
      ]
     },
     "execution_count": 23,
     "metadata": {},
     "output_type": "execute_result"
    }
   ],
   "source": [
    "# Monthly Revenue Averages across Y2009- 2016\n",
    "dq = dfquarter.reset_index(['Quarter', 'Year'])\n",
    "Average_quarterly = pd.DataFrame(dq.groupby('Quarter')['Revenue'].mean())\n",
    "Average_quarterly.style.applymap(color_negative_red).apply(highlight_max)"
   ]
  },
  {
   "cell_type": "code",
   "execution_count": 24,
   "metadata": {},
   "outputs": [
    {
     "data": {
      "text/plain": [
       "<matplotlib.axes._subplots.AxesSubplot at 0x7ff281a18048>"
      ]
     },
     "execution_count": 24,
     "metadata": {},
     "output_type": "execute_result"
    },
    {
     "data": {
      "image/png": "[encoded data removed]",
      "text/plain": [
       "<Figure size 864x432 with 1 Axes>"
      ]
     },
     "metadata": {
      "needs_background": "light"
     },
     "output_type": "display_data"
    }
   ],
   "source": [
    "Average_quarterly.plot(kind='bar', figsize=(12,6))"
   ]
  },
  {
   "cell_type": "code",
   "execution_count": 25,
   "metadata": {},
   "outputs": [
    {
     "name": "stdout",
     "output_type": "stream",
     "text": [
      "The 4th Quarter is the most profitable quarter with a Quarterly Average Revenue of $2490909.\n"
     ]
    }
   ],
   "source": [
    "maxq = max(Average_quarterly.idxmax())\n",
    "maxqr = Average_quarterly.max()\n",
    "\n",
    "\n",
    "print('The %sth Quarter is the most profitable quarter with a Quarterly Average Revenue of $%0.0f.'%(maxq,maxqr))"
   ]
  },
  {
   "cell_type": "markdown",
   "metadata": {},
   "source": [
    "---"
   ]
  },
  {
   "cell_type": "markdown",
   "metadata": {},
   "source": [
    "### Quarterly Revenue Year per Year"
   ]
  },
  {
   "cell_type": "code",
   "execution_count": 26,
   "metadata": {},
   "outputs": [
    {
     "data": {
      "text/html": [
       "<style  type=\"text/css\" >\n",
       "    #T_bf4ffde6_feaf_11e8_aed6_0242ac110002row0_col0 {\n",
       "            color:  black;\n",
       "            : ;\n",
       "        }    #T_bf4ffde6_feaf_11e8_aed6_0242ac110002row1_col0 {\n",
       "            color:  black;\n",
       "            : ;\n",
       "        }    #T_bf4ffde6_feaf_11e8_aed6_0242ac110002row2_col0 {\n",
       "            color:  black;\n",
       "            : ;\n",
       "        }    #T_bf4ffde6_feaf_11e8_aed6_0242ac110002row3_col0 {\n",
       "            color:  black;\n",
       "            : ;\n",
       "        }    #T_bf4ffde6_feaf_11e8_aed6_0242ac110002row4_col0 {\n",
       "            color:  black;\n",
       "            : ;\n",
       "        }    #T_bf4ffde6_feaf_11e8_aed6_0242ac110002row5_col0 {\n",
       "            color:  black;\n",
       "            : ;\n",
       "        }    #T_bf4ffde6_feaf_11e8_aed6_0242ac110002row6_col0 {\n",
       "            color:  red;\n",
       "            : ;\n",
       "        }    #T_bf4ffde6_feaf_11e8_aed6_0242ac110002row7_col0 {\n",
       "            color:  black;\n",
       "            : ;\n",
       "        }    #T_bf4ffde6_feaf_11e8_aed6_0242ac110002row8_col0 {\n",
       "            color:  black;\n",
       "            : ;\n",
       "        }    #T_bf4ffde6_feaf_11e8_aed6_0242ac110002row9_col0 {\n",
       "            color:  black;\n",
       "            : ;\n",
       "        }    #T_bf4ffde6_feaf_11e8_aed6_0242ac110002row10_col0 {\n",
       "            color:  black;\n",
       "            : ;\n",
       "        }    #T_bf4ffde6_feaf_11e8_aed6_0242ac110002row11_col0 {\n",
       "            color:  black;\n",
       "            : ;\n",
       "        }    #T_bf4ffde6_feaf_11e8_aed6_0242ac110002row12_col0 {\n",
       "            color:  black;\n",
       "            : ;\n",
       "        }    #T_bf4ffde6_feaf_11e8_aed6_0242ac110002row13_col0 {\n",
       "            color:  black;\n",
       "            : ;\n",
       "        }    #T_bf4ffde6_feaf_11e8_aed6_0242ac110002row14_col0 {\n",
       "            color:  black;\n",
       "            : ;\n",
       "        }    #T_bf4ffde6_feaf_11e8_aed6_0242ac110002row15_col0 {\n",
       "            color:  black;\n",
       "            : ;\n",
       "        }    #T_bf4ffde6_feaf_11e8_aed6_0242ac110002row16_col0 {\n",
       "            color:  black;\n",
       "            : ;\n",
       "        }    #T_bf4ffde6_feaf_11e8_aed6_0242ac110002row17_col0 {\n",
       "            color:  black;\n",
       "            : ;\n",
       "        }    #T_bf4ffde6_feaf_11e8_aed6_0242ac110002row18_col0 {\n",
       "            color:  black;\n",
       "            : ;\n",
       "        }    #T_bf4ffde6_feaf_11e8_aed6_0242ac110002row19_col0 {\n",
       "            color:  black;\n",
       "            : ;\n",
       "        }    #T_bf4ffde6_feaf_11e8_aed6_0242ac110002row20_col0 {\n",
       "            color:  black;\n",
       "            : ;\n",
       "        }    #T_bf4ffde6_feaf_11e8_aed6_0242ac110002row21_col0 {\n",
       "            color:  black;\n",
       "            : ;\n",
       "        }    #T_bf4ffde6_feaf_11e8_aed6_0242ac110002row22_col0 {\n",
       "            color:  black;\n",
       "            : ;\n",
       "        }    #T_bf4ffde6_feaf_11e8_aed6_0242ac110002row23_col0 {\n",
       "            color:  black;\n",
       "            : ;\n",
       "        }    #T_bf4ffde6_feaf_11e8_aed6_0242ac110002row24_col0 {\n",
       "            color:  black;\n",
       "            : ;\n",
       "        }    #T_bf4ffde6_feaf_11e8_aed6_0242ac110002row25_col0 {\n",
       "            color:  black;\n",
       "            : ;\n",
       "        }    #T_bf4ffde6_feaf_11e8_aed6_0242ac110002row26_col0 {\n",
       "            color:  black;\n",
       "            background-color:  yellow;\n",
       "        }    #T_bf4ffde6_feaf_11e8_aed6_0242ac110002row27_col0 {\n",
       "            color:  black;\n",
       "            : ;\n",
       "        }    #T_bf4ffde6_feaf_11e8_aed6_0242ac110002row28_col0 {\n",
       "            color:  black;\n",
       "            : ;\n",
       "        }</style>  \n",
       "<table id=\"T_bf4ffde6_feaf_11e8_aed6_0242ac110002\" > \n",
       "<thead>    <tr> \n",
       "        <th class=\"blank\" ></th> \n",
       "        <th class=\"blank level0\" ></th> \n",
       "        <th class=\"col_heading level0 col0\" >Revenue</th> \n",
       "    </tr>    <tr> \n",
       "        <th class=\"index_name level0\" >Year</th> \n",
       "        <th class=\"index_name level1\" >Quarter</th> \n",
       "        <th class=\"blank\" ></th> \n",
       "    </tr></thead> \n",
       "<tbody>    <tr> \n",
       "        <th id=\"T_bf4ffde6_feaf_11e8_aed6_0242ac110002level0_row0\" class=\"row_heading level0 row0\" rowspan=4>2009</th> \n",
       "        <th id=\"T_bf4ffde6_feaf_11e8_aed6_0242ac110002level1_row0\" class=\"row_heading level1 row0\" >1</th> \n",
       "        <td id=\"T_bf4ffde6_feaf_11e8_aed6_0242ac110002row0_col0\" class=\"data row0 col0\" >2.21633e+06</td> \n",
       "    </tr>    <tr> \n",
       "        <th id=\"T_bf4ffde6_feaf_11e8_aed6_0242ac110002level1_row1\" class=\"row_heading level1 row1\" >2</th> \n",
       "        <td id=\"T_bf4ffde6_feaf_11e8_aed6_0242ac110002row1_col0\" class=\"data row1 col0\" >466338</td> \n",
       "    </tr>    <tr> \n",
       "        <th id=\"T_bf4ffde6_feaf_11e8_aed6_0242ac110002level1_row2\" class=\"row_heading level1 row2\" >3</th> \n",
       "        <td id=\"T_bf4ffde6_feaf_11e8_aed6_0242ac110002row2_col0\" class=\"data row2 col0\" >800912</td> \n",
       "    </tr>    <tr> \n",
       "        <th id=\"T_bf4ffde6_feaf_11e8_aed6_0242ac110002level1_row3\" class=\"row_heading level1 row3\" >4</th> \n",
       "        <td id=\"T_bf4ffde6_feaf_11e8_aed6_0242ac110002row3_col0\" class=\"data row3 col0\" >1.60255e+06</td> \n",
       "    </tr>    <tr> \n",
       "        <th id=\"T_bf4ffde6_feaf_11e8_aed6_0242ac110002level0_row4\" class=\"row_heading level0 row4\" rowspan=4>2010</th> \n",
       "        <th id=\"T_bf4ffde6_feaf_11e8_aed6_0242ac110002level1_row4\" class=\"row_heading level1 row4\" >1</th> \n",
       "        <td id=\"T_bf4ffde6_feaf_11e8_aed6_0242ac110002row4_col0\" class=\"data row4 col0\" >2.09836e+06</td> \n",
       "    </tr>    <tr> \n",
       "        <th id=\"T_bf4ffde6_feaf_11e8_aed6_0242ac110002level1_row5\" class=\"row_heading level1 row5\" >2</th> \n",
       "        <td id=\"T_bf4ffde6_feaf_11e8_aed6_0242ac110002row5_col0\" class=\"data row5 col0\" >1.27245e+06</td> \n",
       "    </tr>    <tr> \n",
       "        <th id=\"T_bf4ffde6_feaf_11e8_aed6_0242ac110002level1_row6\" class=\"row_heading level1 row6\" >3</th> \n",
       "        <td id=\"T_bf4ffde6_feaf_11e8_aed6_0242ac110002row6_col0\" class=\"data row6 col0\" >-1.30949e+06</td> \n",
       "    </tr>    <tr> \n",
       "        <th id=\"T_bf4ffde6_feaf_11e8_aed6_0242ac110002level1_row7\" class=\"row_heading level1 row7\" >4</th> \n",
       "        <td id=\"T_bf4ffde6_feaf_11e8_aed6_0242ac110002row7_col0\" class=\"data row7 col0\" >2.02948e+06</td> \n",
       "    </tr>    <tr> \n",
       "        <th id=\"T_bf4ffde6_feaf_11e8_aed6_0242ac110002level0_row8\" class=\"row_heading level0 row8\" rowspan=4>2011</th> \n",
       "        <th id=\"T_bf4ffde6_feaf_11e8_aed6_0242ac110002level1_row8\" class=\"row_heading level1 row8\" >1</th> \n",
       "        <td id=\"T_bf4ffde6_feaf_11e8_aed6_0242ac110002row8_col0\" class=\"data row8 col0\" >110632</td> \n",
       "    </tr>    <tr> \n",
       "        <th id=\"T_bf4ffde6_feaf_11e8_aed6_0242ac110002level1_row9\" class=\"row_heading level1 row9\" >2</th> \n",
       "        <td id=\"T_bf4ffde6_feaf_11e8_aed6_0242ac110002row9_col0\" class=\"data row9 col0\" >1.91314e+06</td> \n",
       "    </tr>    <tr> \n",
       "        <th id=\"T_bf4ffde6_feaf_11e8_aed6_0242ac110002level1_row10\" class=\"row_heading level1 row10\" >3</th> \n",
       "        <td id=\"T_bf4ffde6_feaf_11e8_aed6_0242ac110002row10_col0\" class=\"data row10 col0\" >2.2547e+06</td> \n",
       "    </tr>    <tr> \n",
       "        <th id=\"T_bf4ffde6_feaf_11e8_aed6_0242ac110002level1_row11\" class=\"row_heading level1 row11\" >4</th> \n",
       "        <td id=\"T_bf4ffde6_feaf_11e8_aed6_0242ac110002row11_col0\" class=\"data row11 col0\" >1.7475e+06</td> \n",
       "    </tr>    <tr> \n",
       "        <th id=\"T_bf4ffde6_feaf_11e8_aed6_0242ac110002level0_row12\" class=\"row_heading level0 row12\" rowspan=4>2012</th> \n",
       "        <th id=\"T_bf4ffde6_feaf_11e8_aed6_0242ac110002level1_row12\" class=\"row_heading level1 row12\" >1</th> \n",
       "        <td id=\"T_bf4ffde6_feaf_11e8_aed6_0242ac110002row12_col0\" class=\"data row12 col0\" >1.87471e+06</td> \n",
       "    </tr>    <tr> \n",
       "        <th id=\"T_bf4ffde6_feaf_11e8_aed6_0242ac110002level1_row13\" class=\"row_heading level1 row13\" >2</th> \n",
       "        <td id=\"T_bf4ffde6_feaf_11e8_aed6_0242ac110002row13_col0\" class=\"data row13 col0\" >1.0614e+06</td> \n",
       "    </tr>    <tr> \n",
       "        <th id=\"T_bf4ffde6_feaf_11e8_aed6_0242ac110002level1_row14\" class=\"row_heading level1 row14\" >3</th> \n",
       "        <td id=\"T_bf4ffde6_feaf_11e8_aed6_0242ac110002row14_col0\" class=\"data row14 col0\" >1.32795e+06</td> \n",
       "    </tr>    <tr> \n",
       "        <th id=\"T_bf4ffde6_feaf_11e8_aed6_0242ac110002level1_row15\" class=\"row_heading level1 row15\" >4</th> \n",
       "        <td id=\"T_bf4ffde6_feaf_11e8_aed6_0242ac110002row15_col0\" class=\"data row15 col0\" >2.98958e+06</td> \n",
       "    </tr>    <tr> \n",
       "        <th id=\"T_bf4ffde6_feaf_11e8_aed6_0242ac110002level0_row16\" class=\"row_heading level0 row16\" rowspan=4>2013</th> \n",
       "        <th id=\"T_bf4ffde6_feaf_11e8_aed6_0242ac110002level1_row16\" class=\"row_heading level1 row16\" >1</th> \n",
       "        <td id=\"T_bf4ffde6_feaf_11e8_aed6_0242ac110002row16_col0\" class=\"data row16 col0\" >3.03423e+06</td> \n",
       "    </tr>    <tr> \n",
       "        <th id=\"T_bf4ffde6_feaf_11e8_aed6_0242ac110002level1_row17\" class=\"row_heading level1 row17\" >2</th> \n",
       "        <td id=\"T_bf4ffde6_feaf_11e8_aed6_0242ac110002row17_col0\" class=\"data row17 col0\" >2.83751e+06</td> \n",
       "    </tr>    <tr> \n",
       "        <th id=\"T_bf4ffde6_feaf_11e8_aed6_0242ac110002level1_row18\" class=\"row_heading level1 row18\" >3</th> \n",
       "        <td id=\"T_bf4ffde6_feaf_11e8_aed6_0242ac110002row18_col0\" class=\"data row18 col0\" >2.39887e+06</td> \n",
       "    </tr>    <tr> \n",
       "        <th id=\"T_bf4ffde6_feaf_11e8_aed6_0242ac110002level1_row19\" class=\"row_heading level1 row19\" >4</th> \n",
       "        <td id=\"T_bf4ffde6_feaf_11e8_aed6_0242ac110002row19_col0\" class=\"data row19 col0\" >4.12695e+06</td> \n",
       "    </tr>    <tr> \n",
       "        <th id=\"T_bf4ffde6_feaf_11e8_aed6_0242ac110002level0_row20\" class=\"row_heading level0 row20\" rowspan=4>2014</th> \n",
       "        <th id=\"T_bf4ffde6_feaf_11e8_aed6_0242ac110002level1_row20\" class=\"row_heading level1 row20\" >1</th> \n",
       "        <td id=\"T_bf4ffde6_feaf_11e8_aed6_0242ac110002row20_col0\" class=\"data row20 col0\" >1.57082e+06</td> \n",
       "    </tr>    <tr> \n",
       "        <th id=\"T_bf4ffde6_feaf_11e8_aed6_0242ac110002level1_row21\" class=\"row_heading level1 row21\" >2</th> \n",
       "        <td id=\"T_bf4ffde6_feaf_11e8_aed6_0242ac110002row21_col0\" class=\"data row21 col0\" >2.32411e+06</td> \n",
       "    </tr>    <tr> \n",
       "        <th id=\"T_bf4ffde6_feaf_11e8_aed6_0242ac110002level1_row22\" class=\"row_heading level1 row22\" >3</th> \n",
       "        <td id=\"T_bf4ffde6_feaf_11e8_aed6_0242ac110002row22_col0\" class=\"data row22 col0\" >1.5939e+06</td> \n",
       "    </tr>    <tr> \n",
       "        <th id=\"T_bf4ffde6_feaf_11e8_aed6_0242ac110002level1_row23\" class=\"row_heading level1 row23\" >4</th> \n",
       "        <td id=\"T_bf4ffde6_feaf_11e8_aed6_0242ac110002row23_col0\" class=\"data row23 col0\" >1.31758e+06</td> \n",
       "    </tr>    <tr> \n",
       "        <th id=\"T_bf4ffde6_feaf_11e8_aed6_0242ac110002level0_row24\" class=\"row_heading level0 row24\" rowspan=4>2015</th> \n",
       "        <th id=\"T_bf4ffde6_feaf_11e8_aed6_0242ac110002level1_row24\" class=\"row_heading level1 row24\" >1</th> \n",
       "        <td id=\"T_bf4ffde6_feaf_11e8_aed6_0242ac110002row24_col0\" class=\"data row24 col0\" >2.77444e+06</td> \n",
       "    </tr>    <tr> \n",
       "        <th id=\"T_bf4ffde6_feaf_11e8_aed6_0242ac110002level1_row25\" class=\"row_heading level1 row25\" >2</th> \n",
       "        <td id=\"T_bf4ffde6_feaf_11e8_aed6_0242ac110002row25_col0\" class=\"data row25 col0\" >2.85168e+06</td> \n",
       "    </tr>    <tr> \n",
       "        <th id=\"T_bf4ffde6_feaf_11e8_aed6_0242ac110002level1_row26\" class=\"row_heading level1 row26\" >3</th> \n",
       "        <td id=\"T_bf4ffde6_feaf_11e8_aed6_0242ac110002row26_col0\" class=\"data row26 col0\" >4.31201e+06</td> \n",
       "    </tr>    <tr> \n",
       "        <th id=\"T_bf4ffde6_feaf_11e8_aed6_0242ac110002level1_row27\" class=\"row_heading level1 row27\" >4</th> \n",
       "        <td id=\"T_bf4ffde6_feaf_11e8_aed6_0242ac110002row27_col0\" class=\"data row27 col0\" >3.62271e+06</td> \n",
       "    </tr>    <tr> \n",
       "        <th id=\"T_bf4ffde6_feaf_11e8_aed6_0242ac110002level0_row28\" class=\"row_heading level0 row28\" >2016</th> \n",
       "        <th id=\"T_bf4ffde6_feaf_11e8_aed6_0242ac110002level1_row28\" class=\"row_heading level1 row28\" >1</th> \n",
       "        <td id=\"T_bf4ffde6_feaf_11e8_aed6_0242ac110002row28_col0\" class=\"data row28 col0\" >723960</td> \n",
       "    </tr></tbody> \n",
       "</table> "
      ],
      "text/plain": [
       "<pandas.io.formats.style.Styler at 0x7ff281b09eb8>"
      ]
     },
     "execution_count": 26,
     "metadata": {},
     "output_type": "execute_result"
    }
   ],
   "source": [
    "# Average Quarterly Revenue per Year\n",
    "\n",
    "dfquarter1 = pd.DataFrame(df.groupby([ df.index.year,df.index.quarter ])['Revenue'].agg('sum'))\n",
    "dfquarter1.rename_axis(['Year','Quarter'], inplace=True)\n",
    "dfquarter1.style.\\\n",
    "    applymap(color_negative_red).\\\n",
    "    apply(highlight_max)"
   ]
  },
  {
   "cell_type": "code",
   "execution_count": 27,
   "metadata": {},
   "outputs": [
    {
     "data": {
      "text/html": [
       "<style  type=\"text/css\" >\n",
       "    #T_bf55a2f0_feaf_11e8_aed6_0242ac110002row0_col0 {\n",
       "            color:  black;\n",
       "            : ;\n",
       "        }    #T_bf55a2f0_feaf_11e8_aed6_0242ac110002row1_col0 {\n",
       "            color:  black;\n",
       "            : ;\n",
       "        }    #T_bf55a2f0_feaf_11e8_aed6_0242ac110002row2_col0 {\n",
       "            color:  black;\n",
       "            : ;\n",
       "        }    #T_bf55a2f0_feaf_11e8_aed6_0242ac110002row3_col0 {\n",
       "            color:  black;\n",
       "            : ;\n",
       "        }    #T_bf55a2f0_feaf_11e8_aed6_0242ac110002row4_col0 {\n",
       "            color:  black;\n",
       "            : ;\n",
       "        }    #T_bf55a2f0_feaf_11e8_aed6_0242ac110002row5_col0 {\n",
       "            color:  black;\n",
       "            : ;\n",
       "        }    #T_bf55a2f0_feaf_11e8_aed6_0242ac110002row6_col0 {\n",
       "            color:  black;\n",
       "            background-color:  yellow;\n",
       "        }    #T_bf55a2f0_feaf_11e8_aed6_0242ac110002row7_col0 {\n",
       "            color:  black;\n",
       "            : ;\n",
       "        }</style>  \n",
       "<table id=\"T_bf55a2f0_feaf_11e8_aed6_0242ac110002\" > \n",
       "<thead>    <tr> \n",
       "        <th class=\"blank level0\" ></th> \n",
       "        <th class=\"col_heading level0 col0\" >Revenue</th> \n",
       "    </tr>    <tr> \n",
       "        <th class=\"index_name level0\" >Year</th> \n",
       "        <th class=\"blank\" ></th> \n",
       "    </tr></thead> \n",
       "<tbody>    <tr> \n",
       "        <th id=\"T_bf55a2f0_feaf_11e8_aed6_0242ac110002level0_row0\" class=\"row_heading level0 row0\" >2009</th> \n",
       "        <td id=\"T_bf55a2f0_feaf_11e8_aed6_0242ac110002row0_col0\" class=\"data row0 col0\" >1.27153e+06</td> \n",
       "    </tr>    <tr> \n",
       "        <th id=\"T_bf55a2f0_feaf_11e8_aed6_0242ac110002level0_row1\" class=\"row_heading level0 row1\" >2010</th> \n",
       "        <td id=\"T_bf55a2f0_feaf_11e8_aed6_0242ac110002row1_col0\" class=\"data row1 col0\" >1.0227e+06</td> \n",
       "    </tr>    <tr> \n",
       "        <th id=\"T_bf55a2f0_feaf_11e8_aed6_0242ac110002level0_row2\" class=\"row_heading level0 row2\" >2011</th> \n",
       "        <td id=\"T_bf55a2f0_feaf_11e8_aed6_0242ac110002row2_col0\" class=\"data row2 col0\" >1.50649e+06</td> \n",
       "    </tr>    <tr> \n",
       "        <th id=\"T_bf55a2f0_feaf_11e8_aed6_0242ac110002level0_row3\" class=\"row_heading level0 row3\" >2012</th> \n",
       "        <td id=\"T_bf55a2f0_feaf_11e8_aed6_0242ac110002row3_col0\" class=\"data row3 col0\" >1.81341e+06</td> \n",
       "    </tr>    <tr> \n",
       "        <th id=\"T_bf55a2f0_feaf_11e8_aed6_0242ac110002level0_row4\" class=\"row_heading level0 row4\" >2013</th> \n",
       "        <td id=\"T_bf55a2f0_feaf_11e8_aed6_0242ac110002row4_col0\" class=\"data row4 col0\" >3.09939e+06</td> \n",
       "    </tr>    <tr> \n",
       "        <th id=\"T_bf55a2f0_feaf_11e8_aed6_0242ac110002level0_row5\" class=\"row_heading level0 row5\" >2014</th> \n",
       "        <td id=\"T_bf55a2f0_feaf_11e8_aed6_0242ac110002row5_col0\" class=\"data row5 col0\" >1.7016e+06</td> \n",
       "    </tr>    <tr> \n",
       "        <th id=\"T_bf55a2f0_feaf_11e8_aed6_0242ac110002level0_row6\" class=\"row_heading level0 row6\" >2015</th> \n",
       "        <td id=\"T_bf55a2f0_feaf_11e8_aed6_0242ac110002row6_col0\" class=\"data row6 col0\" >3.39021e+06</td> \n",
       "    </tr>    <tr> \n",
       "        <th id=\"T_bf55a2f0_feaf_11e8_aed6_0242ac110002level0_row7\" class=\"row_heading level0 row7\" >2016</th> \n",
       "        <td id=\"T_bf55a2f0_feaf_11e8_aed6_0242ac110002row7_col0\" class=\"data row7 col0\" >723960</td> \n",
       "    </tr></tbody> \n",
       "</table> "
      ],
      "text/plain": [
       "<pandas.io.formats.style.Styler at 0x7ff281af1438>"
      ]
     },
     "execution_count": 27,
     "metadata": {},
     "output_type": "execute_result"
    }
   ],
   "source": [
    "dfquarter1.reset_index(['Year','Quarter'], inplace=True)\n",
    "dq = pd.DataFrame(dfquarter1.groupby('Year')['Revenue'].mean())\n",
    "dq.style.applymap(color_negative_red).apply(highlight_max)"
   ]
  },
  {
   "cell_type": "code",
   "execution_count": 28,
   "metadata": {},
   "outputs": [
    {
     "name": "stdout",
     "output_type": "stream",
     "text": [
      "2015 has the best quarterly revenue average of 3390210.\n"
     ]
    }
   ],
   "source": [
    "print('%s has the best quarterly revenue average of %0.0f.' %(max(dq.idxmax()),dq.Revenue.max()))"
   ]
  },
  {
   "cell_type": "code",
   "execution_count": 29,
   "metadata": {},
   "outputs": [
    {
     "data": {
      "text/plain": [
       "<matplotlib.axes._subplots.AxesSubplot at 0x7ff2819f8240>"
      ]
     },
     "execution_count": 29,
     "metadata": {},
     "output_type": "execute_result"
    },
    {
     "data": {
      "image/png": "[encoded data removed]",
      "text/plain": [
       "<Figure size 864x432 with 1 Axes>"
      ]
     },
     "metadata": {
      "needs_background": "light"
     },
     "output_type": "display_data"
    }
   ],
   "source": [
    "dq.plot(kind='bar', figsize=(12,6))"
   ]
  },
  {
   "cell_type": "markdown",
   "metadata": {},
   "source": [
    "- Now we know that 4th quarter is the most profitable period in terms of revenue averages.  Although records show that the 3rd quarter of 2015 observed the highest Gross Revenue of ```$2,490,909```, it is also on 3rd quarter of 2010 that experienced a heavy quarterly loss of ```$1,309,489```.\n",
    "\n",
    "\n",
    "- 1st and 2nd quarter have no significant difference and follows the 4th quarter leader in terms of performance.\n",
    "\n",
    "\n"
   ]
  },
  {
   "cell_type": "markdown",
   "metadata": {},
   "source": [
    "### Total Revenue Per Year"
   ]
  },
  {
   "cell_type": "code",
   "execution_count": 30,
   "metadata": {},
   "outputs": [
    {
     "data": {
      "text/html": [
       "<style  type=\"text/css\" >\n",
       "    #T_bf855cb6_feaf_11e8_aed6_0242ac110002row0_col0 {\n",
       "            color:  black;\n",
       "            : ;\n",
       "        }    #T_bf855cb6_feaf_11e8_aed6_0242ac110002row1_col0 {\n",
       "            color:  black;\n",
       "            : ;\n",
       "        }    #T_bf855cb6_feaf_11e8_aed6_0242ac110002row2_col0 {\n",
       "            color:  black;\n",
       "            : ;\n",
       "        }    #T_bf855cb6_feaf_11e8_aed6_0242ac110002row3_col0 {\n",
       "            color:  black;\n",
       "            : ;\n",
       "        }    #T_bf855cb6_feaf_11e8_aed6_0242ac110002row4_col0 {\n",
       "            color:  black;\n",
       "            : ;\n",
       "        }    #T_bf855cb6_feaf_11e8_aed6_0242ac110002row5_col0 {\n",
       "            color:  black;\n",
       "            : ;\n",
       "        }    #T_bf855cb6_feaf_11e8_aed6_0242ac110002row6_col0 {\n",
       "            color:  black;\n",
       "            background-color:  yellow;\n",
       "        }    #T_bf855cb6_feaf_11e8_aed6_0242ac110002row7_col0 {\n",
       "            color:  black;\n",
       "            : ;\n",
       "        }</style>  \n",
       "<table id=\"T_bf855cb6_feaf_11e8_aed6_0242ac110002\" > \n",
       "<thead>    <tr> \n",
       "        <th class=\"blank level0\" ></th> \n",
       "        <th class=\"col_heading level0 col0\" >Revenue</th> \n",
       "    </tr>    <tr> \n",
       "        <th class=\"index_name level0\" >Year</th> \n",
       "        <th class=\"blank\" ></th> \n",
       "    </tr></thead> \n",
       "<tbody>    <tr> \n",
       "        <th id=\"T_bf855cb6_feaf_11e8_aed6_0242ac110002level0_row0\" class=\"row_heading level0 row0\" >2009</th> \n",
       "        <td id=\"T_bf855cb6_feaf_11e8_aed6_0242ac110002row0_col0\" class=\"data row0 col0\" >5.08614e+06</td> \n",
       "    </tr>    <tr> \n",
       "        <th id=\"T_bf855cb6_feaf_11e8_aed6_0242ac110002level0_row1\" class=\"row_heading level0 row1\" >2010</th> \n",
       "        <td id=\"T_bf855cb6_feaf_11e8_aed6_0242ac110002row1_col0\" class=\"data row1 col0\" >4.0908e+06</td> \n",
       "    </tr>    <tr> \n",
       "        <th id=\"T_bf855cb6_feaf_11e8_aed6_0242ac110002level0_row2\" class=\"row_heading level0 row2\" >2011</th> \n",
       "        <td id=\"T_bf855cb6_feaf_11e8_aed6_0242ac110002row2_col0\" class=\"data row2 col0\" >6.02598e+06</td> \n",
       "    </tr>    <tr> \n",
       "        <th id=\"T_bf855cb6_feaf_11e8_aed6_0242ac110002level0_row3\" class=\"row_heading level0 row3\" >2012</th> \n",
       "        <td id=\"T_bf855cb6_feaf_11e8_aed6_0242ac110002row3_col0\" class=\"data row3 col0\" >7.25363e+06</td> \n",
       "    </tr>    <tr> \n",
       "        <th id=\"T_bf855cb6_feaf_11e8_aed6_0242ac110002level0_row4\" class=\"row_heading level0 row4\" >2013</th> \n",
       "        <td id=\"T_bf855cb6_feaf_11e8_aed6_0242ac110002row4_col0\" class=\"data row4 col0\" >1.23976e+07</td> \n",
       "    </tr>    <tr> \n",
       "        <th id=\"T_bf855cb6_feaf_11e8_aed6_0242ac110002level0_row5\" class=\"row_heading level0 row5\" >2014</th> \n",
       "        <td id=\"T_bf855cb6_feaf_11e8_aed6_0242ac110002row5_col0\" class=\"data row5 col0\" >6.80641e+06</td> \n",
       "    </tr>    <tr> \n",
       "        <th id=\"T_bf855cb6_feaf_11e8_aed6_0242ac110002level0_row6\" class=\"row_heading level0 row6\" >2015</th> \n",
       "        <td id=\"T_bf855cb6_feaf_11e8_aed6_0242ac110002row6_col0\" class=\"data row6 col0\" >1.35608e+07</td> \n",
       "    </tr>    <tr> \n",
       "        <th id=\"T_bf855cb6_feaf_11e8_aed6_0242ac110002level0_row7\" class=\"row_heading level0 row7\" >2016</th> \n",
       "        <td id=\"T_bf855cb6_feaf_11e8_aed6_0242ac110002row7_col0\" class=\"data row7 col0\" >723960</td> \n",
       "    </tr></tbody> \n",
       "</table> "
      ],
      "text/plain": [
       "<pandas.io.formats.style.Styler at 0x7ff281a58128>"
      ]
     },
     "execution_count": 30,
     "metadata": {},
     "output_type": "execute_result"
    }
   ],
   "source": [
    "# Total Revenue Per Year\n",
    "\n",
    "dfyear = pd.DataFrame(df.groupby(df.index.year)['Revenue'].sum())\n",
    "dfyear.rename_axis('Year', inplace=True)\n",
    "dfyear.style.\\\n",
    "    applymap(color_negative_red).\\\n",
    "    apply(highlight_max)"
   ]
  },
  {
   "cell_type": "code",
   "execution_count": 31,
   "metadata": {},
   "outputs": [
    {
     "data": {
      "text/plain": [
       "13560842.0"
      ]
     },
     "execution_count": 31,
     "metadata": {},
     "output_type": "execute_result"
    }
   ],
   "source": [
    "dfyear.Revenue.max()"
   ]
  },
  {
   "cell_type": "code",
   "execution_count": 32,
   "metadata": {},
   "outputs": [
    {
     "data": {
      "text/plain": [
       "<matplotlib.axes._subplots.AxesSubplot at 0x7ff281962ac8>"
      ]
     },
     "execution_count": 32,
     "metadata": {},
     "output_type": "execute_result"
    },
    {
     "data": {
      "image/png": "[encoded data removed]",
      "text/plain": [
       "<Figure size 864x432 with 1 Axes>"
      ]
     },
     "metadata": {
      "needs_background": "light"
     },
     "output_type": "display_data"
    }
   ],
   "source": [
    "# We want to compare the Yearly Revenue Performance across the different years to detect seasonality and trends.\n",
    "\n",
    "dfyear.plot(kind='bar', figsize=(12,6))"
   ]
  },
  {
   "cell_type": "code",
   "execution_count": 33,
   "metadata": {},
   "outputs": [
    {
     "name": "stdout",
     "output_type": "stream",
     "text": [
      "2015 is the Most Profitable Year with $13560842.\n",
      "2016 is the Least Profitable Year with only $723960.\n"
     ]
    }
   ],
   "source": [
    "most_Revenue_year = dfyear.Revenue.max()\n",
    "most_profitable_year = max(dfyear.idxmax())\n",
    "min_Revenue_year = dfyear.Revenue.min()\n",
    "min_profitable_year = min(dfyear.idxmin())\n",
    "\n",
    "print('%s is the Most Profitable Year with $%0.0f.'%(most_profitable_year, most_Revenue_year))\n",
    "print('%s is the Least Profitable Year with only $%0.0f.'%(min_profitable_year, min_Revenue_year))"
   ]
  },
  {
   "cell_type": "markdown",
   "metadata": {},
   "source": [
    "----"
   ]
  },
  {
   "cell_type": "markdown",
   "metadata": {},
   "source": [
    "\n",
    "\n",
    "\n",
    "- 2015 is the most profitable year for the bank with a Total Revenue of $13,560,842.\n",
    "\n",
    "   - Year 2015 had the best quarterly revenue average of $3,390,210.\n",
    "   \n",
    "   - Year 2015 had the Highest Grossing Monthly Revenue Averages of $1,130,070.\n",
    "   \n",
    "\n",
    "- 4th quarter is the most profitable business quarter with an Average Revenue of $2,490,909.\n",
    "\n",
    "\n",
    "- Month of May is the most profitable business period with a Monthly Revenue Average Revenue of $1,038,000.\n",
    "\n",
    "\n",
    "\n",
    "Monthly:\n",
    "- 10/2012 - Highest monthly Revenue of $2,211,086.\n",
    "\n",
    "- 09/2010 - Biggest monthly Loss of -$1,063,151.\n",
    "\n",
    "\n",
    "\n",
    "Quarterly:\n",
    "\n",
    "- 3rd quarter of 2015 had the Highest Grossing Q-Revenue of $4,312,011.\n",
    "\n",
    "- 3rd quarter of 2010 had a heavy loss of $1,309,489.\n",
    "\n",
    "\n",
    "---"
   ]
  },
  {
   "cell_type": "markdown",
   "metadata": {},
   "source": [
    "## Trends and Seasonality in Time Series Data"
   ]
  },
  {
   "cell_type": "markdown",
   "metadata": {},
   "source": [
    "### Resampling and converting frequencies"
   ]
  },
  {
   "cell_type": "code",
   "execution_count": 34,
   "metadata": {
    "scrolled": true
   },
   "outputs": [
    {
     "data": {
      "image/png": "[encoded data removed]",
      "text/plain": [
       "<Figure size 1008x432 with 1 Axes>"
      ]
     },
     "metadata": {
      "needs_background": "light"
     },
     "output_type": "display_data"
    }
   ],
   "source": [
    "# Plot the Distribution for Revenue\n",
    "\n",
    "df['Revenue'].plot(figsize=(14,6),alpha=0.8, style='-')\n",
    "df['Revenue'].resample('BA').mean().plot(style=':')\n",
    "df['Revenue'].asfreq('BA').plot(style='--');\n",
    "plt.legend(['input', 'resample', 'asfreq'],loc='upper left');"
   ]
  },
  {
   "cell_type": "markdown",
   "metadata": {},
   "source": [
    "### Identifying Trends in Time Series"
   ]
  },
  {
   "cell_type": "code",
   "execution_count": 35,
   "metadata": {},
   "outputs": [
    {
     "data": {
      "image/png": "[encoded data removed]",
      "text/plain": [
       "<Figure size 1008x432 with 1 Axes>"
      ]
     },
     "metadata": {
      "needs_background": "light"
     },
     "output_type": "display_data"
    }
   ],
   "source": [
    "df[['Revenue']].plot(figsize=(14,6), linewidth=0.9, fontsize=10)\n",
    "plt.xlabel('Year', fontsize=12);"
   ]
  },
  {
   "cell_type": "markdown",
   "metadata": {},
   "source": [
    "The first thing to notice is that there is seasonality: each May and October-November, there's a jump. Also, there seems to be a trend: it seems to go slightly up, then down, back up and then back down. In other words, it looks like there are trends and seasonal components to these time series.\n",
    "\n",
    "---"
   ]
  },
  {
   "cell_type": "markdown",
   "metadata": {},
   "source": [
    "### Rolling Average Method\n",
    "\n",
    "---\n",
    "\n",
    "- When it comes to determining the window size, here, it makes sense to first try out one of twelve months, as we're talking about yearly seasonality."
   ]
  },
  {
   "cell_type": "code",
   "execution_count": 36,
   "metadata": {},
   "outputs": [
    {
     "data": {
      "text/plain": [
       "Text(0.5,0,'Year')"
      ]
     },
     "execution_count": 36,
     "metadata": {},
     "output_type": "execute_result"
    },
    {
     "data": {
      "image/png": "[encoded data removed]",
      "text/plain": [
       "<Figure size 1008x432 with 1 Axes>"
      ]
     },
     "metadata": {
      "needs_background": "light"
     },
     "output_type": "display_data"
    }
   ],
   "source": [
    "# Rolling Average\n",
    "\n",
    "rvn = df['Revenue']\n",
    "rvn.rolling(12).mean().plot(figsize=(14,6), linewidth=0.9, fontsize=10)\n",
    "plt.xlabel('Year', fontsize=12)"
   ]
  },
  {
   "cell_type": "markdown",
   "metadata": {},
   "source": [
    "Now we have the trend that we're looking for! We have removed most of the seasonality compared to the previous plot. **Down-Up trend**\n",
    "\n",
    "---"
   ]
  },
  {
   "cell_type": "markdown",
   "metadata": {},
   "source": [
    "### Seasonal Patterns in Time Series Data\n"
   ]
  },
  {
   "cell_type": "markdown",
   "metadata": {},
   "source": [
    "\n",
    "---\n",
    "- To find the seasonal components to the time series of your data is to remove the trend from a time series, so that you can more easily investigate seasonality.\n",
    "---\n",
    "One-way to remove the trend is called \"differencing\", where you look at the difference between successive data points (called \"first-order differencing\", because you're only looking at the difference between one data point and the one before it)."
   ]
  },
  {
   "cell_type": "markdown",
   "metadata": {},
   "source": [
    "### First-order differencing\n",
    "\n",
    "- You can use pandas and the diff() and plot() methods to compute and plot the first order difference of the 'diet' Series"
   ]
  },
  {
   "cell_type": "code",
   "execution_count": 37,
   "metadata": {},
   "outputs": [
    {
     "data": {
      "image/png": "[encoded data removed]",
      "text/plain": [
       "<Figure size 1008x432 with 1 Axes>"
      ]
     },
     "metadata": {
      "needs_background": "light"
     },
     "output_type": "display_data"
    }
   ],
   "source": [
    "rvn.diff().plot(figsize=(14,6), linewidth=0.9, fontsize=10)\n",
    "plt.xlabel('Year', fontsize=12);"
   ]
  },
  {
   "cell_type": "markdown",
   "metadata": {},
   "source": [
    "See that we have removed much of the trend and we can really see the peaks in May - October-November every year. Each January, there is a huge spike of 20 or more percent on the highest search item you've seen!"
   ]
  },
  {
   "cell_type": "code",
   "execution_count": 38,
   "metadata": {},
   "outputs": [
    {
     "data": {
      "text/plain": [
       "<matplotlib.axes._subplots.AxesSubplot at 0x7ff27bfec908>"
      ]
     },
     "execution_count": 38,
     "metadata": {},
     "output_type": "execute_result"
    },
    {
     "data": {
      "image/png": "[encoded data removed]",
      "text/plain": [
       "<Figure size 1008x432 with 1 Axes>"
      ]
     },
     "metadata": {
      "needs_background": "light"
     },
     "output_type": "display_data"
    }
   ],
   "source": [
    "#Use Lagplot\n",
    "\n",
    "from pandas.plotting import lag_plot\n",
    "plt.figure(figsize=(14, 6))\n",
    "lag_plot(df['Revenue'])"
   ]
  },
  {
   "cell_type": "markdown",
   "metadata": {},
   "source": [
    "> 1. It looks like months' revenue are not correlated with one another. Residuals are **uncorrelated.**"
   ]
  },
  {
   "cell_type": "markdown",
   "metadata": {},
   "source": [
    "> In an autocorrelation plot the lag is on the x-axis and the autocorrelation score is on the y-axis. The farther away the autocorrelation is from 0, the greater the influence that records that far away from each other exert on one another.\n",
    "\n",
    "    Here is what an autocorrelation plot looks like when applied to the revenue data:\n",
    "\n",
    "---"
   ]
  },
  {
   "cell_type": "code",
   "execution_count": 39,
   "metadata": {},
   "outputs": [
    {
     "data": {
      "text/plain": [
       "<matplotlib.axes._subplots.AxesSubplot at 0x7ff27bf550b8>"
      ]
     },
     "execution_count": 39,
     "metadata": {},
     "output_type": "execute_result"
    },
    {
     "data": {
      "image/png": "[encoded data removed]",
      "text/plain": [
       "<Figure size 1008x432 with 1 Axes>"
      ]
     },
     "metadata": {
      "needs_background": "light"
     },
     "output_type": "display_data"
    }
   ],
   "source": [
    "# Residual Plot\n",
    "# Difference between the observed value and forecast value\n",
    "\n",
    "\n",
    "# ACF Plot\n",
    "# Allows us to see if we have used all of the information in the time-series for our model.\n",
    "# Residuals should have a 0 mean or at least close to a 0 mean.\n",
    "\n",
    "from pandas.plotting import autocorrelation_plot\n",
    "plt.figure(figsize=(14, 6))\n",
    "autocorrelation_plot(df['Revenue'])"
   ]
  },
  {
   "cell_type": "markdown",
   "metadata": {},
   "source": [
    "> 2. Residuals should have a 0 mean or at least close to a 0 mean.\n",
    "\n",
    "\n",
    "Therefore, our model have satisfied both characteristics to our ETS and Arima model.\n",
    "\n",
    "---"
   ]
  },
  {
   "cell_type": "markdown",
   "metadata": {},
   "source": [
    "Here,we can clearly see the seasonality as we plot the graph by quarter across the years from 2009 to 2016 as higher revenues are on starts to pick up on the 3rd and 4th quarters.\n",
    "\n",
    "---"
   ]
  },
  {
   "cell_type": "code",
   "execution_count": 40,
   "metadata": {},
   "outputs": [
    {
     "data": {
      "text/html": [
       "<style  type=\"text/css\" >\n",
       "    #T_c10bd8e4_feaf_11e8_aed6_0242ac110002row0_col0 {\n",
       "            color:  black;\n",
       "            : ;\n",
       "        }    #T_c10bd8e4_feaf_11e8_aed6_0242ac110002row1_col0 {\n",
       "            color:  black;\n",
       "            : ;\n",
       "        }    #T_c10bd8e4_feaf_11e8_aed6_0242ac110002row2_col0 {\n",
       "            color:  black;\n",
       "            : ;\n",
       "        }    #T_c10bd8e4_feaf_11e8_aed6_0242ac110002row3_col0 {\n",
       "            color:  black;\n",
       "            : ;\n",
       "        }    #T_c10bd8e4_feaf_11e8_aed6_0242ac110002row4_col0 {\n",
       "            color:  black;\n",
       "            : ;\n",
       "        }    #T_c10bd8e4_feaf_11e8_aed6_0242ac110002row5_col0 {\n",
       "            color:  black;\n",
       "            : ;\n",
       "        }    #T_c10bd8e4_feaf_11e8_aed6_0242ac110002row6_col0 {\n",
       "            color:  red;\n",
       "            : ;\n",
       "        }    #T_c10bd8e4_feaf_11e8_aed6_0242ac110002row7_col0 {\n",
       "            color:  black;\n",
       "            : ;\n",
       "        }    #T_c10bd8e4_feaf_11e8_aed6_0242ac110002row8_col0 {\n",
       "            color:  black;\n",
       "            : ;\n",
       "        }    #T_c10bd8e4_feaf_11e8_aed6_0242ac110002row9_col0 {\n",
       "            color:  black;\n",
       "            : ;\n",
       "        }    #T_c10bd8e4_feaf_11e8_aed6_0242ac110002row10_col0 {\n",
       "            color:  black;\n",
       "            : ;\n",
       "        }    #T_c10bd8e4_feaf_11e8_aed6_0242ac110002row11_col0 {\n",
       "            color:  black;\n",
       "            : ;\n",
       "        }    #T_c10bd8e4_feaf_11e8_aed6_0242ac110002row12_col0 {\n",
       "            color:  black;\n",
       "            : ;\n",
       "        }    #T_c10bd8e4_feaf_11e8_aed6_0242ac110002row13_col0 {\n",
       "            color:  black;\n",
       "            : ;\n",
       "        }    #T_c10bd8e4_feaf_11e8_aed6_0242ac110002row14_col0 {\n",
       "            color:  black;\n",
       "            : ;\n",
       "        }    #T_c10bd8e4_feaf_11e8_aed6_0242ac110002row15_col0 {\n",
       "            color:  black;\n",
       "            : ;\n",
       "        }    #T_c10bd8e4_feaf_11e8_aed6_0242ac110002row16_col0 {\n",
       "            color:  black;\n",
       "            : ;\n",
       "        }    #T_c10bd8e4_feaf_11e8_aed6_0242ac110002row17_col0 {\n",
       "            color:  black;\n",
       "            : ;\n",
       "        }    #T_c10bd8e4_feaf_11e8_aed6_0242ac110002row18_col0 {\n",
       "            color:  black;\n",
       "            : ;\n",
       "        }    #T_c10bd8e4_feaf_11e8_aed6_0242ac110002row19_col0 {\n",
       "            color:  black;\n",
       "            : ;\n",
       "        }    #T_c10bd8e4_feaf_11e8_aed6_0242ac110002row20_col0 {\n",
       "            color:  black;\n",
       "            : ;\n",
       "        }    #T_c10bd8e4_feaf_11e8_aed6_0242ac110002row21_col0 {\n",
       "            color:  black;\n",
       "            : ;\n",
       "        }    #T_c10bd8e4_feaf_11e8_aed6_0242ac110002row22_col0 {\n",
       "            color:  black;\n",
       "            : ;\n",
       "        }    #T_c10bd8e4_feaf_11e8_aed6_0242ac110002row23_col0 {\n",
       "            color:  black;\n",
       "            : ;\n",
       "        }    #T_c10bd8e4_feaf_11e8_aed6_0242ac110002row24_col0 {\n",
       "            color:  black;\n",
       "            : ;\n",
       "        }    #T_c10bd8e4_feaf_11e8_aed6_0242ac110002row25_col0 {\n",
       "            color:  black;\n",
       "            : ;\n",
       "        }    #T_c10bd8e4_feaf_11e8_aed6_0242ac110002row26_col0 {\n",
       "            color:  black;\n",
       "            background-color:  yellow;\n",
       "        }    #T_c10bd8e4_feaf_11e8_aed6_0242ac110002row27_col0 {\n",
       "            color:  black;\n",
       "            : ;\n",
       "        }    #T_c10bd8e4_feaf_11e8_aed6_0242ac110002row28_col0 {\n",
       "            color:  black;\n",
       "            : ;\n",
       "        }</style>  \n",
       "<table id=\"T_c10bd8e4_feaf_11e8_aed6_0242ac110002\" > \n",
       "<thead>    <tr> \n",
       "        <th class=\"blank level0\" ></th> \n",
       "        <th class=\"col_heading level0 col0\" >Revenue</th> \n",
       "    </tr>    <tr> \n",
       "        <th class=\"index_name level0\" >Date</th> \n",
       "        <th class=\"blank\" ></th> \n",
       "    </tr></thead> \n",
       "<tbody>    <tr> \n",
       "        <th id=\"T_c10bd8e4_feaf_11e8_aed6_0242ac110002level0_row0\" class=\"row_heading level0 row0\" >2009-03-31 00:00:00</th> \n",
       "        <td id=\"T_c10bd8e4_feaf_11e8_aed6_0242ac110002row0_col0\" class=\"data row0 col0\" >2.21633e+06</td> \n",
       "    </tr>    <tr> \n",
       "        <th id=\"T_c10bd8e4_feaf_11e8_aed6_0242ac110002level0_row1\" class=\"row_heading level0 row1\" >2009-06-30 00:00:00</th> \n",
       "        <td id=\"T_c10bd8e4_feaf_11e8_aed6_0242ac110002row1_col0\" class=\"data row1 col0\" >466338</td> \n",
       "    </tr>    <tr> \n",
       "        <th id=\"T_c10bd8e4_feaf_11e8_aed6_0242ac110002level0_row2\" class=\"row_heading level0 row2\" >2009-09-30 00:00:00</th> \n",
       "        <td id=\"T_c10bd8e4_feaf_11e8_aed6_0242ac110002row2_col0\" class=\"data row2 col0\" >800912</td> \n",
       "    </tr>    <tr> \n",
       "        <th id=\"T_c10bd8e4_feaf_11e8_aed6_0242ac110002level0_row3\" class=\"row_heading level0 row3\" >2009-12-31 00:00:00</th> \n",
       "        <td id=\"T_c10bd8e4_feaf_11e8_aed6_0242ac110002row3_col0\" class=\"data row3 col0\" >1.60255e+06</td> \n",
       "    </tr>    <tr> \n",
       "        <th id=\"T_c10bd8e4_feaf_11e8_aed6_0242ac110002level0_row4\" class=\"row_heading level0 row4\" >2010-03-31 00:00:00</th> \n",
       "        <td id=\"T_c10bd8e4_feaf_11e8_aed6_0242ac110002row4_col0\" class=\"data row4 col0\" >2.09836e+06</td> \n",
       "    </tr>    <tr> \n",
       "        <th id=\"T_c10bd8e4_feaf_11e8_aed6_0242ac110002level0_row5\" class=\"row_heading level0 row5\" >2010-06-30 00:00:00</th> \n",
       "        <td id=\"T_c10bd8e4_feaf_11e8_aed6_0242ac110002row5_col0\" class=\"data row5 col0\" >1.27245e+06</td> \n",
       "    </tr>    <tr> \n",
       "        <th id=\"T_c10bd8e4_feaf_11e8_aed6_0242ac110002level0_row6\" class=\"row_heading level0 row6\" >2010-09-30 00:00:00</th> \n",
       "        <td id=\"T_c10bd8e4_feaf_11e8_aed6_0242ac110002row6_col0\" class=\"data row6 col0\" >-1.30949e+06</td> \n",
       "    </tr>    <tr> \n",
       "        <th id=\"T_c10bd8e4_feaf_11e8_aed6_0242ac110002level0_row7\" class=\"row_heading level0 row7\" >2010-12-31 00:00:00</th> \n",
       "        <td id=\"T_c10bd8e4_feaf_11e8_aed6_0242ac110002row7_col0\" class=\"data row7 col0\" >2.02948e+06</td> \n",
       "    </tr>    <tr> \n",
       "        <th id=\"T_c10bd8e4_feaf_11e8_aed6_0242ac110002level0_row8\" class=\"row_heading level0 row8\" >2011-03-31 00:00:00</th> \n",
       "        <td id=\"T_c10bd8e4_feaf_11e8_aed6_0242ac110002row8_col0\" class=\"data row8 col0\" >110632</td> \n",
       "    </tr>    <tr> \n",
       "        <th id=\"T_c10bd8e4_feaf_11e8_aed6_0242ac110002level0_row9\" class=\"row_heading level0 row9\" >2011-06-30 00:00:00</th> \n",
       "        <td id=\"T_c10bd8e4_feaf_11e8_aed6_0242ac110002row9_col0\" class=\"data row9 col0\" >1.91314e+06</td> \n",
       "    </tr>    <tr> \n",
       "        <th id=\"T_c10bd8e4_feaf_11e8_aed6_0242ac110002level0_row10\" class=\"row_heading level0 row10\" >2011-09-30 00:00:00</th> \n",
       "        <td id=\"T_c10bd8e4_feaf_11e8_aed6_0242ac110002row10_col0\" class=\"data row10 col0\" >2.2547e+06</td> \n",
       "    </tr>    <tr> \n",
       "        <th id=\"T_c10bd8e4_feaf_11e8_aed6_0242ac110002level0_row11\" class=\"row_heading level0 row11\" >2011-12-30 00:00:00</th> \n",
       "        <td id=\"T_c10bd8e4_feaf_11e8_aed6_0242ac110002row11_col0\" class=\"data row11 col0\" >1.7475e+06</td> \n",
       "    </tr>    <tr> \n",
       "        <th id=\"T_c10bd8e4_feaf_11e8_aed6_0242ac110002level0_row12\" class=\"row_heading level0 row12\" >2012-03-30 00:00:00</th> \n",
       "        <td id=\"T_c10bd8e4_feaf_11e8_aed6_0242ac110002row12_col0\" class=\"data row12 col0\" >1.87471e+06</td> \n",
       "    </tr>    <tr> \n",
       "        <th id=\"T_c10bd8e4_feaf_11e8_aed6_0242ac110002level0_row13\" class=\"row_heading level0 row13\" >2012-06-29 00:00:00</th> \n",
       "        <td id=\"T_c10bd8e4_feaf_11e8_aed6_0242ac110002row13_col0\" class=\"data row13 col0\" >1.0614e+06</td> \n",
       "    </tr>    <tr> \n",
       "        <th id=\"T_c10bd8e4_feaf_11e8_aed6_0242ac110002level0_row14\" class=\"row_heading level0 row14\" >2012-09-28 00:00:00</th> \n",
       "        <td id=\"T_c10bd8e4_feaf_11e8_aed6_0242ac110002row14_col0\" class=\"data row14 col0\" >1.32795e+06</td> \n",
       "    </tr>    <tr> \n",
       "        <th id=\"T_c10bd8e4_feaf_11e8_aed6_0242ac110002level0_row15\" class=\"row_heading level0 row15\" >2012-12-31 00:00:00</th> \n",
       "        <td id=\"T_c10bd8e4_feaf_11e8_aed6_0242ac110002row15_col0\" class=\"data row15 col0\" >2.98958e+06</td> \n",
       "    </tr>    <tr> \n",
       "        <th id=\"T_c10bd8e4_feaf_11e8_aed6_0242ac110002level0_row16\" class=\"row_heading level0 row16\" >2013-03-29 00:00:00</th> \n",
       "        <td id=\"T_c10bd8e4_feaf_11e8_aed6_0242ac110002row16_col0\" class=\"data row16 col0\" >3.03423e+06</td> \n",
       "    </tr>    <tr> \n",
       "        <th id=\"T_c10bd8e4_feaf_11e8_aed6_0242ac110002level0_row17\" class=\"row_heading level0 row17\" >2013-06-28 00:00:00</th> \n",
       "        <td id=\"T_c10bd8e4_feaf_11e8_aed6_0242ac110002row17_col0\" class=\"data row17 col0\" >2.83751e+06</td> \n",
       "    </tr>    <tr> \n",
       "        <th id=\"T_c10bd8e4_feaf_11e8_aed6_0242ac110002level0_row18\" class=\"row_heading level0 row18\" >2013-09-30 00:00:00</th> \n",
       "        <td id=\"T_c10bd8e4_feaf_11e8_aed6_0242ac110002row18_col0\" class=\"data row18 col0\" >2.39887e+06</td> \n",
       "    </tr>    <tr> \n",
       "        <th id=\"T_c10bd8e4_feaf_11e8_aed6_0242ac110002level0_row19\" class=\"row_heading level0 row19\" >2013-12-31 00:00:00</th> \n",
       "        <td id=\"T_c10bd8e4_feaf_11e8_aed6_0242ac110002row19_col0\" class=\"data row19 col0\" >4.12695e+06</td> \n",
       "    </tr>    <tr> \n",
       "        <th id=\"T_c10bd8e4_feaf_11e8_aed6_0242ac110002level0_row20\" class=\"row_heading level0 row20\" >2014-03-31 00:00:00</th> \n",
       "        <td id=\"T_c10bd8e4_feaf_11e8_aed6_0242ac110002row20_col0\" class=\"data row20 col0\" >1.57082e+06</td> \n",
       "    </tr>    <tr> \n",
       "        <th id=\"T_c10bd8e4_feaf_11e8_aed6_0242ac110002level0_row21\" class=\"row_heading level0 row21\" >2014-06-30 00:00:00</th> \n",
       "        <td id=\"T_c10bd8e4_feaf_11e8_aed6_0242ac110002row21_col0\" class=\"data row21 col0\" >2.32411e+06</td> \n",
       "    </tr>    <tr> \n",
       "        <th id=\"T_c10bd8e4_feaf_11e8_aed6_0242ac110002level0_row22\" class=\"row_heading level0 row22\" >2014-09-30 00:00:00</th> \n",
       "        <td id=\"T_c10bd8e4_feaf_11e8_aed6_0242ac110002row22_col0\" class=\"data row22 col0\" >1.5939e+06</td> \n",
       "    </tr>    <tr> \n",
       "        <th id=\"T_c10bd8e4_feaf_11e8_aed6_0242ac110002level0_row23\" class=\"row_heading level0 row23\" >2014-12-31 00:00:00</th> \n",
       "        <td id=\"T_c10bd8e4_feaf_11e8_aed6_0242ac110002row23_col0\" class=\"data row23 col0\" >1.31758e+06</td> \n",
       "    </tr>    <tr> \n",
       "        <th id=\"T_c10bd8e4_feaf_11e8_aed6_0242ac110002level0_row24\" class=\"row_heading level0 row24\" >2015-03-31 00:00:00</th> \n",
       "        <td id=\"T_c10bd8e4_feaf_11e8_aed6_0242ac110002row24_col0\" class=\"data row24 col0\" >2.77444e+06</td> \n",
       "    </tr>    <tr> \n",
       "        <th id=\"T_c10bd8e4_feaf_11e8_aed6_0242ac110002level0_row25\" class=\"row_heading level0 row25\" >2015-06-30 00:00:00</th> \n",
       "        <td id=\"T_c10bd8e4_feaf_11e8_aed6_0242ac110002row25_col0\" class=\"data row25 col0\" >2.85168e+06</td> \n",
       "    </tr>    <tr> \n",
       "        <th id=\"T_c10bd8e4_feaf_11e8_aed6_0242ac110002level0_row26\" class=\"row_heading level0 row26\" >2015-09-30 00:00:00</th> \n",
       "        <td id=\"T_c10bd8e4_feaf_11e8_aed6_0242ac110002row26_col0\" class=\"data row26 col0\" >4.31201e+06</td> \n",
       "    </tr>    <tr> \n",
       "        <th id=\"T_c10bd8e4_feaf_11e8_aed6_0242ac110002level0_row27\" class=\"row_heading level0 row27\" >2015-12-31 00:00:00</th> \n",
       "        <td id=\"T_c10bd8e4_feaf_11e8_aed6_0242ac110002row27_col0\" class=\"data row27 col0\" >3.62271e+06</td> \n",
       "    </tr>    <tr> \n",
       "        <th id=\"T_c10bd8e4_feaf_11e8_aed6_0242ac110002level0_row28\" class=\"row_heading level0 row28\" >2016-03-31 00:00:00</th> \n",
       "        <td id=\"T_c10bd8e4_feaf_11e8_aed6_0242ac110002row28_col0\" class=\"data row28 col0\" >723960</td> \n",
       "    </tr></tbody> \n",
       "</table> "
      ],
      "text/plain": [
       "<pandas.io.formats.style.Styler at 0x7ff27bed17b8>"
      ]
     },
     "execution_count": 40,
     "metadata": {},
     "output_type": "execute_result"
    }
   ],
   "source": [
    "# Summarizing Stocks by Business quarter end\n",
    "# Highligh - Max Revenue\n",
    "# Red - Revenue Loss\n",
    "\n",
    "dfq = pd.DataFrame(df.resample('BQ').Revenue.sum())\n",
    "dfq.style.\\\n",
    "    applymap(color_negative_red).\\\n",
    "    apply(highlight_max)"
   ]
  },
  {
   "cell_type": "code",
   "execution_count": 41,
   "metadata": {},
   "outputs": [
    {
     "data": {
      "text/plain": [
       "Text(3.2,0.5,'Revenue')"
      ]
     },
     "execution_count": 41,
     "metadata": {},
     "output_type": "execute_result"
    },
    {
     "data": {
      "image/png": "[encoded data removed]",
      "text/plain": [
       "<Figure size 1008x432 with 1 Axes>"
      ]
     },
     "metadata": {
      "needs_background": "light"
     },
     "output_type": "display_data"
    }
   ],
   "source": [
    "# Plot the Distribution for Revenue\n",
    "plt.figure(figsize=(14,6))\n",
    "sns.lineplot(data=dfq['Revenue'])\n",
    "ax.tick_params(labelsize=10)\n",
    "ax.set_ylabel('Revenue', fontsize=10)"
   ]
  },
  {
   "cell_type": "code",
   "execution_count": 42,
   "metadata": {},
   "outputs": [
    {
     "data": {
      "text/plain": [
       "Text(0,0.5,'Revenue')"
      ]
     },
     "execution_count": 42,
     "metadata": {},
     "output_type": "execute_result"
    },
    {
     "data": {
      "image/png": "[encoded data removed]",
      "text/plain": [
       "<Figure size 1008x432 with 1 Axes>"
      ]
     },
     "metadata": {
      "needs_background": "light"
     },
     "output_type": "display_data"
    }
   ],
   "source": [
    "# Quarterly Revenue\n",
    "\n",
    "plt.figure(figsize=(14, 6))\n",
    "ax =sns.barplot(x=dfq.index, y=dfq.Revenue, data=dfq)\n",
    "ax.tick_params(labelsize=10)\n",
    "ax.set_ylabel('Revenue', fontsize=10)"
   ]
  },
  {
   "cell_type": "code",
   "execution_count": 43,
   "metadata": {},
   "outputs": [
    {
     "data": {
      "text/html": [
       "<style  type=\"text/css\" >\n",
       "    #T_c1b97c88_feaf_11e8_aed6_0242ac110002row0_col0 {\n",
       "            color:  black;\n",
       "            : ;\n",
       "        }    #T_c1b97c88_feaf_11e8_aed6_0242ac110002row1_col0 {\n",
       "            color:  black;\n",
       "            : ;\n",
       "        }    #T_c1b97c88_feaf_11e8_aed6_0242ac110002row2_col0 {\n",
       "            color:  black;\n",
       "            : ;\n",
       "        }    #T_c1b97c88_feaf_11e8_aed6_0242ac110002row3_col0 {\n",
       "            color:  black;\n",
       "            : ;\n",
       "        }    #T_c1b97c88_feaf_11e8_aed6_0242ac110002row4_col0 {\n",
       "            color:  black;\n",
       "            : ;\n",
       "        }    #T_c1b97c88_feaf_11e8_aed6_0242ac110002row5_col0 {\n",
       "            color:  black;\n",
       "            : ;\n",
       "        }    #T_c1b97c88_feaf_11e8_aed6_0242ac110002row6_col0 {\n",
       "            color:  black;\n",
       "            background-color:  yellow;\n",
       "        }    #T_c1b97c88_feaf_11e8_aed6_0242ac110002row7_col0 {\n",
       "            color:  black;\n",
       "            : ;\n",
       "        }</style>  \n",
       "<table id=\"T_c1b97c88_feaf_11e8_aed6_0242ac110002\" > \n",
       "<thead>    <tr> \n",
       "        <th class=\"blank level0\" ></th> \n",
       "        <th class=\"col_heading level0 col0\" >Revenue</th> \n",
       "    </tr>    <tr> \n",
       "        <th class=\"index_name level0\" >Date</th> \n",
       "        <th class=\"blank\" ></th> \n",
       "    </tr></thead> \n",
       "<tbody>    <tr> \n",
       "        <th id=\"T_c1b97c88_feaf_11e8_aed6_0242ac110002level0_row0\" class=\"row_heading level0 row0\" >2009-12-31 00:00:00</th> \n",
       "        <td id=\"T_c1b97c88_feaf_11e8_aed6_0242ac110002row0_col0\" class=\"data row0 col0\" >5.08614e+06</td> \n",
       "    </tr>    <tr> \n",
       "        <th id=\"T_c1b97c88_feaf_11e8_aed6_0242ac110002level0_row1\" class=\"row_heading level0 row1\" >2010-12-31 00:00:00</th> \n",
       "        <td id=\"T_c1b97c88_feaf_11e8_aed6_0242ac110002row1_col0\" class=\"data row1 col0\" >4.0908e+06</td> \n",
       "    </tr>    <tr> \n",
       "        <th id=\"T_c1b97c88_feaf_11e8_aed6_0242ac110002level0_row2\" class=\"row_heading level0 row2\" >2011-12-30 00:00:00</th> \n",
       "        <td id=\"T_c1b97c88_feaf_11e8_aed6_0242ac110002row2_col0\" class=\"data row2 col0\" >6.02598e+06</td> \n",
       "    </tr>    <tr> \n",
       "        <th id=\"T_c1b97c88_feaf_11e8_aed6_0242ac110002level0_row3\" class=\"row_heading level0 row3\" >2012-12-31 00:00:00</th> \n",
       "        <td id=\"T_c1b97c88_feaf_11e8_aed6_0242ac110002row3_col0\" class=\"data row3 col0\" >7.25363e+06</td> \n",
       "    </tr>    <tr> \n",
       "        <th id=\"T_c1b97c88_feaf_11e8_aed6_0242ac110002level0_row4\" class=\"row_heading level0 row4\" >2013-12-31 00:00:00</th> \n",
       "        <td id=\"T_c1b97c88_feaf_11e8_aed6_0242ac110002row4_col0\" class=\"data row4 col0\" >1.23976e+07</td> \n",
       "    </tr>    <tr> \n",
       "        <th id=\"T_c1b97c88_feaf_11e8_aed6_0242ac110002level0_row5\" class=\"row_heading level0 row5\" >2014-12-31 00:00:00</th> \n",
       "        <td id=\"T_c1b97c88_feaf_11e8_aed6_0242ac110002row5_col0\" class=\"data row5 col0\" >6.80641e+06</td> \n",
       "    </tr>    <tr> \n",
       "        <th id=\"T_c1b97c88_feaf_11e8_aed6_0242ac110002level0_row6\" class=\"row_heading level0 row6\" >2015-12-31 00:00:00</th> \n",
       "        <td id=\"T_c1b97c88_feaf_11e8_aed6_0242ac110002row6_col0\" class=\"data row6 col0\" >1.35608e+07</td> \n",
       "    </tr>    <tr> \n",
       "        <th id=\"T_c1b97c88_feaf_11e8_aed6_0242ac110002level0_row7\" class=\"row_heading level0 row7\" >2016-12-30 00:00:00</th> \n",
       "        <td id=\"T_c1b97c88_feaf_11e8_aed6_0242ac110002row7_col0\" class=\"data row7 col0\" >723960</td> \n",
       "    </tr></tbody> \n",
       "</table> "
      ],
      "text/plain": [
       "<pandas.io.formats.style.Styler at 0x7ff27be1be10>"
      ]
     },
     "execution_count": 43,
     "metadata": {},
     "output_type": "execute_result"
    }
   ],
   "source": [
    "# Summarizing Stocks by Business Year-End\n",
    "# Highlight - Max Revenue\n",
    "# Red - Revenue Loss\n",
    "\n",
    "dfy = df.resample('BA').sum()\n",
    "\n",
    "dfy.style.\\\n",
    "    applymap(color_negative_red).\\\n",
    "    apply(highlight_max)"
   ]
  },
  {
   "cell_type": "code",
   "execution_count": 44,
   "metadata": {},
   "outputs": [
    {
     "data": {
      "text/plain": [
       "Text(0,0.5,'Revenue')"
      ]
     },
     "execution_count": 44,
     "metadata": {},
     "output_type": "execute_result"
    },
    {
     "data": {
      "image/png": "[encoded data removed]",
      "text/plain": [
       "<Figure size 1008x432 with 1 Axes>"
      ]
     },
     "metadata": {
      "needs_background": "light"
     },
     "output_type": "display_data"
    }
   ],
   "source": [
    "# Revenue Per year\n",
    "\n",
    "plt.figure(figsize=(14,6))\n",
    "ax = sns.barplot(x=dfy.index, y=dfy.Revenue, data=dfy)\n",
    "ax.tick_params(labelsize=10)\n",
    "ax.set_ylabel('Revenue', fontsize=10)"
   ]
  },
  {
   "cell_type": "code",
   "execution_count": null,
   "metadata": {},
   "outputs": [],
   "source": []
  }
 ],
 "metadata": {
  "kernelspec": {
   "display_name": "Python 3",
   "language": "python",
   "name": "python3"
  },
  "language_info": {
   "codemirror_mode": {
    "name": "ipython",
    "version": 3
   },
   "file_extension": ".py",
   "mimetype": "text/x-python",
   "name": "python",
   "nbconvert_exporter": "python",
   "pygments_lexer": "ipython3",
   "version": "3.6.5"
  }
 },
 "nbformat": 4,
 "nbformat_minor": 2
}
