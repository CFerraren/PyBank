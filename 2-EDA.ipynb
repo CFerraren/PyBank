{
 "cells": [
  {
   "cell_type": "markdown",
   "metadata": {},
   "source": [
    "# Analyze 2012-2016 Revenue Performance\n",
    "\n",
    "In this challenge, I created a Python script for analyzing the financial records of PyBank.\n",
    "\n",
    "This notebook will bring all the data sources together and format them for further analysis.\n",
    "\n",
    "\n",
    "## Data Sources:\n",
    "* revenue_2009_2016.csv : Processed data from the data-prep\n",
    "\n",
    "\n",
    "Each dataset is composed of two columns: Date and Revenue.\n",
    "\n",
    "\n",
    "\n",
    "### Task is to create a Python script that analyzes the records to calculate each of the following:\n",
    "\n",
    "- The total number of months included in the dataset.\n",
    "\n",
    "- The total amount of revenue gained over the entire period.\n",
    "\n",
    "- The average change in revenue between months over the entire period.\n",
    "\n",
    "- The greatest increase in revenue (date and amount) over the entire period.\n",
    "\n",
    "- The greatest decrease in revenue (date and amount) over the entire period.\n",
    "\n",
    "\n",
    "### Changes:\n",
    "\n",
    "- 02-12-2018: Started the project\n",
    "\n",
    "- 12-11-2018: Updated the project using Python Pandas and added visualization using matplotlib, Tableau, and Univariate Linear Regression Machine learning to predict future bank revenue.\n",
    "\n",
    "\n",
    "---"
   ]
  },
  {
   "cell_type": "code",
   "execution_count": 1,
   "metadata": {},
   "outputs": [],
   "source": [
    "# Import Libraries\n",
    "\n",
    "import pandas as pd\n",
    "import numpy as np\n",
    "import os\n",
    "\n",
    "%matplotlib inline\n",
    "import matplotlib.pyplot as plt\n",
    "import seaborn as sns\n",
    "\n"
   ]
  },
  {
   "cell_type": "code",
   "execution_count": 2,
   "metadata": {},
   "outputs": [],
   "source": [
    "def color_negative_red(val):\n",
    "    \"\"\"\n",
    "    Takes a scalar and returns a string with\n",
    "    the css property `'color: red'` for negative\n",
    "    strings, black otherwise.\n",
    "    \"\"\"\n",
    "    color = 'red' if val < 0 else 'black'\n",
    "    return 'color: %s' % color"
   ]
  },
  {
   "cell_type": "code",
   "execution_count": 3,
   "metadata": {},
   "outputs": [],
   "source": [
    "def highlight_max(s):\n",
    "    '''\n",
    "    highlight the maximum in a Series yellow.\n",
    "    '''\n",
    "    is_max = s == s.max()\n",
    "    return ['background-color: yellow' if v else '' for v in is_max]"
   ]
  },
  {
   "cell_type": "code",
   "execution_count": 4,
   "metadata": {},
   "outputs": [],
   "source": [
    "# Directory Location and Filenames\n",
    "\n",
    "dir = 'data/processed/'\n",
    "file = 'revenue_2009_2016.csv'"
   ]
  },
  {
   "cell_type": "code",
   "execution_count": 5,
   "metadata": {},
   "outputs": [
    {
     "data": {
      "text/html": [
       "<div>\n",
       "<style scoped>\n",
       "    .dataframe tbody tr th:only-of-type {\n",
       "        vertical-align: middle;\n",
       "    }\n",
       "\n",
       "    .dataframe tbody tr th {\n",
       "        vertical-align: top;\n",
       "    }\n",
       "\n",
       "    .dataframe thead th {\n",
       "        text-align: right;\n",
       "    }\n",
       "</style>\n",
       "<table border=\"1\" class=\"dataframe\">\n",
       "  <thead>\n",
       "    <tr style=\"text-align: right;\">\n",
       "      <th></th>\n",
       "      <th>Revenue</th>\n",
       "    </tr>\n",
       "    <tr>\n",
       "      <th>Date</th>\n",
       "      <th></th>\n",
       "    </tr>\n",
       "  </thead>\n",
       "  <tbody>\n",
       "    <tr>\n",
       "      <th>2009-01-01</th>\n",
       "      <td>943690.0</td>\n",
       "    </tr>\n",
       "    <tr>\n",
       "      <th>2009-02-01</th>\n",
       "      <td>1062565.0</td>\n",
       "    </tr>\n",
       "    <tr>\n",
       "      <th>2009-03-01</th>\n",
       "      <td>210079.0</td>\n",
       "    </tr>\n",
       "    <tr>\n",
       "      <th>2009-04-01</th>\n",
       "      <td>-735286.0</td>\n",
       "    </tr>\n",
       "    <tr>\n",
       "      <th>2009-05-01</th>\n",
       "      <td>842933.0</td>\n",
       "    </tr>\n",
       "  </tbody>\n",
       "</table>\n",
       "</div>"
      ],
      "text/plain": [
       "              Revenue\n",
       "Date                 \n",
       "2009-01-01   943690.0\n",
       "2009-02-01  1062565.0\n",
       "2009-03-01   210079.0\n",
       "2009-04-01  -735286.0\n",
       "2009-05-01   842933.0"
      ]
     },
     "execution_count": 5,
     "metadata": {},
     "output_type": "execute_result"
    }
   ],
   "source": [
    "# Load Data into csv\n",
    "\n",
    "df = pd.read_csv(os.path.join(dir, file), parse_dates=[0], index_col='Date')\n",
    "df[:5]"
   ]
  },
  {
   "cell_type": "code",
   "execution_count": 6,
   "metadata": {},
   "outputs": [
    {
     "data": {
      "text/html": [
       "<div>\n",
       "<style scoped>\n",
       "    .dataframe tbody tr th:only-of-type {\n",
       "        vertical-align: middle;\n",
       "    }\n",
       "\n",
       "    .dataframe tbody tr th {\n",
       "        vertical-align: top;\n",
       "    }\n",
       "\n",
       "    .dataframe thead th {\n",
       "        text-align: right;\n",
       "    }\n",
       "</style>\n",
       "<table border=\"1\" class=\"dataframe\">\n",
       "  <thead>\n",
       "    <tr style=\"text-align: right;\">\n",
       "      <th></th>\n",
       "      <th>Revenue</th>\n",
       "    </tr>\n",
       "  </thead>\n",
       "  <tbody>\n",
       "    <tr>\n",
       "      <th>count</th>\n",
       "      <td>8.600000e+01</td>\n",
       "    </tr>\n",
       "    <tr>\n",
       "      <th>mean</th>\n",
       "      <td>6.505270e+05</td>\n",
       "    </tr>\n",
       "    <tr>\n",
       "      <th>std</th>\n",
       "      <td>6.804601e+05</td>\n",
       "    </tr>\n",
       "    <tr>\n",
       "      <th>min</th>\n",
       "      <td>-1.063151e+06</td>\n",
       "    </tr>\n",
       "    <tr>\n",
       "      <th>25%</th>\n",
       "      <td>2.795512e+05</td>\n",
       "    </tr>\n",
       "    <tr>\n",
       "      <th>50%</th>\n",
       "      <td>6.869005e+05</td>\n",
       "    </tr>\n",
       "    <tr>\n",
       "      <th>75%</th>\n",
       "      <td>1.118162e+06</td>\n",
       "    </tr>\n",
       "    <tr>\n",
       "      <th>max</th>\n",
       "      <td>2.211086e+06</td>\n",
       "    </tr>\n",
       "  </tbody>\n",
       "</table>\n",
       "</div>"
      ],
      "text/plain": [
       "            Revenue\n",
       "count  8.600000e+01\n",
       "mean   6.505270e+05\n",
       "std    6.804601e+05\n",
       "min   -1.063151e+06\n",
       "25%    2.795512e+05\n",
       "50%    6.869005e+05\n",
       "75%    1.118162e+06\n",
       "max    2.211086e+06"
      ]
     },
     "execution_count": 6,
     "metadata": {},
     "output_type": "execute_result"
    }
   ],
   "source": [
    "df.describe()"
   ]
  },
  {
   "cell_type": "code",
   "execution_count": 7,
   "metadata": {},
   "outputs": [
    {
     "data": {
      "text/plain": [
       "Revenue    float64\n",
       "dtype: object"
      ]
     },
     "execution_count": 7,
     "metadata": {},
     "output_type": "execute_result"
    }
   ],
   "source": [
    "df.dtypes"
   ]
  },
  {
   "cell_type": "code",
   "execution_count": 8,
   "metadata": {},
   "outputs": [
    {
     "data": {
      "text/plain": [
       "<matplotlib.axes._subplots.AxesSubplot at 0x7f8fd25dc160>"
      ]
     },
     "execution_count": 8,
     "metadata": {},
     "output_type": "execute_result"
    },
    {
     "data": {
      "image/png": "[encoded data removed]",
      "text/plain": [
       "<Figure size 432x288 with 1 Axes>"
      ]
     },
     "metadata": {
      "needs_background": "light"
     },
     "output_type": "display_data"
    }
   ],
   "source": [
    "# Plot the Revenue\n",
    "\n",
    "df['Revenue'].plot(kind='line')"
   ]
  },
  {
   "cell_type": "code",
   "execution_count": 9,
   "metadata": {},
   "outputs": [
    {
     "data": {
      "text/plain": [
       "Text(0,0.5,'Occurrence')"
      ]
     },
     "execution_count": 9,
     "metadata": {},
     "output_type": "execute_result"
    },
    {
     "data": {
      "image/png": "[encoded data removed]",
      "text/plain": [
       "<Figure size 432x288 with 1 Axes>"
      ]
     },
     "metadata": {},
     "output_type": "display_data"
    }
   ],
   "source": [
    "# Plot the histogram of the Revenue\n",
    "\n",
    "sns.set_style('whitegrid')\n",
    "fig, ax = plt.subplots()\n",
    "df['Revenue'].hist(ax=ax, bins=20)\n",
    "ax.tick_params(labelsize=10)\n",
    "ax.set_xlabel('Revenue', fontsize=10)\n",
    "ax.set_ylabel('Occurrence', fontsize=10)"
   ]
  },
  {
   "cell_type": "code",
   "execution_count": 10,
   "metadata": {},
   "outputs": [
    {
     "data": {
      "text/html": [
       "<style  type=\"text/css\" >\n",
       "    #T_116d0ba8_fd95_11e8_b31c_0242ac110002row0_col0 {\n",
       "            color:  black;\n",
       "            : ;\n",
       "        }    #T_116d0ba8_fd95_11e8_b31c_0242ac110002row1_col0 {\n",
       "            color:  black;\n",
       "            : ;\n",
       "        }    #T_116d0ba8_fd95_11e8_b31c_0242ac110002row2_col0 {\n",
       "            color:  black;\n",
       "            : ;\n",
       "        }    #T_116d0ba8_fd95_11e8_b31c_0242ac110002row3_col0 {\n",
       "            color:  black;\n",
       "            : ;\n",
       "        }    #T_116d0ba8_fd95_11e8_b31c_0242ac110002row4_col0 {\n",
       "            color:  black;\n",
       "            : ;\n",
       "        }    #T_116d0ba8_fd95_11e8_b31c_0242ac110002row5_col0 {\n",
       "            color:  black;\n",
       "            : ;\n",
       "        }    #T_116d0ba8_fd95_11e8_b31c_0242ac110002row6_col0 {\n",
       "            color:  red;\n",
       "            : ;\n",
       "        }    #T_116d0ba8_fd95_11e8_b31c_0242ac110002row7_col0 {\n",
       "            color:  black;\n",
       "            : ;\n",
       "        }    #T_116d0ba8_fd95_11e8_b31c_0242ac110002row8_col0 {\n",
       "            color:  black;\n",
       "            : ;\n",
       "        }    #T_116d0ba8_fd95_11e8_b31c_0242ac110002row9_col0 {\n",
       "            color:  black;\n",
       "            : ;\n",
       "        }    #T_116d0ba8_fd95_11e8_b31c_0242ac110002row10_col0 {\n",
       "            color:  black;\n",
       "            : ;\n",
       "        }    #T_116d0ba8_fd95_11e8_b31c_0242ac110002row11_col0 {\n",
       "            color:  black;\n",
       "            : ;\n",
       "        }    #T_116d0ba8_fd95_11e8_b31c_0242ac110002row12_col0 {\n",
       "            color:  black;\n",
       "            : ;\n",
       "        }    #T_116d0ba8_fd95_11e8_b31c_0242ac110002row13_col0 {\n",
       "            color:  black;\n",
       "            : ;\n",
       "        }    #T_116d0ba8_fd95_11e8_b31c_0242ac110002row14_col0 {\n",
       "            color:  black;\n",
       "            : ;\n",
       "        }    #T_116d0ba8_fd95_11e8_b31c_0242ac110002row15_col0 {\n",
       "            color:  black;\n",
       "            : ;\n",
       "        }    #T_116d0ba8_fd95_11e8_b31c_0242ac110002row16_col0 {\n",
       "            color:  black;\n",
       "            : ;\n",
       "        }    #T_116d0ba8_fd95_11e8_b31c_0242ac110002row17_col0 {\n",
       "            color:  black;\n",
       "            : ;\n",
       "        }    #T_116d0ba8_fd95_11e8_b31c_0242ac110002row18_col0 {\n",
       "            color:  black;\n",
       "            : ;\n",
       "        }    #T_116d0ba8_fd95_11e8_b31c_0242ac110002row19_col0 {\n",
       "            color:  black;\n",
       "            : ;\n",
       "        }    #T_116d0ba8_fd95_11e8_b31c_0242ac110002row20_col0 {\n",
       "            color:  black;\n",
       "            : ;\n",
       "        }    #T_116d0ba8_fd95_11e8_b31c_0242ac110002row21_col0 {\n",
       "            color:  black;\n",
       "            : ;\n",
       "        }    #T_116d0ba8_fd95_11e8_b31c_0242ac110002row22_col0 {\n",
       "            color:  black;\n",
       "            : ;\n",
       "        }    #T_116d0ba8_fd95_11e8_b31c_0242ac110002row23_col0 {\n",
       "            color:  black;\n",
       "            : ;\n",
       "        }    #T_116d0ba8_fd95_11e8_b31c_0242ac110002row24_col0 {\n",
       "            color:  black;\n",
       "            : ;\n",
       "        }    #T_116d0ba8_fd95_11e8_b31c_0242ac110002row25_col0 {\n",
       "            color:  black;\n",
       "            : ;\n",
       "        }    #T_116d0ba8_fd95_11e8_b31c_0242ac110002row26_col0 {\n",
       "            color:  black;\n",
       "            background-color:  yellow;\n",
       "        }    #T_116d0ba8_fd95_11e8_b31c_0242ac110002row27_col0 {\n",
       "            color:  black;\n",
       "            : ;\n",
       "        }    #T_116d0ba8_fd95_11e8_b31c_0242ac110002row28_col0 {\n",
       "            color:  black;\n",
       "            : ;\n",
       "        }</style>  \n",
       "<table id=\"T_116d0ba8_fd95_11e8_b31c_0242ac110002\" > \n",
       "<thead>    <tr> \n",
       "        <th class=\"blank level0\" ></th> \n",
       "        <th class=\"col_heading level0 col0\" >Revenue</th> \n",
       "    </tr>    <tr> \n",
       "        <th class=\"index_name level0\" >Date</th> \n",
       "        <th class=\"blank\" ></th> \n",
       "    </tr></thead> \n",
       "<tbody>    <tr> \n",
       "        <th id=\"T_116d0ba8_fd95_11e8_b31c_0242ac110002level0_row0\" class=\"row_heading level0 row0\" >2009-03-31 00:00:00</th> \n",
       "        <td id=\"T_116d0ba8_fd95_11e8_b31c_0242ac110002row0_col0\" class=\"data row0 col0\" >738778</td> \n",
       "    </tr>    <tr> \n",
       "        <th id=\"T_116d0ba8_fd95_11e8_b31c_0242ac110002level0_row1\" class=\"row_heading level0 row1\" >2009-06-30 00:00:00</th> \n",
       "        <td id=\"T_116d0ba8_fd95_11e8_b31c_0242ac110002row1_col0\" class=\"data row1 col0\" >155446</td> \n",
       "    </tr>    <tr> \n",
       "        <th id=\"T_116d0ba8_fd95_11e8_b31c_0242ac110002level0_row2\" class=\"row_heading level0 row2\" >2009-09-30 00:00:00</th> \n",
       "        <td id=\"T_116d0ba8_fd95_11e8_b31c_0242ac110002row2_col0\" class=\"data row2 col0\" >266971</td> \n",
       "    </tr>    <tr> \n",
       "        <th id=\"T_116d0ba8_fd95_11e8_b31c_0242ac110002level0_row3\" class=\"row_heading level0 row3\" >2009-12-31 00:00:00</th> \n",
       "        <td id=\"T_116d0ba8_fd95_11e8_b31c_0242ac110002row3_col0\" class=\"data row3 col0\" >534184</td> \n",
       "    </tr>    <tr> \n",
       "        <th id=\"T_116d0ba8_fd95_11e8_b31c_0242ac110002level0_row4\" class=\"row_heading level0 row4\" >2010-03-31 00:00:00</th> \n",
       "        <td id=\"T_116d0ba8_fd95_11e8_b31c_0242ac110002row4_col0\" class=\"data row4 col0\" >699454</td> \n",
       "    </tr>    <tr> \n",
       "        <th id=\"T_116d0ba8_fd95_11e8_b31c_0242ac110002level0_row5\" class=\"row_heading level0 row5\" >2010-06-30 00:00:00</th> \n",
       "        <td id=\"T_116d0ba8_fd95_11e8_b31c_0242ac110002row5_col0\" class=\"data row5 col0\" >424149</td> \n",
       "    </tr>    <tr> \n",
       "        <th id=\"T_116d0ba8_fd95_11e8_b31c_0242ac110002level0_row6\" class=\"row_heading level0 row6\" >2010-09-30 00:00:00</th> \n",
       "        <td id=\"T_116d0ba8_fd95_11e8_b31c_0242ac110002row6_col0\" class=\"data row6 col0\" >-436496</td> \n",
       "    </tr>    <tr> \n",
       "        <th id=\"T_116d0ba8_fd95_11e8_b31c_0242ac110002level0_row7\" class=\"row_heading level0 row7\" >2010-12-31 00:00:00</th> \n",
       "        <td id=\"T_116d0ba8_fd95_11e8_b31c_0242ac110002row7_col0\" class=\"data row7 col0\" >676494</td> \n",
       "    </tr>    <tr> \n",
       "        <th id=\"T_116d0ba8_fd95_11e8_b31c_0242ac110002level0_row8\" class=\"row_heading level0 row8\" >2011-03-31 00:00:00</th> \n",
       "        <td id=\"T_116d0ba8_fd95_11e8_b31c_0242ac110002row8_col0\" class=\"data row8 col0\" >36877.3</td> \n",
       "    </tr>    <tr> \n",
       "        <th id=\"T_116d0ba8_fd95_11e8_b31c_0242ac110002level0_row9\" class=\"row_heading level0 row9\" >2011-06-30 00:00:00</th> \n",
       "        <td id=\"T_116d0ba8_fd95_11e8_b31c_0242ac110002row9_col0\" class=\"data row9 col0\" >637714</td> \n",
       "    </tr>    <tr> \n",
       "        <th id=\"T_116d0ba8_fd95_11e8_b31c_0242ac110002level0_row10\" class=\"row_heading level0 row10\" >2011-09-30 00:00:00</th> \n",
       "        <td id=\"T_116d0ba8_fd95_11e8_b31c_0242ac110002row10_col0\" class=\"data row10 col0\" >751568</td> \n",
       "    </tr>    <tr> \n",
       "        <th id=\"T_116d0ba8_fd95_11e8_b31c_0242ac110002level0_row11\" class=\"row_heading level0 row11\" >2011-12-31 00:00:00</th> \n",
       "        <td id=\"T_116d0ba8_fd95_11e8_b31c_0242ac110002row11_col0\" class=\"data row11 col0\" >582501</td> \n",
       "    </tr>    <tr> \n",
       "        <th id=\"T_116d0ba8_fd95_11e8_b31c_0242ac110002level0_row12\" class=\"row_heading level0 row12\" >2012-03-31 00:00:00</th> \n",
       "        <td id=\"T_116d0ba8_fd95_11e8_b31c_0242ac110002row12_col0\" class=\"data row12 col0\" >624902</td> \n",
       "    </tr>    <tr> \n",
       "        <th id=\"T_116d0ba8_fd95_11e8_b31c_0242ac110002level0_row13\" class=\"row_heading level0 row13\" >2012-06-30 00:00:00</th> \n",
       "        <td id=\"T_116d0ba8_fd95_11e8_b31c_0242ac110002row13_col0\" class=\"data row13 col0\" >353799</td> \n",
       "    </tr>    <tr> \n",
       "        <th id=\"T_116d0ba8_fd95_11e8_b31c_0242ac110002level0_row14\" class=\"row_heading level0 row14\" >2012-09-30 00:00:00</th> \n",
       "        <td id=\"T_116d0ba8_fd95_11e8_b31c_0242ac110002row14_col0\" class=\"data row14 col0\" >442650</td> \n",
       "    </tr>    <tr> \n",
       "        <th id=\"T_116d0ba8_fd95_11e8_b31c_0242ac110002level0_row15\" class=\"row_heading level0 row15\" >2012-12-31 00:00:00</th> \n",
       "        <td id=\"T_116d0ba8_fd95_11e8_b31c_0242ac110002row15_col0\" class=\"data row15 col0\" >996526</td> \n",
       "    </tr>    <tr> \n",
       "        <th id=\"T_116d0ba8_fd95_11e8_b31c_0242ac110002level0_row16\" class=\"row_heading level0 row16\" >2013-03-31 00:00:00</th> \n",
       "        <td id=\"T_116d0ba8_fd95_11e8_b31c_0242ac110002row16_col0\" class=\"data row16 col0\" >1.01141e+06</td> \n",
       "    </tr>    <tr> \n",
       "        <th id=\"T_116d0ba8_fd95_11e8_b31c_0242ac110002level0_row17\" class=\"row_heading level0 row17\" >2013-06-30 00:00:00</th> \n",
       "        <td id=\"T_116d0ba8_fd95_11e8_b31c_0242ac110002row17_col0\" class=\"data row17 col0\" >945837</td> \n",
       "    </tr>    <tr> \n",
       "        <th id=\"T_116d0ba8_fd95_11e8_b31c_0242ac110002level0_row18\" class=\"row_heading level0 row18\" >2013-09-30 00:00:00</th> \n",
       "        <td id=\"T_116d0ba8_fd95_11e8_b31c_0242ac110002row18_col0\" class=\"data row18 col0\" >799625</td> \n",
       "    </tr>    <tr> \n",
       "        <th id=\"T_116d0ba8_fd95_11e8_b31c_0242ac110002level0_row19\" class=\"row_heading level0 row19\" >2013-12-31 00:00:00</th> \n",
       "        <td id=\"T_116d0ba8_fd95_11e8_b31c_0242ac110002row19_col0\" class=\"data row19 col0\" >1.37565e+06</td> \n",
       "    </tr>    <tr> \n",
       "        <th id=\"T_116d0ba8_fd95_11e8_b31c_0242ac110002level0_row20\" class=\"row_heading level0 row20\" >2014-03-31 00:00:00</th> \n",
       "        <td id=\"T_116d0ba8_fd95_11e8_b31c_0242ac110002row20_col0\" class=\"data row20 col0\" >523606</td> \n",
       "    </tr>    <tr> \n",
       "        <th id=\"T_116d0ba8_fd95_11e8_b31c_0242ac110002level0_row21\" class=\"row_heading level0 row21\" >2014-06-30 00:00:00</th> \n",
       "        <td id=\"T_116d0ba8_fd95_11e8_b31c_0242ac110002row21_col0\" class=\"data row21 col0\" >774702</td> \n",
       "    </tr>    <tr> \n",
       "        <th id=\"T_116d0ba8_fd95_11e8_b31c_0242ac110002level0_row22\" class=\"row_heading level0 row22\" >2014-09-30 00:00:00</th> \n",
       "        <td id=\"T_116d0ba8_fd95_11e8_b31c_0242ac110002row22_col0\" class=\"data row22 col0\" >531300</td> \n",
       "    </tr>    <tr> \n",
       "        <th id=\"T_116d0ba8_fd95_11e8_b31c_0242ac110002level0_row23\" class=\"row_heading level0 row23\" >2014-12-31 00:00:00</th> \n",
       "        <td id=\"T_116d0ba8_fd95_11e8_b31c_0242ac110002row23_col0\" class=\"data row23 col0\" >439195</td> \n",
       "    </tr>    <tr> \n",
       "        <th id=\"T_116d0ba8_fd95_11e8_b31c_0242ac110002level0_row24\" class=\"row_heading level0 row24\" >2015-03-31 00:00:00</th> \n",
       "        <td id=\"T_116d0ba8_fd95_11e8_b31c_0242ac110002row24_col0\" class=\"data row24 col0\" >924814</td> \n",
       "    </tr>    <tr> \n",
       "        <th id=\"T_116d0ba8_fd95_11e8_b31c_0242ac110002level0_row25\" class=\"row_heading level0 row25\" >2015-06-30 00:00:00</th> \n",
       "        <td id=\"T_116d0ba8_fd95_11e8_b31c_0242ac110002row25_col0\" class=\"data row25 col0\" >950560</td> \n",
       "    </tr>    <tr> \n",
       "        <th id=\"T_116d0ba8_fd95_11e8_b31c_0242ac110002level0_row26\" class=\"row_heading level0 row26\" >2015-09-30 00:00:00</th> \n",
       "        <td id=\"T_116d0ba8_fd95_11e8_b31c_0242ac110002row26_col0\" class=\"data row26 col0\" >1.43734e+06</td> \n",
       "    </tr>    <tr> \n",
       "        <th id=\"T_116d0ba8_fd95_11e8_b31c_0242ac110002level0_row27\" class=\"row_heading level0 row27\" >2015-12-31 00:00:00</th> \n",
       "        <td id=\"T_116d0ba8_fd95_11e8_b31c_0242ac110002row27_col0\" class=\"data row27 col0\" >1.20757e+06</td> \n",
       "    </tr>    <tr> \n",
       "        <th id=\"T_116d0ba8_fd95_11e8_b31c_0242ac110002level0_row28\" class=\"row_heading level0 row28\" >2016-03-31 00:00:00</th> \n",
       "        <td id=\"T_116d0ba8_fd95_11e8_b31c_0242ac110002row28_col0\" class=\"data row28 col0\" >361980</td> \n",
       "    </tr></tbody> \n",
       "</table> "
      ],
      "text/plain": [
       "<pandas.io.formats.style.Styler at 0x7f8fc794df28>"
      ]
     },
     "execution_count": 10,
     "metadata": {},
     "output_type": "execute_result"
    }
   ],
   "source": [
    "# Summarizing Stocks by Quarter\n",
    "# Highligh - Max Revenue\n",
    "# Red - Revenue Loss\n",
    "\n",
    "dfq = df.resample('Q').mean()\n",
    "\n",
    "dfq.style.\\\n",
    "    applymap(color_negative_red).\\\n",
    "    apply(highlight_max)"
   ]
  },
  {
   "cell_type": "code",
   "execution_count": 11,
   "metadata": {},
   "outputs": [
    {
     "data": {
      "text/plain": [
       "<matplotlib.axes._subplots.AxesSubplot at 0x7f8fca1ffb38>"
      ]
     },
     "execution_count": 11,
     "metadata": {},
     "output_type": "execute_result"
    },
    {
     "data": {
      "image/png": "[encoded data removed]",
      "text/plain": [
       "<Figure size 432x288 with 1 Axes>"
      ]
     },
     "metadata": {},
     "output_type": "display_data"
    }
   ],
   "source": [
    "dfq.plot(kind='bar')"
   ]
  },
  {
   "cell_type": "code",
   "execution_count": 12,
   "metadata": {},
   "outputs": [
    {
     "data": {
      "text/html": [
       "<style  type=\"text/css\" >\n",
       "    #T_11acccd4_fd95_11e8_b31c_0242ac110002row0_col0 {\n",
       "            color:  black;\n",
       "            : ;\n",
       "        }    #T_11acccd4_fd95_11e8_b31c_0242ac110002row1_col0 {\n",
       "            color:  black;\n",
       "            : ;\n",
       "        }    #T_11acccd4_fd95_11e8_b31c_0242ac110002row2_col0 {\n",
       "            color:  black;\n",
       "            : ;\n",
       "        }    #T_11acccd4_fd95_11e8_b31c_0242ac110002row3_col0 {\n",
       "            color:  black;\n",
       "            : ;\n",
       "        }    #T_11acccd4_fd95_11e8_b31c_0242ac110002row4_col0 {\n",
       "            color:  black;\n",
       "            : ;\n",
       "        }    #T_11acccd4_fd95_11e8_b31c_0242ac110002row5_col0 {\n",
       "            color:  black;\n",
       "            : ;\n",
       "        }    #T_11acccd4_fd95_11e8_b31c_0242ac110002row6_col0 {\n",
       "            color:  black;\n",
       "            background-color:  yellow;\n",
       "        }    #T_11acccd4_fd95_11e8_b31c_0242ac110002row7_col0 {\n",
       "            color:  black;\n",
       "            : ;\n",
       "        }</style>  \n",
       "<table id=\"T_11acccd4_fd95_11e8_b31c_0242ac110002\" > \n",
       "<thead>    <tr> \n",
       "        <th class=\"blank level0\" ></th> \n",
       "        <th class=\"col_heading level0 col0\" >Revenue</th> \n",
       "    </tr>    <tr> \n",
       "        <th class=\"index_name level0\" >Date</th> \n",
       "        <th class=\"blank\" ></th> \n",
       "    </tr></thead> \n",
       "<tbody>    <tr> \n",
       "        <th id=\"T_11acccd4_fd95_11e8_b31c_0242ac110002level0_row0\" class=\"row_heading level0 row0\" >2009-12-31 00:00:00</th> \n",
       "        <td id=\"T_11acccd4_fd95_11e8_b31c_0242ac110002row0_col0\" class=\"data row0 col0\" >423845</td> \n",
       "    </tr>    <tr> \n",
       "        <th id=\"T_11acccd4_fd95_11e8_b31c_0242ac110002level0_row1\" class=\"row_heading level0 row1\" >2010-12-31 00:00:00</th> \n",
       "        <td id=\"T_11acccd4_fd95_11e8_b31c_0242ac110002row1_col0\" class=\"data row1 col0\" >340900</td> \n",
       "    </tr>    <tr> \n",
       "        <th id=\"T_11acccd4_fd95_11e8_b31c_0242ac110002level0_row2\" class=\"row_heading level0 row2\" >2011-12-31 00:00:00</th> \n",
       "        <td id=\"T_11acccd4_fd95_11e8_b31c_0242ac110002row2_col0\" class=\"data row2 col0\" >502165</td> \n",
       "    </tr>    <tr> \n",
       "        <th id=\"T_11acccd4_fd95_11e8_b31c_0242ac110002level0_row3\" class=\"row_heading level0 row3\" >2012-12-31 00:00:00</th> \n",
       "        <td id=\"T_11acccd4_fd95_11e8_b31c_0242ac110002row3_col0\" class=\"data row3 col0\" >604469</td> \n",
       "    </tr>    <tr> \n",
       "        <th id=\"T_11acccd4_fd95_11e8_b31c_0242ac110002level0_row4\" class=\"row_heading level0 row4\" >2013-12-31 00:00:00</th> \n",
       "        <td id=\"T_11acccd4_fd95_11e8_b31c_0242ac110002row4_col0\" class=\"data row4 col0\" >1.03313e+06</td> \n",
       "    </tr>    <tr> \n",
       "        <th id=\"T_11acccd4_fd95_11e8_b31c_0242ac110002level0_row5\" class=\"row_heading level0 row5\" >2014-12-31 00:00:00</th> \n",
       "        <td id=\"T_11acccd4_fd95_11e8_b31c_0242ac110002row5_col0\" class=\"data row5 col0\" >567201</td> \n",
       "    </tr>    <tr> \n",
       "        <th id=\"T_11acccd4_fd95_11e8_b31c_0242ac110002level0_row6\" class=\"row_heading level0 row6\" >2015-12-31 00:00:00</th> \n",
       "        <td id=\"T_11acccd4_fd95_11e8_b31c_0242ac110002row6_col0\" class=\"data row6 col0\" >1.13007e+06</td> \n",
       "    </tr>    <tr> \n",
       "        <th id=\"T_11acccd4_fd95_11e8_b31c_0242ac110002level0_row7\" class=\"row_heading level0 row7\" >2016-12-31 00:00:00</th> \n",
       "        <td id=\"T_11acccd4_fd95_11e8_b31c_0242ac110002row7_col0\" class=\"data row7 col0\" >361980</td> \n",
       "    </tr></tbody> \n",
       "</table> "
      ],
      "text/plain": [
       "<pandas.io.formats.style.Styler at 0x7f8fc7325a58>"
      ]
     },
     "execution_count": 12,
     "metadata": {},
     "output_type": "execute_result"
    }
   ],
   "source": [
    "# Summarizing Stocks by Year\n",
    "# Highligh - Max Revenue\n",
    "# Red - Revenue Loss\n",
    "\n",
    "dfy = df.resample('A-DEC').mean()\n",
    "\n",
    "dfy.style.\\\n",
    "    applymap(color_negative_red).\\\n",
    "    apply(highlight_max)"
   ]
  },
  {
   "cell_type": "code",
   "execution_count": 13,
   "metadata": {},
   "outputs": [
    {
     "data": {
      "text/plain": [
       "<matplotlib.axes._subplots.AxesSubplot at 0x7f8fc735b390>"
      ]
     },
     "execution_count": 13,
     "metadata": {},
     "output_type": "execute_result"
    },
    {
     "data": {
      "image/png": "[encoded data removed]",
      "text/plain": [
       "<Figure size 432x288 with 1 Axes>"
      ]
     },
     "metadata": {},
     "output_type": "display_data"
    }
   ],
   "source": [
    "# Revenue Per year\n",
    "\n",
    "dfy.plot(kind='Bar')"
   ]
  },
  {
   "cell_type": "code",
   "execution_count": null,
   "metadata": {},
   "outputs": [],
   "source": []
  }
 ],
 "metadata": {
  "kernelspec": {
   "display_name": "Python 3",
   "language": "python",
   "name": "python3"
  },
  "language_info": {
   "codemirror_mode": {
    "name": "ipython",
    "version": 3
   },
   "file_extension": ".py",
   "mimetype": "text/x-python",
   "name": "python",
   "nbconvert_exporter": "python",
   "pygments_lexer": "ipython3",
   "version": "3.6.5"
  }
 },
 "nbformat": 4,
 "nbformat_minor": 2
}
